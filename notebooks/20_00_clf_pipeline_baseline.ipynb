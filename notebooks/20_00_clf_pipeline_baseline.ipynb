{
 "cells": [
  {
   "attachments": {},
   "cell_type": "markdown",
   "metadata": {},
   "source": [
    "# Overview"
   ]
  },
  {
   "attachments": {},
   "cell_type": "markdown",
   "metadata": {},
   "source": [
    "**GENERAL THOUGHTS:**\n",
    "- How to handle SKUs with mulitple components? Does it make more sense to combine them into a single row? -> might want to try this as a next step\n",
    "\n",
    "\n",
    "**DATA PREPROCESSING:**  \n",
    "Imbalanced data:\n",
    "- over_sampling for imbalanced data.\n",
    "- cost-sensitive learning for imbalanced data.\n",
    "\n",
    "continuous data:\n",
    "- Impute missing data: SimpleImputer(strategy='median').\n",
    "- Standardize data: StandardScaler().\n",
    "\n",
    "categorical data:\n",
    "- Impute missing data: SimpleImputer(strategy='most_frequent').\n",
    "- Ordinal & Nominal data encoding: OrdinalEncoder(handle_unknown='use_encoded_value', unknown_value=-1).\n",
    "- Unknown values ecoding and reordering of ordinal encoding: custom encoder \"OrdinalEncoderExtensionUnknowns()\".\n",
    "\n",
    "target data:\n",
    "- target encoding: OrdinalEncoder(handle_unknown='use_encoded_value', unknown_value=-1)\n",
    "\n",
    "\n",
    "**MULTI-CLASS CLASSIFIER:**\n",
    "- Overview models to be considered:  \n",
    "  - Baseline model: DummyClassifier(strategy=\"most_frequent\")\n",
    "\n",
    "**FINAL MODEL PERFORMANCE:**  \n",
    "- Evaluation of the baseline model based on:\n",
    "  - check model learning using cross validation with 5 folds.\n",
    "  - evaluation performance on test data based on classification report\n",
    "- Tracking of the best model with MLFlow for performance benchmarking with other approaches (Baseline, PyCaret, AutoGluon, PyTorch, ...) within the Repository."
   ]
  },
  {
   "cell_type": "code",
   "execution_count": null,
   "metadata": {},
   "outputs": [],
   "source": [
    "import datetime\n",
    "import os\n",
    "import sys\n",
    "\n",
    "import yaml\n",
    "\n",
    "import matplotlib.pyplot as plt\n",
    "import mlflow\n",
    "import numpy as np\n",
    "import pandas as pd\n",
    "from sklearn.compose import ColumnTransformer\n",
    "from sklearn.dummy import DummyClassifier\n",
    "from sklearn.impute import SimpleImputer\n",
    "from sklearn.metrics import classification_report, f1_score\n",
    "from sklearn.model_selection import train_test_split\n",
    "from sklearn.pipeline import Pipeline\n",
    "from sklearn.preprocessing import (\n",
    "    LabelEncoder,\n",
    "    OrdinalEncoder,\n",
    "    PowerTransformer,\n",
    ")\n",
    "\n",
    "# ignore warnings\n",
    "import warnings\n",
    "\n",
    "warnings.filterwarnings(\"ignore\")\n",
    "\n",
    "with open(\"../env_vars.yml\", \"r\") as file:\n",
    "    config = yaml.safe_load(file)\n",
    "\n",
    "# custom imports\n",
    "sys.path.append(config[\"project_directory\"])\n",
    "from src import utils"
   ]
  },
  {
   "cell_type": "code",
   "execution_count": null,
   "metadata": {},
   "outputs": [],
   "source": [
    "# General settings within the data science workflow\n",
    "\n",
    "SEED = 42  # Ensure same data split as in other notebooks"
   ]
  },
  {
   "attachments": {},
   "cell_type": "markdown",
   "metadata": {},
   "source": [
    "# Load data and prepare data"
   ]
  },
  {
   "cell_type": "code",
   "execution_count": null,
   "metadata": {},
   "outputs": [],
   "source": [
    "# load data\n",
    "df = pd.read_csv(f\"{config['data_directory']}/output/df_ml.csv\", sep=\"\\t\")\n",
    "\n",
    "# prepare data\n",
    "df[\"material_number\"] = df[\"material_number\"].astype(\"object\")\n",
    "df_sub = df[\n",
    "    [\n",
    "        \"material_number\",\n",
    "        \"brand\",\n",
    "        \"product_area\",\n",
    "        \"core_segment\",\n",
    "        \"component\",\n",
    "        \"manufactoring_location\",\n",
    "        \"characteristic_value\",\n",
    "        \"material_weight\",\n",
    "        \"packaging_code\",\n",
    "        \"packaging_category\",\n",
    "    ]\n",
    "]\n",
    "df_sub = df_sub.dropna()"
   ]
  },
  {
   "cell_type": "code",
   "execution_count": 7,
   "metadata": {},
   "outputs": [
    {
     "name": "stdout",
     "output_type": "stream",
     "text": [
      "<class 'pandas.core.frame.DataFrame'>\n",
      "Index: 75913 entries, 0 to 82976\n",
      "Data columns (total 10 columns):\n",
      " #   Column                  Non-Null Count  Dtype  \n",
      "---  ------                  --------------  -----  \n",
      " 0   material_number         75913 non-null  object \n",
      " 1   brand                   75913 non-null  object \n",
      " 2   product_area            75913 non-null  object \n",
      " 3   core_segment            75913 non-null  object \n",
      " 4   component               75913 non-null  object \n",
      " 5   manufactoring_location  75913 non-null  object \n",
      " 6   characteristic_value    75913 non-null  object \n",
      " 7   material_weight         75913 non-null  float64\n",
      " 8   packaging_code          75913 non-null  object \n",
      " 9   packaging_category      75913 non-null  object \n",
      "dtypes: float64(1), object(9)\n",
      "memory usage: 6.4+ MB\n"
     ]
    }
   ],
   "source": [
    "df_sub.info()"
   ]
  },
  {
   "cell_type": "code",
   "execution_count": 8,
   "metadata": {},
   "outputs": [
    {
     "data": {
      "text/html": [
       "<div>\n",
       "<style scoped>\n",
       "    .dataframe tbody tr th:only-of-type {\n",
       "        vertical-align: middle;\n",
       "    }\n",
       "\n",
       "    .dataframe tbody tr th {\n",
       "        vertical-align: top;\n",
       "    }\n",
       "\n",
       "    .dataframe thead th {\n",
       "        text-align: right;\n",
       "    }\n",
       "</style>\n",
       "<table border=\"1\" class=\"dataframe\">\n",
       "  <thead>\n",
       "    <tr style=\"text-align: right;\">\n",
       "      <th></th>\n",
       "      <th>material_number</th>\n",
       "      <th>brand</th>\n",
       "      <th>product_area</th>\n",
       "      <th>core_segment</th>\n",
       "      <th>component</th>\n",
       "      <th>manufactoring_location</th>\n",
       "      <th>characteristic_value</th>\n",
       "      <th>material_weight</th>\n",
       "      <th>packaging_code</th>\n",
       "      <th>packaging_category</th>\n",
       "    </tr>\n",
       "  </thead>\n",
       "  <tbody>\n",
       "    <tr>\n",
       "      <th>0</th>\n",
       "      <td>75116293</td>\n",
       "      <td>BOT</td>\n",
       "      <td>PA5</td>\n",
       "      <td>Metal Grinding</td>\n",
       "      <td>6035765C21</td>\n",
       "      <td>Distribution Center</td>\n",
       "      <td>CORRUGATED</td>\n",
       "      <td>85.00</td>\n",
       "      <td>PCode_304109</td>\n",
       "      <td>Countertop display</td>\n",
       "    </tr>\n",
       "    <tr>\n",
       "      <th>1</th>\n",
       "      <td>75116293</td>\n",
       "      <td>BOT</td>\n",
       "      <td>PA5</td>\n",
       "      <td>Metal Grinding</td>\n",
       "      <td>6035940565</td>\n",
       "      <td>Distribution Center</td>\n",
       "      <td>WOOD FREE</td>\n",
       "      <td>0.54</td>\n",
       "      <td>PCode_440854</td>\n",
       "      <td>Countertop display</td>\n",
       "    </tr>\n",
       "    <tr>\n",
       "      <th>2</th>\n",
       "      <td>75116293</td>\n",
       "      <td>BOT</td>\n",
       "      <td>PA5</td>\n",
       "      <td>Metal Grinding</td>\n",
       "      <td>6035822768</td>\n",
       "      <td>Distribution Center</td>\n",
       "      <td>MCB/GT2</td>\n",
       "      <td>22.90</td>\n",
       "      <td>PCode_834649</td>\n",
       "      <td>Countertop display</td>\n",
       "    </tr>\n",
       "    <tr>\n",
       "      <th>3</th>\n",
       "      <td>75116293</td>\n",
       "      <td>BOT</td>\n",
       "      <td>PA5</td>\n",
       "      <td>Metal Grinding</td>\n",
       "      <td>6035822768</td>\n",
       "      <td>Distribution Center</td>\n",
       "      <td>MCB/GT2</td>\n",
       "      <td>22.90</td>\n",
       "      <td>PCode_834649</td>\n",
       "      <td>Countertop display</td>\n",
       "    </tr>\n",
       "    <tr>\n",
       "      <th>4</th>\n",
       "      <td>75116293</td>\n",
       "      <td>BOT</td>\n",
       "      <td>PA5</td>\n",
       "      <td>Metal Grinding</td>\n",
       "      <td>6035765P54</td>\n",
       "      <td>Distribution Center</td>\n",
       "      <td>CORRUGATED</td>\n",
       "      <td>85.00</td>\n",
       "      <td>PCode_304109</td>\n",
       "      <td>Countertop display</td>\n",
       "    </tr>\n",
       "  </tbody>\n",
       "</table>\n",
       "</div>"
      ],
      "text/plain": [
       "  material_number brand product_area    core_segment   component  \\\n",
       "0        75116293   BOT          PA5  Metal Grinding  6035765C21   \n",
       "1        75116293   BOT          PA5  Metal Grinding  6035940565   \n",
       "2        75116293   BOT          PA5  Metal Grinding  6035822768   \n",
       "3        75116293   BOT          PA5  Metal Grinding  6035822768   \n",
       "4        75116293   BOT          PA5  Metal Grinding  6035765P54   \n",
       "\n",
       "  manufactoring_location characteristic_value  material_weight packaging_code  \\\n",
       "0    Distribution Center           CORRUGATED            85.00   PCode_304109   \n",
       "1    Distribution Center            WOOD FREE             0.54   PCode_440854   \n",
       "2    Distribution Center              MCB/GT2            22.90   PCode_834649   \n",
       "3    Distribution Center              MCB/GT2            22.90   PCode_834649   \n",
       "4    Distribution Center           CORRUGATED            85.00   PCode_304109   \n",
       "\n",
       "   packaging_category  \n",
       "0  Countertop display  \n",
       "1  Countertop display  \n",
       "2  Countertop display  \n",
       "3  Countertop display  \n",
       "4  Countertop display  "
      ]
     },
     "execution_count": 8,
     "metadata": {},
     "output_type": "execute_result"
    }
   ],
   "source": [
    "df_sub.head()"
   ]
  },
  {
   "attachments": {},
   "cell_type": "markdown",
   "metadata": {},
   "source": [
    "# Prep data for machine learning"
   ]
  },
  {
   "attachments": {},
   "cell_type": "markdown",
   "metadata": {},
   "source": [
    "## Split data into train/test"
   ]
  },
  {
   "cell_type": "code",
   "execution_count": null,
   "metadata": {},
   "outputs": [
    {
     "name": "stdout",
     "output_type": "stream",
     "text": [
      "Unique categories in y_train:  29\n",
      "Unique categories in y_test:  29\n"
     ]
    }
   ],
   "source": [
    "# Define features and target\n",
    "X = df_sub.iloc[:, :-1]\n",
    "y = df_sub.iloc[:, -1]  # the last column is the target\n",
    "\n",
    "# Generate train/test sets\n",
    "X_train, X_test, y_train, y_test = train_test_split(\n",
    "    X, y, test_size=0.3, random_state=SEED, stratify=y\n",
    ")\n",
    "\n",
    "print(\"Unique categories in y_train: \", y_train.nunique())\n",
    "print(\"Unique categories in y_test: \", y_test.nunique())"
   ]
  },
  {
   "attachments": {},
   "cell_type": "markdown",
   "metadata": {},
   "source": [
    "# Build baseline model"
   ]
  },
  {
   "cell_type": "code",
   "execution_count": null,
   "metadata": {},
   "outputs": [
    {
     "name": "stdout",
     "output_type": "stream",
     "text": [
      "Train score (f1_macro):  0.00987366292989466\n",
      "Test score (f1_macro):  0.009872974645526479\n"
     ]
    }
   ],
   "source": [
    "# train outside pipeline\n",
    "baseline_strati = DummyClassifier(strategy=\"most_frequent\", random_state=42)\n",
    "baseline_strati.fit(X=X_train, y=y_train)\n",
    "y_pred_train_baseline_strati = baseline_strati.predict(X=X_train)\n",
    "\n",
    "# Predict and calculate f1_macro score for both train and test sets\n",
    "y_pred_train = baseline_strati.predict(X_train)\n",
    "y_pred_test = baseline_strati.predict(X_test)\n",
    "train_f1_macro = f1_score(y_train, y_pred_train, average=\"macro\")\n",
    "test_f1_macro = f1_score(y_test, y_pred_test, average=\"macro\")\n",
    "print(\"Train score (f1_macro): \", train_f1_macro)\n",
    "print(\"Test score (f1_macro): \", test_f1_macro)"
   ]
  },
  {
   "attachments": {},
   "cell_type": "markdown",
   "metadata": {},
   "source": [
    "# Baseline pipeline"
   ]
  },
  {
   "attachments": {},
   "cell_type": "markdown",
   "metadata": {},
   "source": [
    "## Pre-processing pipeline"
   ]
  },
  {
   "cell_type": "code",
   "execution_count": null,
   "metadata": {},
   "outputs": [],
   "source": [
    "# DEFINE & EXECUTE PIPELINE\n",
    "# define feature processing pipeline\n",
    "numerical_features = X_train.select_dtypes(include=\"number\").columns.tolist()\n",
    "numeric_feature_pipeline = Pipeline(\n",
    "    steps=[\n",
    "        (\"impute\", SimpleImputer(strategy=\"median\")),\n",
    "        (\"log_transform\", PowerTransformer()),\n",
    "        # ('scale', MinMaxScaler())\n",
    "    ]\n",
    ")\n",
    "categorical_features = X_train.select_dtypes(exclude=\"number\").columns.tolist()\n",
    "categorical_feature_pipeline = Pipeline(\n",
    "    steps=[\n",
    "        (\"impute\", SimpleImputer(strategy=\"most_frequent\")),\n",
    "        (\"ordinal\", OrdinalEncoder(handle_unknown=\"use_encoded_value\", unknown_value=np.nan)),\n",
    "    ]\n",
    ")\n",
    "preprocess_pipeline = ColumnTransformer(\n",
    "    transformers=[\n",
    "        (\"number\", numeric_feature_pipeline, numerical_features),\n",
    "        (\"category\", categorical_feature_pipeline, categorical_features),\n",
    "    ],\n",
    "    verbose_feature_names_out=False,\n",
    ")"
   ]
  },
  {
   "attachments": {},
   "cell_type": "markdown",
   "metadata": {},
   "source": [
    "## Baseline_mode pipeline"
   ]
  },
  {
   "cell_type": "code",
   "execution_count": null,
   "metadata": {},
   "outputs": [
    {
     "name": "stdout",
     "output_type": "stream",
     "text": [
      "Train score (f1_macro):  0.00987366292989466\n",
      "Test score (f1_macro):  0.009872974645526479\n"
     ]
    },
    {
     "data": {
      "text/html": [
       "<div>\n",
       "<style scoped>\n",
       "    .dataframe tbody tr th:only-of-type {\n",
       "        vertical-align: middle;\n",
       "    }\n",
       "\n",
       "    .dataframe tbody tr th {\n",
       "        vertical-align: top;\n",
       "    }\n",
       "\n",
       "    .dataframe thead th {\n",
       "        text-align: right;\n",
       "    }\n",
       "</style>\n",
       "<table border=\"1\" class=\"dataframe\">\n",
       "  <thead>\n",
       "    <tr style=\"text-align: right;\">\n",
       "      <th></th>\n",
       "      <th>y_test</th>\n",
       "      <th>preds_y_test</th>\n",
       "    </tr>\n",
       "  </thead>\n",
       "  <tbody>\n",
       "    <tr>\n",
       "      <th>0</th>\n",
       "      <td>Paperboard pouch</td>\n",
       "      <td>Hanger/ Clip</td>\n",
       "    </tr>\n",
       "    <tr>\n",
       "      <th>1</th>\n",
       "      <td>Tube</td>\n",
       "      <td>Hanger/ Clip</td>\n",
       "    </tr>\n",
       "    <tr>\n",
       "      <th>2</th>\n",
       "      <td>Hanger/ Clip</td>\n",
       "      <td>Hanger/ Clip</td>\n",
       "    </tr>\n",
       "    <tr>\n",
       "      <th>3</th>\n",
       "      <td>Skincard</td>\n",
       "      <td>Hanger/ Clip</td>\n",
       "    </tr>\n",
       "    <tr>\n",
       "      <th>4</th>\n",
       "      <td>Blister and Insert Card</td>\n",
       "      <td>Hanger/ Clip</td>\n",
       "    </tr>\n",
       "    <tr>\n",
       "      <th>5</th>\n",
       "      <td>Hanger/ Clip</td>\n",
       "      <td>Hanger/ Clip</td>\n",
       "    </tr>\n",
       "    <tr>\n",
       "      <th>6</th>\n",
       "      <td>Blister and Insert Card</td>\n",
       "      <td>Hanger/ Clip</td>\n",
       "    </tr>\n",
       "    <tr>\n",
       "      <th>7</th>\n",
       "      <td>TightPack</td>\n",
       "      <td>Hanger/ Clip</td>\n",
       "    </tr>\n",
       "    <tr>\n",
       "      <th>8</th>\n",
       "      <td>Blister and sealed blist</td>\n",
       "      <td>Hanger/ Clip</td>\n",
       "    </tr>\n",
       "    <tr>\n",
       "      <th>9</th>\n",
       "      <td>Hanger/ Clip</td>\n",
       "      <td>Hanger/ Clip</td>\n",
       "    </tr>\n",
       "  </tbody>\n",
       "</table>\n",
       "</div>"
      ],
      "text/plain": [
       "                     y_test  preds_y_test\n",
       "0          Paperboard pouch  Hanger/ Clip\n",
       "1                      Tube  Hanger/ Clip\n",
       "2              Hanger/ Clip  Hanger/ Clip\n",
       "3                  Skincard  Hanger/ Clip\n",
       "4   Blister and Insert Card  Hanger/ Clip\n",
       "5              Hanger/ Clip  Hanger/ Clip\n",
       "6   Blister and Insert Card  Hanger/ Clip\n",
       "7                 TightPack  Hanger/ Clip\n",
       "8  Blister and sealed blist  Hanger/ Clip\n",
       "9              Hanger/ Clip  Hanger/ Clip"
      ]
     },
     "execution_count": 12,
     "metadata": {},
     "output_type": "execute_result"
    }
   ],
   "source": [
    "# Combine pipelines (pre-processing & classifier (mode))\n",
    "baseline_mode_pipeline = Pipeline(\n",
    "    steps=[\n",
    "        (\"preprocess\", preprocess_pipeline),\n",
    "        (\"baseline_mode\", DummyClassifier(strategy=\"most_frequent\", random_state=42)),\n",
    "    ]\n",
    ")\n",
    "\n",
    "# encode target variable\n",
    "label_encoder = LabelEncoder()\n",
    "y_train_encoded = pd.DataFrame(label_encoder.fit_transform(y_train))\n",
    "y_test_encoded = pd.DataFrame(label_encoder.fit_transform(y_test))\n",
    "\n",
    "# fit the pipeline\n",
    "baseline_mode_pipeline.fit(X_train, y_train_encoded)\n",
    "\n",
    "# Predict and calculate f1_macro score for both train and test sets\n",
    "y_pred_train = baseline_mode_pipeline.predict(X_train)\n",
    "preds_y_train_inverse = label_encoder.inverse_transform(y_pred_train)\n",
    "y_pred_test = baseline_mode_pipeline.predict(X_test)\n",
    "preds_y_test_inverse = label_encoder.inverse_transform(y_pred_test)\n",
    "\n",
    "train_f1_macro = f1_score(y_train, preds_y_train_inverse, average=\"macro\")\n",
    "test_f1_macro = f1_score(y_test, preds_y_test_inverse, average=\"macro\")\n",
    "\n",
    "print(\"Train score (f1_macro): \", train_f1_macro)\n",
    "print(\"Test score (f1_macro): \", test_f1_macro)\n",
    "\n",
    "# display example predictions and actual values\n",
    "y_test_dict = {\n",
    "    \"y_test\": y_test.to_numpy(),\n",
    "    \"preds_y_test\": preds_y_test_inverse,\n",
    "}\n",
    "df_y_test = pd.DataFrame(y_test_dict)\n",
    "df_y_test.head(10)"
   ]
  },
  {
   "cell_type": "markdown",
   "metadata": {},
   "source": [
    "### Performance benchmarking"
   ]
  },
  {
   "cell_type": "code",
   "execution_count": null,
   "metadata": {},
   "outputs": [
    {
     "name": "stdout",
     "output_type": "stream",
     "text": [
      "mean train performance: 0.009873456444734512\n",
      "mean test performance: 0.009873456435336218\n"
     ]
    },
    {
     "data": {
      "image/png": "[encoded data removed]",
      "text/plain": [
       "<Figure size 640x480 with 1 Axes>"
      ]
     },
     "metadata": {},
     "output_type": "display_data"
    }
   ],
   "source": [
    "best_model = baseline_mode_pipeline.steps[1][1]\n",
    "performance_train, performance_test, kf = utils.check_model_learning_CV(\n",
    "    n_splits=5,\n",
    "    model=best_model,\n",
    "    X=X,\n",
    "    y=y,\n",
    "    preprocess_pipeline=preprocess_pipeline,\n",
    "    label_encoder=label_encoder,\n",
    "    # random_state=SEED\n",
    ")\n",
    "\n",
    "print(\"mean train performance: {}\".format(performance_train.mean()))\n",
    "print(\"mean test performance: {}\".format(performance_test.mean()))\n",
    "\n",
    "folds = range(1, kf.get_n_splits() + 1)\n",
    "plt.plot(folds, performance_train, \"o-\", color=\"C0\", label=\"train\")\n",
    "plt.plot(folds, performance_test, \"o-\", color=\"C1\", label=\"test\")\n",
    "plt.legend()\n",
    "plt.grid()\n",
    "plt.xlabel(\"Number of fold\")\n",
    "plt.ylabel(\"macro average f1-score\")\n",
    "plt.show()"
   ]
  },
  {
   "cell_type": "code",
   "execution_count": null,
   "metadata": {},
   "outputs": [
    {
     "name": "stdout",
     "output_type": "stream",
     "text": [
      "                            precision    recall  f1-score   support\n",
      "\n",
      "   Blister and Insert Card       0.00      0.00      0.00      2475\n",
      "  Blister and sealed blist       0.00      0.00      0.00      2155\n",
      "            Book packaging       0.00      0.00      0.00         3\n",
      "Cardb. Sleeve w - w/o Shr.       0.00      0.00      0.00       160\n",
      "  Cardboard hanger w/o bag       0.00      0.00      0.00       115\n",
      "    Carton cover (Lid box)       0.00      0.00      0.00       142\n",
      "   Carton tube with or w/o       0.00      0.00      0.00         9\n",
      "                      Case       0.00      0.00      0.00       140\n",
      "         Corrugated carton       0.00      0.00      0.00      1009\n",
      "        Countertop display       0.00      0.00      0.00        42\n",
      "                  Envelope       0.00      0.00      0.00        88\n",
      "          Fabric packaging       0.00      0.00      0.00         4\n",
      "            Folding carton       0.00      0.00      0.00      2172\n",
      "              Hanger/ Clip       0.17      1.00      0.29      3805\n",
      "            Metal Cassette       0.00      0.00      0.00        12\n",
      "          Paperboard pouch       0.00      0.00      0.00       832\n",
      "               Plastic Box       0.00      0.00      0.00       396\n",
      "          Plastic Cassette       0.00      0.00      0.00       485\n",
      "             Plastic Pouch       0.00      0.00      0.00       524\n",
      "   Plastic bag with header       0.00      0.00      0.00       514\n",
      "  Shrink film and insert o       0.00      0.00      0.00       444\n",
      "                  Skincard       0.00      0.00      0.00       332\n",
      "                 TightPack       0.00      0.00      0.00      2313\n",
      "                 Trap Card       0.00      0.00      0.00       231\n",
      "         Trap Folding Card       0.00      0.00      0.00       644\n",
      "               Tray Packer       0.00      0.00      0.00       127\n",
      "                      Tube       0.00      0.00      0.00      3203\n",
      "                  Unpacked       0.00      0.00      0.00       393\n",
      "                Wooden box       0.00      0.00      0.00         5\n",
      "\n",
      "                  accuracy                           0.17     22774\n",
      "                 macro avg       0.01      0.03      0.01     22774\n",
      "              weighted avg       0.03      0.17      0.05     22774\n",
      "\n"
     ]
    }
   ],
   "source": [
    "# print classification report for holdout test data\n",
    "print(classification_report(df_y_test[\"y_test\"], df_y_test[\"preds_y_test\"]))\n",
    "# Store f1_macro\n",
    "report = classification_report(df_y_test[\"y_test\"], df_y_test[\"preds_y_test\"], output_dict=True)\n",
    "f1_score = report[\"accuracy\"]\n",
    "f1_macro = report[\"macro avg\"][\"f1-score\"]"
   ]
  },
  {
   "cell_type": "markdown",
   "metadata": {},
   "source": [
    "### Track performance using MLflow"
   ]
  },
  {
   "cell_type": "code",
   "execution_count": null,
   "metadata": {},
   "outputs": [],
   "source": [
    "# NOTE: Change to a meaningful name\n",
    "EXPERIMENT_NAME = \"AutoPackagingCategories\"\n",
    "RUN_NAME = \"run_Naive_MostFrequent\"\n",
    "\n",
    "# with open('../env_vars.yml', 'r') as file:\n",
    "#     env_vars = yaml.safe_load(file)\n",
    "\n",
    "mlflow_dir = config[\"mlflow_benchmark_directory\"]\n",
    "os.makedirs(mlflow_dir, exist_ok=True)\n",
    "mlflow.set_tracking_uri(\"file://\" + mlflow_dir)\n",
    "\n",
    "try:\n",
    "    experiment = mlflow.get_experiment_by_name(EXPERIMENT_NAME)\n",
    "    EXPERIMENT_ID = experiment.experiment_id\n",
    "except AttributeError:\n",
    "    EXPERIMENT_ID = mlflow.create_experiment(\n",
    "        EXPERIMENT_NAME,\n",
    "        # mlflow.set_artifact_uri(\"file://\" + project_dir + \"/artifacts/\")\n",
    "    )\n",
    "\n",
    "current_time = datetime.datetime.now()\n",
    "time_stamp = str(current_time)\n",
    "# NOTE: Change to a meaningful name for the single trial\n",
    "# exp_run_name = f\"run_MeaningfulTrialName_{time_stamp}\"\n",
    "exp_run_name = f\"{RUN_NAME}_{time_stamp}\"\n",
    "\n",
    "# Start MLflow\n",
    "with mlflow.start_run(experiment_id=EXPERIMENT_ID, run_name=exp_run_name) as run:\n",
    "\n",
    "    # Retrieve run id\n",
    "    RUN_ID = run.info.run_id\n",
    "\n",
    "    # Track parameters\n",
    "    # track pipeline configs: preprocessing_pipeline\n",
    "    mlflow.log_dict(baseline_mode_pipeline.named_steps, \"preprocessing_pipeline.json\")\n",
    "\n",
    "    # mode specfic parameters\n",
    "    mlflow.log_param(\"model\", type(baseline_mode_pipeline.steps[1][1]))\n",
    "    mlflow.log_param(\"model_configs\", baseline_mode_pipeline.steps[1][1].get_params().items())\n",
    "\n",
    "    # Track metrics\n",
    "    mlflow.log_metric(\"Train_f1_macro\", train_f1_macro)\n",
    "    mlflow.log_metric(\"TestVal_f1_macro\", test_f1_macro)\n",
    "    mlflow.log_dict(report, \"classification_report.json\")\n",
    "    mlflow.log_metric(\"Report_Test_f1_score\", f1_score)\n",
    "    mlflow.log_metric(\"Report_Test_f1_macro\", f1_macro)\n",
    "\n",
    "    # Track model\n",
    "    # mlflow.sklearn.log_model(clf, \"classifier\")"
   ]
  },
  {
   "cell_type": "code",
   "execution_count": null,
   "metadata": {},
   "outputs": [],
   "source": []
  }
 ],
 "metadata": {
  "kernelspec": {
   "display_name": "py_ml_packaging_classification_v2",
   "language": "python",
   "name": "python3"
  },
  "language_info": {
   "codemirror_mode": {
    "name": "ipython",
    "version": 3
   },
   "file_extension": ".py",
   "mimetype": "text/x-python",
   "name": "python",
   "nbconvert_exporter": "python",
   "pygments_lexer": "ipython3",
   "version": "3.11.10"
  },
  "orig_nbformat": 4
 },
 "nbformat": 4,
 "nbformat_minor": 2
}
