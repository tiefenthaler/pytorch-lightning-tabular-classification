{
 "cells": [
  {
   "cell_type": "markdown",
   "metadata": {
    "id": "S1hVrDmBEEGF"
   },
   "source": [
    "# Overview"
   ]
  },
  {
   "cell_type": "markdown",
   "metadata": {
    "id": "Dno1JWktEEGI"
   },
   "source": [
    "**GENERAL THOUGHTS:**  \n",
    "Use PyCaret (pycaret.classification) as a general way to investigate which algorithm, with automated pre-processing are (well) suited for the given tasks, as well as to investigate the potential performance based on a (large) varity of model hyper-parameters.\n",
    "The notebook includes multiple scenarios of using PyCaret:\n",
    "- including and excluding custom data pre-processing (see below)\n",
    "- including auto pre-processing by PyCaret\n",
    "- including multiple classifiers by using:\n",
    "  - multiple ml algorithms with a base configuration of their hyper-parameters defined within PyCaret\n",
    "  - \"standard\" HPO for each algorithm with a defined search space by PyCaret and random search as search strategy with 15 random hyper-parameter configurations for each algorithm. https://github.com/pycaret/pycaret/blob/master/pycaret/containers/models/classification.py\n",
    "\n",
    "**CUSTOM DATA PREPROCESSING:**\n",
    "\n",
    "Imbalanced data:\n",
    "- over_sampling for imbalanced data\n",
    "- cost-sensitive learning for imbalanced data\n",
    "\n",
    "**PyCaret MULTI-CLASS CLASSIFIERS:**\n",
    "Class weights are not considered during training when using `compare_models` or `tune_models`. As an evaluation metric `f1_macro` was choosen, which equally consideres all classes. Since training is not optimizied regarding this aspect, results could be improved for training individual models with 'create_model` which supports class weights. For comparison we neglect class weights for the reason of an easy use of PyCaret. The effect of considering class weights can vary highly depeding on the machine learning algorithm (e.g. splits in decision trees, distance calculation in KNN).\n",
    "- Overview of models to be considered using PyCaret:  \n",
    "  - [X] RandomForest\n",
    "  - [X] ExtraTrees\n",
    "  - [X] XGBoost\n",
    "  - [X] LightGBM\n",
    "  - [X] KNeughbors\n",
    "  - [X] CatBoost\n",
    "  - [X] Decision Tree Classifier\n",
    "  - [X] Gradient Boosting Classifier\n",
    "  - [X] Extreme Gradient Boosting\n",
    "  - [X] catboost\tCatBoost Classifier\n",
    "  - [X] Extra Trees Classifier\n",
    "  - [X] Random Forest Classifier\n",
    "  - [X] K Neighbors Classifier\n",
    "  - [X] Linear Discriminant Analysis\n",
    "  - [X] Ridge Classifier\n",
    "  - [X] Naive Bayes\n",
    "  - [X] Quadratic Discriminant Analysis\n",
    "  - [X] Ada Boost Classifier\n",
    "  - [X] Light Gradient Boosting Machine\n",
    "  - [X] Logistic Regression\n",
    "  - [X] SVM - Linear Kernel\n",
    "  - [X] Dummy Classifier\n",
    "\n",
    "**FINAL MODEL PERFORMANCE:**  \n",
    "- Evaluation of the best model from AutoML, including Experiment checkpointing.\n",
    "- Loading final model from checkpoint for prediction on test set for evaluation based on classification report\n",
    "- Tracking of the best model with MLFlow for performance benchmarking with other approaches (Baseline, PyCaret, AutoGluon, PyTorch, ...) within the Repository."
   ]
  },
  {
   "cell_type": "code",
   "execution_count": 1,
   "metadata": {
    "executionInfo": {
     "elapsed": 466,
     "status": "ok",
     "timestamp": 1731541922439,
     "user": {
      "displayName": "david",
      "userId": "08934139501495265978"
     },
     "user_tz": -60
    },
    "id": "5jkjFEv6EEGJ"
   },
   "outputs": [],
   "source": [
    "colab = False"
   ]
  },
  {
   "cell_type": "code",
   "execution_count": 2,
   "metadata": {
    "colab": {
     "base_uri": "https://localhost:8080/"
    },
    "executionInfo": {
     "elapsed": 22447,
     "status": "ok",
     "timestamp": 1731541832448,
     "user": {
      "displayName": "david",
      "userId": "08934139501495265978"
     },
     "user_tz": -60
    },
    "id": "9vLV1c5-EEGL",
    "outputId": "1742dc2d-6734-4f09-82e9-8726d6fa5ce6"
   },
   "outputs": [],
   "source": [
    "if colab:\n",
    "  # Import the library to mount Google Drive\n",
    "  from google.colab import drive\n",
    "  # Mount the Google Drive at /content/drive\n",
    "  drive.mount('/content/drive')\n",
    "  # Verify by listing the files in the drive\n",
    "  # !ls /content/drive/My\\ Drive/\n",
    "  # current dir in colab\n",
    "  !pwd"
   ]
  },
  {
   "cell_type": "code",
   "execution_count": 3,
   "metadata": {
    "colab": {
     "base_uri": "https://localhost:8080/",
     "height": 1000
    },
    "executionInfo": {
     "elapsed": 68331,
     "status": "ok",
     "timestamp": 1731541900777,
     "user": {
      "displayName": "david",
      "userId": "08934139501495265978"
     },
     "user_tz": -60
    },
    "id": "EqVEWxVLEEGL",
    "outputId": "3231a9fc-0fe8-4b1f-d50b-187de8001b86"
   },
   "outputs": [],
   "source": [
    "if colab:\n",
    "    !pip install --upgrade optuna==3.5.0\n",
    "    # !pip install --upgrade optuna.integration\n",
    "    !pip install --upgrade mlflow\n",
    "    !pip install --upgrade PyCaret"
   ]
  },
  {
   "cell_type": "code",
   "execution_count": 4,
   "metadata": {
    "colab": {
     "base_uri": "https://localhost:8080/",
     "height": 35
    },
    "executionInfo": {
     "elapsed": 18078,
     "status": "ok",
     "timestamp": 1731541940514,
     "user": {
      "displayName": "david",
      "userId": "08934139501495265978"
     },
     "user_tz": -60
    },
    "id": "2hnHaBOoEEGL",
    "outputId": "33bb3839-5ace-401a-de60-b1e002c11e28"
   },
   "outputs": [
    {
     "data": {
      "text/plain": [
       "'3.3.1'"
      ]
     },
     "execution_count": 4,
     "metadata": {},
     "output_type": "execute_result"
    }
   ],
   "source": [
    "import os\n",
    "import sys\n",
    "import yaml\n",
    "import datetime\n",
    "\n",
    "import numpy as np\n",
    "import pandas as pd\n",
    "import matplotlib.pyplot as plt\n",
    "import seaborn as sns\n",
    "\n",
    "import sklearn\n",
    "from sklearn.pipeline import Pipeline, make_pipeline\n",
    "from sklearn.compose import ColumnTransformer\n",
    "from sklearn.model_selection import train_test_split\n",
    "from sklearn.impute import SimpleImputer\n",
    "from sklearn.preprocessing import LabelEncoder, OrdinalEncoder, OneHotEncoder, MinMaxScaler, StandardScaler\n",
    "from sklearn.preprocessing import PowerTransformer\n",
    "from sklearn.metrics import classification_report, f1_score\n",
    "from sklearn.utils import class_weight\n",
    "from sklearn.utils.class_weight import compute_sample_weight\n",
    "import imblearn\n",
    "from imblearn.over_sampling import RandomOverSampler\n",
    "\n",
    "import pycaret\n",
    "# import ClassificationExperiment\n",
    "from pycaret.classification import *\n",
    "# from pycaret.classification import ClassificationExperiment\n",
    "\n",
    "import mlflow\n",
    "\n",
    "# ignore warnings\n",
    "import warnings\n",
    "warnings.filterwarnings('ignore')\n",
    "\n",
    "# check installed version\n",
    "pycaret.__version__"
   ]
  },
  {
   "cell_type": "code",
   "execution_count": 6,
   "metadata": {
    "executionInfo": {
     "elapsed": 1561,
     "status": "ok",
     "timestamp": 1731541942073,
     "user": {
      "displayName": "david",
      "userId": "08934139501495265978"
     },
     "user_tz": -60
    },
    "id": "6jbBRVJqEEGM"
   },
   "outputs": [],
   "source": [
    "# NOTE: if used in google colab, upload env_vars_colab.yml to current google colab directory!\n",
    "\n",
    "# get config\n",
    "if colab:\n",
    "    with open('./env_vars_colab.yml', 'r') as file:\n",
    "        config = yaml.safe_load(file)\n",
    "else:\n",
    "    with open('../env_vars_azureml_compute.yml', 'r') as file:\n",
    "        config = yaml.safe_load(file)\n",
    "\n",
    "# custom imports\n",
    "sys.path.append(config['project_directory'])\n",
    "\n",
    "from src import utils"
   ]
  },
  {
   "cell_type": "code",
   "execution_count": 7,
   "metadata": {
    "executionInfo": {
     "elapsed": 4,
     "status": "ok",
     "timestamp": 1731541942073,
     "user": {
      "displayName": "david",
      "userId": "08934139501495265978"
     },
     "user_tz": -60
    },
    "id": "4CjnioAlEEGN"
   },
   "outputs": [],
   "source": [
    "SEED = 42"
   ]
  },
  {
   "cell_type": "code",
   "execution_count": 8,
   "metadata": {
    "colab": {
     "base_uri": "https://localhost:8080/"
    },
    "executionInfo": {
     "elapsed": 3,
     "status": "ok",
     "timestamp": 1731541942073,
     "user": {
      "displayName": "david",
      "userId": "08934139501495265978"
     },
     "user_tz": -60
    },
    "id": "vcRWufvYEEGN",
    "outputId": "e7673bf8-d23d-4832-e252-ae687bc68660"
   },
   "outputs": [
    {
     "name": "stdout",
     "output_type": "stream",
     "text": [
      "2024-11-14_19:32:32\n"
     ]
    }
   ],
   "source": [
    "# General settings within the data science workflow\n",
    "\n",
    "pd.set_option('display.max_columns', None)\n",
    "\n",
    "# NOTE: for dev only\n",
    "subsample = False\n",
    "subsample_size = 100  # subsample subset of data for faster demo or development\n",
    "\n",
    "# Get current date and time\n",
    "now = datetime.datetime.now()\n",
    "# Format date and time\n",
    "formatted_date_time = now.strftime(\"%Y-%m-%d_%H:%M:%S\")\n",
    "print(formatted_date_time)"
   ]
  },
  {
   "cell_type": "markdown",
   "metadata": {
    "id": "4t7zxUrvEEGN"
   },
   "source": [
    "# Load and prepare data"
   ]
  },
  {
   "cell_type": "code",
   "execution_count": 9,
   "metadata": {
    "executionInfo": {
     "elapsed": 1874,
     "status": "ok",
     "timestamp": 1731541943945,
     "user": {
      "displayName": "david",
      "userId": "08934139501495265978"
     },
     "user_tz": -60
    },
    "id": "9Chow-3CEEGO"
   },
   "outputs": [],
   "source": [
    "df = pd.read_csv(f\"{config['data_directory']}/output/df_ml.csv\", sep='\\t')\n",
    "\n",
    "df['material_number'] = df['material_number'].astype('object')\n",
    "\n",
    "df_sub = df[[\n",
    "    'material_number',\n",
    "    'brand',\n",
    "    'product_area',\n",
    "    'core_segment',\n",
    "    'component',\n",
    "    'manufactoring_location',\n",
    "    'characteristic_value',\n",
    "    'material_weight',\n",
    "    'packaging_code',\n",
    "    'packaging_category',\n",
    "]]"
   ]
  },
  {
   "cell_type": "markdown",
   "metadata": {
    "id": "Kl0bbdhQEEGO"
   },
   "source": [
    "## Transform to PyCaret data format\n",
    "When you execute the setup function in PyCaret it splits the data into train and test sets (70/30) by default. Cross-validation is then done on train set only.\n",
    "The hold-out set is there just for an additional sense of surety."
   ]
  },
  {
   "cell_type": "code",
   "execution_count": 10,
   "metadata": {
    "colab": {
     "base_uri": "https://localhost:8080/",
     "height": 226
    },
    "executionInfo": {
     "elapsed": 1013,
     "status": "ok",
     "timestamp": 1731541944950,
     "user": {
      "displayName": "david",
      "userId": "08934139501495265978"
     },
     "user_tz": -60
    },
    "id": "tWxypXcPEEGO",
    "outputId": "9e8dd39d-ebf3-43c7-f28d-7f5d5a97802e"
   },
   "outputs": [
    {
     "data": {
      "text/html": [
       "<div>\n",
       "<style scoped>\n",
       "    .dataframe tbody tr th:only-of-type {\n",
       "        vertical-align: middle;\n",
       "    }\n",
       "\n",
       "    .dataframe tbody tr th {\n",
       "        vertical-align: top;\n",
       "    }\n",
       "\n",
       "    .dataframe thead th {\n",
       "        text-align: right;\n",
       "    }\n",
       "</style>\n",
       "<table border=\"1\" class=\"dataframe\">\n",
       "  <thead>\n",
       "    <tr style=\"text-align: right;\">\n",
       "      <th></th>\n",
       "      <th>material_number</th>\n",
       "      <th>brand</th>\n",
       "      <th>product_area</th>\n",
       "      <th>core_segment</th>\n",
       "      <th>component</th>\n",
       "      <th>manufactoring_location</th>\n",
       "      <th>characteristic_value</th>\n",
       "      <th>material_weight</th>\n",
       "      <th>packaging_code</th>\n",
       "      <th>packaging_category</th>\n",
       "    </tr>\n",
       "  </thead>\n",
       "  <tbody>\n",
       "    <tr>\n",
       "      <th>0</th>\n",
       "      <td>75116293</td>\n",
       "      <td>BOT</td>\n",
       "      <td>PA5</td>\n",
       "      <td>Metal Grinding</td>\n",
       "      <td>6035765C21</td>\n",
       "      <td>Distribution Center</td>\n",
       "      <td>CORRUGATED</td>\n",
       "      <td>85.00</td>\n",
       "      <td>PCode_304109</td>\n",
       "      <td>Countertop display</td>\n",
       "    </tr>\n",
       "    <tr>\n",
       "      <th>1</th>\n",
       "      <td>75116293</td>\n",
       "      <td>BOT</td>\n",
       "      <td>PA5</td>\n",
       "      <td>Metal Grinding</td>\n",
       "      <td>6035940565</td>\n",
       "      <td>Distribution Center</td>\n",
       "      <td>WOOD FREE</td>\n",
       "      <td>0.54</td>\n",
       "      <td>PCode_440854</td>\n",
       "      <td>Countertop display</td>\n",
       "    </tr>\n",
       "    <tr>\n",
       "      <th>2</th>\n",
       "      <td>75116293</td>\n",
       "      <td>BOT</td>\n",
       "      <td>PA5</td>\n",
       "      <td>Metal Grinding</td>\n",
       "      <td>6035822768</td>\n",
       "      <td>Distribution Center</td>\n",
       "      <td>MCB/GT2</td>\n",
       "      <td>22.90</td>\n",
       "      <td>PCode_834649</td>\n",
       "      <td>Countertop display</td>\n",
       "    </tr>\n",
       "    <tr>\n",
       "      <th>3</th>\n",
       "      <td>75116293</td>\n",
       "      <td>BOT</td>\n",
       "      <td>PA5</td>\n",
       "      <td>Metal Grinding</td>\n",
       "      <td>6035822768</td>\n",
       "      <td>Distribution Center</td>\n",
       "      <td>MCB/GT2</td>\n",
       "      <td>22.90</td>\n",
       "      <td>PCode_834649</td>\n",
       "      <td>Countertop display</td>\n",
       "    </tr>\n",
       "    <tr>\n",
       "      <th>4</th>\n",
       "      <td>75116293</td>\n",
       "      <td>BOT</td>\n",
       "      <td>PA5</td>\n",
       "      <td>Metal Grinding</td>\n",
       "      <td>6035765P54</td>\n",
       "      <td>Distribution Center</td>\n",
       "      <td>CORRUGATED</td>\n",
       "      <td>85.00</td>\n",
       "      <td>PCode_304109</td>\n",
       "      <td>Countertop display</td>\n",
       "    </tr>\n",
       "  </tbody>\n",
       "</table>\n",
       "</div>"
      ],
      "text/plain": [
       "  material_number brand product_area    core_segment   component  \\\n",
       "0        75116293   BOT          PA5  Metal Grinding  6035765C21   \n",
       "1        75116293   BOT          PA5  Metal Grinding  6035940565   \n",
       "2        75116293   BOT          PA5  Metal Grinding  6035822768   \n",
       "3        75116293   BOT          PA5  Metal Grinding  6035822768   \n",
       "4        75116293   BOT          PA5  Metal Grinding  6035765P54   \n",
       "\n",
       "  manufactoring_location characteristic_value  material_weight packaging_code  \\\n",
       "0    Distribution Center           CORRUGATED            85.00   PCode_304109   \n",
       "1    Distribution Center            WOOD FREE             0.54   PCode_440854   \n",
       "2    Distribution Center              MCB/GT2            22.90   PCode_834649   \n",
       "3    Distribution Center              MCB/GT2            22.90   PCode_834649   \n",
       "4    Distribution Center           CORRUGATED            85.00   PCode_304109   \n",
       "\n",
       "   packaging_category  \n",
       "0  Countertop display  \n",
       "1  Countertop display  \n",
       "2  Countertop display  \n",
       "3  Countertop display  \n",
       "4  Countertop display  "
      ]
     },
     "execution_count": 10,
     "metadata": {},
     "output_type": "execute_result"
    }
   ],
   "source": [
    "df_sub.head()"
   ]
  },
  {
   "cell_type": "markdown",
   "metadata": {
    "id": "qtEU-cVcEEGO"
   },
   "source": [
    "# PyCaret AutoML: without custom pre-processing; unrestricted selection of models including HPO"
   ]
  },
  {
   "cell_type": "markdown",
   "metadata": {
    "id": "jvkDQm1GEEGO"
   },
   "source": [
    "## PyCaret Base Models Training Pipeline"
   ]
  },
  {
   "cell_type": "code",
   "execution_count": 11,
   "metadata": {
    "colab": {
     "base_uri": "https://localhost:8080/"
    },
    "executionInfo": {
     "elapsed": 11,
     "status": "ok",
     "timestamp": 1731541944950,
     "user": {
      "displayName": "david",
      "userId": "08934139501495265978"
     },
     "user_tz": -60
    },
    "id": "uGQlDFW_EEGP",
    "outputId": "9557105b-83e4-4c79-f843-174ffb7e0328"
   },
   "outputs": [
    {
     "name": "stdout",
     "output_type": "stream",
     "text": [
      "Experiment Type: <class 'pycaret.classification.oop.ClassificationExperiment'>\n"
     ]
    }
   ],
   "source": [
    "# init ClassificationExperiment\n",
    "exp_base = ClassificationExperiment()\n",
    "\n",
    "print(f\"Experiment Type: {type(exp_base)}\") # check the type of exp"
   ]
  },
  {
   "cell_type": "code",
   "execution_count": 12,
   "metadata": {
    "colab": {
     "base_uri": "https://localhost:8080/",
     "height": 1000
    },
    "executionInfo": {
     "elapsed": 10559,
     "status": "ok",
     "timestamp": 1731541955500,
     "user": {
      "displayName": "david",
      "userId": "08934139501495265978"
     },
     "user_tz": -60
    },
    "id": "trsybFezEEGP",
    "outputId": "6d54da64-cb6d-45c0-a629-dfe3085cf155"
   },
   "outputs": [
    {
     "data": {
      "text/html": [
       "<style type=\"text/css\">\n",
       "#T_a8823_row11_col1 {\n",
       "  background-color: lightgreen;\n",
       "}\n",
       "</style>\n",
       "<table id=\"T_a8823\">\n",
       "  <thead>\n",
       "    <tr>\n",
       "      <th class=\"blank level0\" >&nbsp;</th>\n",
       "      <th id=\"T_a8823_level0_col0\" class=\"col_heading level0 col0\" >Description</th>\n",
       "      <th id=\"T_a8823_level0_col1\" class=\"col_heading level0 col1\" >Value</th>\n",
       "    </tr>\n",
       "  </thead>\n",
       "  <tbody>\n",
       "    <tr>\n",
       "      <th id=\"T_a8823_level0_row0\" class=\"row_heading level0 row0\" >0</th>\n",
       "      <td id=\"T_a8823_row0_col0\" class=\"data row0 col0\" >Session id</td>\n",
       "      <td id=\"T_a8823_row0_col1\" class=\"data row0 col1\" >42</td>\n",
       "    </tr>\n",
       "    <tr>\n",
       "      <th id=\"T_a8823_level0_row1\" class=\"row_heading level0 row1\" >1</th>\n",
       "      <td id=\"T_a8823_row1_col0\" class=\"data row1 col0\" >Target</td>\n",
       "      <td id=\"T_a8823_row1_col1\" class=\"data row1 col1\" >packaging_category</td>\n",
       "    </tr>\n",
       "    <tr>\n",
       "      <th id=\"T_a8823_level0_row2\" class=\"row_heading level0 row2\" >2</th>\n",
       "      <td id=\"T_a8823_row2_col0\" class=\"data row2 col0\" >Target type</td>\n",
       "      <td id=\"T_a8823_row2_col1\" class=\"data row2 col1\" >Multiclass</td>\n",
       "    </tr>\n",
       "    <tr>\n",
       "      <th id=\"T_a8823_level0_row3\" class=\"row_heading level0 row3\" >3</th>\n",
       "      <td id=\"T_a8823_row3_col0\" class=\"data row3 col0\" >Target mapping</td>\n",
       "      <td id=\"T_a8823_row3_col1\" class=\"data row3 col1\" >Blister and Insert Card: 0, Blister and sealed blist: 1, Book packaging: 2, Cardb. Sleeve w - w/o Shr.: 3, Cardboard hanger w/o bag: 4, Carton cover (Lid box): 5, Carton tube with or w/o: 6, Case: 7, Corrugated carton: 8, Countertop display: 9, Envelope: 10, Fabric packaging: 11, Folding carton: 12, Hanger/ Clip: 13, Metal Cassette: 14, Paperboard pouch: 15, Plastic Box: 16, Plastic Cassette: 17, Plastic Pouch: 18, Plastic bag with header: 19, Shrink film and insert o: 20, Skincard: 21, TightPack: 22, Trap Card: 23, Trap Folding Card: 24, Tray Packer: 25, Tube: 26, Unpacked: 27, Wooden box: 28</td>\n",
       "    </tr>\n",
       "    <tr>\n",
       "      <th id=\"T_a8823_level0_row4\" class=\"row_heading level0 row4\" >4</th>\n",
       "      <td id=\"T_a8823_row4_col0\" class=\"data row4 col0\" >Original data shape</td>\n",
       "      <td id=\"T_a8823_row4_col1\" class=\"data row4 col1\" >(82977, 10)</td>\n",
       "    </tr>\n",
       "    <tr>\n",
       "      <th id=\"T_a8823_level0_row5\" class=\"row_heading level0 row5\" >5</th>\n",
       "      <td id=\"T_a8823_row5_col0\" class=\"data row5 col0\" >Transformed data shape</td>\n",
       "      <td id=\"T_a8823_row5_col1\" class=\"data row5 col1\" >(82977, 66)</td>\n",
       "    </tr>\n",
       "    <tr>\n",
       "      <th id=\"T_a8823_level0_row6\" class=\"row_heading level0 row6\" >6</th>\n",
       "      <td id=\"T_a8823_row6_col0\" class=\"data row6 col0\" >Transformed train set shape</td>\n",
       "      <td id=\"T_a8823_row6_col1\" class=\"data row6 col1\" >(66381, 66)</td>\n",
       "    </tr>\n",
       "    <tr>\n",
       "      <th id=\"T_a8823_level0_row7\" class=\"row_heading level0 row7\" >7</th>\n",
       "      <td id=\"T_a8823_row7_col0\" class=\"data row7 col0\" >Transformed test set shape</td>\n",
       "      <td id=\"T_a8823_row7_col1\" class=\"data row7 col1\" >(16596, 66)</td>\n",
       "    </tr>\n",
       "    <tr>\n",
       "      <th id=\"T_a8823_level0_row8\" class=\"row_heading level0 row8\" >8</th>\n",
       "      <td id=\"T_a8823_row8_col0\" class=\"data row8 col0\" >Numeric features</td>\n",
       "      <td id=\"T_a8823_row8_col1\" class=\"data row8 col1\" >1</td>\n",
       "    </tr>\n",
       "    <tr>\n",
       "      <th id=\"T_a8823_level0_row9\" class=\"row_heading level0 row9\" >9</th>\n",
       "      <td id=\"T_a8823_row9_col0\" class=\"data row9 col0\" >Categorical features</td>\n",
       "      <td id=\"T_a8823_row9_col1\" class=\"data row9 col1\" >8</td>\n",
       "    </tr>\n",
       "    <tr>\n",
       "      <th id=\"T_a8823_level0_row10\" class=\"row_heading level0 row10\" >10</th>\n",
       "      <td id=\"T_a8823_row10_col0\" class=\"data row10 col0\" >Rows with missing values</td>\n",
       "      <td id=\"T_a8823_row10_col1\" class=\"data row10 col1\" >8.5%</td>\n",
       "    </tr>\n",
       "    <tr>\n",
       "      <th id=\"T_a8823_level0_row11\" class=\"row_heading level0 row11\" >11</th>\n",
       "      <td id=\"T_a8823_row11_col0\" class=\"data row11 col0\" >Preprocess</td>\n",
       "      <td id=\"T_a8823_row11_col1\" class=\"data row11 col1\" >True</td>\n",
       "    </tr>\n",
       "    <tr>\n",
       "      <th id=\"T_a8823_level0_row12\" class=\"row_heading level0 row12\" >12</th>\n",
       "      <td id=\"T_a8823_row12_col0\" class=\"data row12 col0\" >Imputation type</td>\n",
       "      <td id=\"T_a8823_row12_col1\" class=\"data row12 col1\" >simple</td>\n",
       "    </tr>\n",
       "    <tr>\n",
       "      <th id=\"T_a8823_level0_row13\" class=\"row_heading level0 row13\" >13</th>\n",
       "      <td id=\"T_a8823_row13_col0\" class=\"data row13 col0\" >Numeric imputation</td>\n",
       "      <td id=\"T_a8823_row13_col1\" class=\"data row13 col1\" >mean</td>\n",
       "    </tr>\n",
       "    <tr>\n",
       "      <th id=\"T_a8823_level0_row14\" class=\"row_heading level0 row14\" >14</th>\n",
       "      <td id=\"T_a8823_row14_col0\" class=\"data row14 col0\" >Categorical imputation</td>\n",
       "      <td id=\"T_a8823_row14_col1\" class=\"data row14 col1\" >mode</td>\n",
       "    </tr>\n",
       "    <tr>\n",
       "      <th id=\"T_a8823_level0_row15\" class=\"row_heading level0 row15\" >15</th>\n",
       "      <td id=\"T_a8823_row15_col0\" class=\"data row15 col0\" >Maximum one-hot encoding</td>\n",
       "      <td id=\"T_a8823_row15_col1\" class=\"data row15 col1\" >25</td>\n",
       "    </tr>\n",
       "    <tr>\n",
       "      <th id=\"T_a8823_level0_row16\" class=\"row_heading level0 row16\" >16</th>\n",
       "      <td id=\"T_a8823_row16_col0\" class=\"data row16 col0\" >Encoding method</td>\n",
       "      <td id=\"T_a8823_row16_col1\" class=\"data row16 col1\" >None</td>\n",
       "    </tr>\n",
       "    <tr>\n",
       "      <th id=\"T_a8823_level0_row17\" class=\"row_heading level0 row17\" >17</th>\n",
       "      <td id=\"T_a8823_row17_col0\" class=\"data row17 col0\" >Fold Generator</td>\n",
       "      <td id=\"T_a8823_row17_col1\" class=\"data row17 col1\" >StratifiedKFold</td>\n",
       "    </tr>\n",
       "    <tr>\n",
       "      <th id=\"T_a8823_level0_row18\" class=\"row_heading level0 row18\" >18</th>\n",
       "      <td id=\"T_a8823_row18_col0\" class=\"data row18 col0\" >Fold Number</td>\n",
       "      <td id=\"T_a8823_row18_col1\" class=\"data row18 col1\" >5</td>\n",
       "    </tr>\n",
       "    <tr>\n",
       "      <th id=\"T_a8823_level0_row19\" class=\"row_heading level0 row19\" >19</th>\n",
       "      <td id=\"T_a8823_row19_col0\" class=\"data row19 col0\" >CPU Jobs</td>\n",
       "      <td id=\"T_a8823_row19_col1\" class=\"data row19 col1\" >-1</td>\n",
       "    </tr>\n",
       "    <tr>\n",
       "      <th id=\"T_a8823_level0_row20\" class=\"row_heading level0 row20\" >20</th>\n",
       "      <td id=\"T_a8823_row20_col0\" class=\"data row20 col0\" >Use GPU</td>\n",
       "      <td id=\"T_a8823_row20_col1\" class=\"data row20 col1\" >False</td>\n",
       "    </tr>\n",
       "    <tr>\n",
       "      <th id=\"T_a8823_level0_row21\" class=\"row_heading level0 row21\" >21</th>\n",
       "      <td id=\"T_a8823_row21_col0\" class=\"data row21 col0\" >Log Experiment</td>\n",
       "      <td id=\"T_a8823_row21_col1\" class=\"data row21 col1\" >False</td>\n",
       "    </tr>\n",
       "    <tr>\n",
       "      <th id=\"T_a8823_level0_row22\" class=\"row_heading level0 row22\" >22</th>\n",
       "      <td id=\"T_a8823_row22_col0\" class=\"data row22 col0\" >Experiment Name</td>\n",
       "      <td id=\"T_a8823_row22_col1\" class=\"data row22 col1\" >clf-default-name</td>\n",
       "    </tr>\n",
       "    <tr>\n",
       "      <th id=\"T_a8823_level0_row23\" class=\"row_heading level0 row23\" >23</th>\n",
       "      <td id=\"T_a8823_row23_col0\" class=\"data row23 col0\" >USI</td>\n",
       "      <td id=\"T_a8823_row23_col1\" class=\"data row23 col1\" >cc54</td>\n",
       "    </tr>\n",
       "  </tbody>\n",
       "</table>\n"
      ],
      "text/plain": [
       "<pandas.io.formats.style.Styler at 0x7f5cabf57f90>"
      ]
     },
     "metadata": {},
     "output_type": "display_data"
    },
    {
     "data": {
      "text/plain": [
       "<pycaret.classification.oop.ClassificationExperiment at 0x7f5ca8f90250>"
      ]
     },
     "execution_count": 12,
     "metadata": {},
     "output_type": "execute_result"
    }
   ],
   "source": [
    "# init setup on experiment\n",
    "exp_base.setup(\n",
    "    df_sub,\n",
    "    target='packaging_category',\n",
    "    train_size=0.8,\n",
    "    fold=5,\n",
    "    fold_strategy='stratifiedkfold',\n",
    "    session_id=42\n",
    ")"
   ]
  },
  {
   "cell_type": "code",
   "execution_count": 13,
   "metadata": {
    "colab": {
     "base_uri": "https://localhost:8080/",
     "height": 445
    },
    "executionInfo": {
     "elapsed": 21,
     "status": "ok",
     "timestamp": 1731541955501,
     "user": {
      "displayName": "david",
      "userId": "08934139501495265978"
     },
     "user_tz": -60
    },
    "id": "yhJ6KhX6EEGP",
    "outputId": "c71e0696-3718-431c-f5d9-b9613b4d4287"
   },
   "outputs": [
    {
     "data": {
      "text/html": [
       "<div>\n",
       "<style scoped>\n",
       "    .dataframe tbody tr th:only-of-type {\n",
       "        vertical-align: middle;\n",
       "    }\n",
       "\n",
       "    .dataframe tbody tr th {\n",
       "        vertical-align: top;\n",
       "    }\n",
       "\n",
       "    .dataframe thead th {\n",
       "        text-align: right;\n",
       "    }\n",
       "</style>\n",
       "<table border=\"1\" class=\"dataframe\">\n",
       "  <thead>\n",
       "    <tr style=\"text-align: right;\">\n",
       "      <th></th>\n",
       "      <th>Name</th>\n",
       "      <th>Display Name</th>\n",
       "      <th>Score Function</th>\n",
       "      <th>Scorer</th>\n",
       "      <th>Target</th>\n",
       "      <th>Args</th>\n",
       "      <th>Greater is Better</th>\n",
       "      <th>Multiclass</th>\n",
       "      <th>Custom</th>\n",
       "    </tr>\n",
       "    <tr>\n",
       "      <th>ID</th>\n",
       "      <th></th>\n",
       "      <th></th>\n",
       "      <th></th>\n",
       "      <th></th>\n",
       "      <th></th>\n",
       "      <th></th>\n",
       "      <th></th>\n",
       "      <th></th>\n",
       "      <th></th>\n",
       "    </tr>\n",
       "  </thead>\n",
       "  <tbody>\n",
       "    <tr>\n",
       "      <th>acc</th>\n",
       "      <td>Accuracy</td>\n",
       "      <td>Accuracy</td>\n",
       "      <td>&lt;function accuracy_score at 0x7f5cada02ca0&gt;</td>\n",
       "      <td>accuracy</td>\n",
       "      <td>pred</td>\n",
       "      <td>{}</td>\n",
       "      <td>True</td>\n",
       "      <td>True</td>\n",
       "      <td>False</td>\n",
       "    </tr>\n",
       "    <tr>\n",
       "      <th>auc</th>\n",
       "      <td>AUC</td>\n",
       "      <td>AUC</td>\n",
       "      <td>&lt;pycaret.internal.metrics.BinaryMulticlassScor...</td>\n",
       "      <td>make_scorer(roc_auc_score, response_method=('d...</td>\n",
       "      <td>pred_proba</td>\n",
       "      <td>{'average': 'weighted', 'multi_class': 'ovr'}</td>\n",
       "      <td>True</td>\n",
       "      <td>True</td>\n",
       "      <td>False</td>\n",
       "    </tr>\n",
       "    <tr>\n",
       "      <th>recall</th>\n",
       "      <td>Recall</td>\n",
       "      <td>Recall</td>\n",
       "      <td>&lt;pycaret.internal.metrics.BinaryMulticlassScor...</td>\n",
       "      <td>make_scorer(recall_score, response_method='pre...</td>\n",
       "      <td>pred</td>\n",
       "      <td>{'average': 'weighted'}</td>\n",
       "      <td>True</td>\n",
       "      <td>True</td>\n",
       "      <td>False</td>\n",
       "    </tr>\n",
       "    <tr>\n",
       "      <th>precision</th>\n",
       "      <td>Precision</td>\n",
       "      <td>Prec.</td>\n",
       "      <td>&lt;pycaret.internal.metrics.BinaryMulticlassScor...</td>\n",
       "      <td>make_scorer(precision_score, response_method='...</td>\n",
       "      <td>pred</td>\n",
       "      <td>{'average': 'weighted'}</td>\n",
       "      <td>True</td>\n",
       "      <td>True</td>\n",
       "      <td>False</td>\n",
       "    </tr>\n",
       "    <tr>\n",
       "      <th>f1</th>\n",
       "      <td>F1</td>\n",
       "      <td>F1</td>\n",
       "      <td>&lt;pycaret.internal.metrics.BinaryMulticlassScor...</td>\n",
       "      <td>make_scorer(f1_score, response_method='predict...</td>\n",
       "      <td>pred</td>\n",
       "      <td>{'average': 'weighted'}</td>\n",
       "      <td>True</td>\n",
       "      <td>True</td>\n",
       "      <td>False</td>\n",
       "    </tr>\n",
       "    <tr>\n",
       "      <th>f1_macro</th>\n",
       "      <td>F1_Macro</td>\n",
       "      <td>F1_Macro</td>\n",
       "      <td>&lt;pycaret.internal.metrics.EncodedDecodedLabels...</td>\n",
       "      <td>make_scorer(f1_score_macro, response_method='p...</td>\n",
       "      <td>pred</td>\n",
       "      <td>{}</td>\n",
       "      <td>True</td>\n",
       "      <td>True</td>\n",
       "      <td>True</td>\n",
       "    </tr>\n",
       "  </tbody>\n",
       "</table>\n",
       "</div>"
      ],
      "text/plain": [
       "                Name Display Name  \\\n",
       "ID                                  \n",
       "acc         Accuracy     Accuracy   \n",
       "auc              AUC          AUC   \n",
       "recall        Recall       Recall   \n",
       "precision  Precision        Prec.   \n",
       "f1                F1           F1   \n",
       "f1_macro    F1_Macro     F1_Macro   \n",
       "\n",
       "                                              Score Function  \\\n",
       "ID                                                             \n",
       "acc              <function accuracy_score at 0x7f5cada02ca0>   \n",
       "auc        <pycaret.internal.metrics.BinaryMulticlassScor...   \n",
       "recall     <pycaret.internal.metrics.BinaryMulticlassScor...   \n",
       "precision  <pycaret.internal.metrics.BinaryMulticlassScor...   \n",
       "f1         <pycaret.internal.metrics.BinaryMulticlassScor...   \n",
       "f1_macro   <pycaret.internal.metrics.EncodedDecodedLabels...   \n",
       "\n",
       "                                                      Scorer      Target  \\\n",
       "ID                                                                         \n",
       "acc                                                 accuracy        pred   \n",
       "auc        make_scorer(roc_auc_score, response_method=('d...  pred_proba   \n",
       "recall     make_scorer(recall_score, response_method='pre...        pred   \n",
       "precision  make_scorer(precision_score, response_method='...        pred   \n",
       "f1         make_scorer(f1_score, response_method='predict...        pred   \n",
       "f1_macro   make_scorer(f1_score_macro, response_method='p...        pred   \n",
       "\n",
       "                                                    Args  Greater is Better  \\\n",
       "ID                                                                            \n",
       "acc                                                   {}               True   \n",
       "auc        {'average': 'weighted', 'multi_class': 'ovr'}               True   \n",
       "recall                           {'average': 'weighted'}               True   \n",
       "precision                        {'average': 'weighted'}               True   \n",
       "f1                               {'average': 'weighted'}               True   \n",
       "f1_macro                                              {}               True   \n",
       "\n",
       "           Multiclass  Custom  \n",
       "ID                             \n",
       "acc              True   False  \n",
       "auc              True   False  \n",
       "recall           True   False  \n",
       "precision        True   False  \n",
       "f1               True   False  \n",
       "f1_macro         True    True  "
      ]
     },
     "execution_count": 13,
     "metadata": {},
     "output_type": "execute_result"
    }
   ],
   "source": [
    "# add sklearn f1_score macro average\n",
    "exp_base.add_metric(id='f1_macro', name='F1_Macro', score_func=utils.f1_score_macro, greater_is_better=True)\n",
    "exp_base.remove_metric('MCC')\n",
    "exp_base.remove_metric('Kappa')\n",
    "exp_base.get_metrics()"
   ]
  },
  {
   "cell_type": "code",
   "execution_count": 14,
   "metadata": {
    "colab": {
     "base_uri": "https://localhost:8080/",
     "height": 520,
     "referenced_widgets": [
      "f6ae3e7055c348e68ee07ea16e7732a0",
      "8aff2d5e6a6d4718b9eab0851b4156f9",
      "ff9884ee37b7455b8d78be3d738f1b82",
      "cee30df593cb4380b1831e87e3a0791e",
      "157387d7e94445fb982f596ffea9117c",
      "72f230cb659e4aaa88e3b0361701eb8d",
      "f22b2634146e44fd90aa478c0426b371",
      "2626b01b818a49dea771f9e35c61ff71",
      "e482958976a549bbbac3d459e234d210",
      "c155fb941e024562be6bfc68dd0298fe",
      "87dcfc7edcee40919bce5f9cda840635"
     ]
    },
    "executionInfo": {
     "elapsed": 3649234,
     "status": "ok",
     "timestamp": 1731545604717,
     "user": {
      "displayName": "david",
      "userId": "08934139501495265978"
     },
     "user_tz": -60
    },
    "id": "6Ju6OaGgEEGP",
    "outputId": "949b9470-494e-4eb8-bf62-86294f44617a"
   },
   "outputs": [
    {
     "data": {
      "text/html": [],
      "text/plain": [
       "<IPython.core.display.HTML object>"
      ]
     },
     "metadata": {},
     "output_type": "display_data"
    },
    {
     "data": {
      "text/html": [
       "<style type=\"text/css\">\n",
       "#T_b71a1 th {\n",
       "  text-align: left;\n",
       "}\n",
       "#T_b71a1_row0_col0, #T_b71a1_row0_col1, #T_b71a1_row0_col3, #T_b71a1_row0_col5, #T_b71a1_row1_col0, #T_b71a1_row1_col1, #T_b71a1_row1_col3, #T_b71a1_row1_col4, #T_b71a1_row1_col5, #T_b71a1_row1_col6, #T_b71a1_row2_col0, #T_b71a1_row2_col1, #T_b71a1_row2_col3, #T_b71a1_row2_col4, #T_b71a1_row2_col5, #T_b71a1_row2_col6, #T_b71a1_row3_col0, #T_b71a1_row3_col1, #T_b71a1_row3_col3, #T_b71a1_row3_col4, #T_b71a1_row3_col5, #T_b71a1_row3_col6, #T_b71a1_row4_col0, #T_b71a1_row4_col4, #T_b71a1_row4_col6, #T_b71a1_row5_col0, #T_b71a1_row5_col1, #T_b71a1_row5_col3, #T_b71a1_row5_col4, #T_b71a1_row5_col5, #T_b71a1_row5_col6, #T_b71a1_row6_col0, #T_b71a1_row6_col1, #T_b71a1_row6_col3, #T_b71a1_row6_col4, #T_b71a1_row6_col5, #T_b71a1_row6_col6, #T_b71a1_row7_col0, #T_b71a1_row7_col1, #T_b71a1_row7_col3, #T_b71a1_row7_col4, #T_b71a1_row7_col5, #T_b71a1_row7_col6, #T_b71a1_row8_col0, #T_b71a1_row8_col1, #T_b71a1_row8_col3, #T_b71a1_row8_col4, #T_b71a1_row8_col5, #T_b71a1_row8_col6, #T_b71a1_row9_col0, #T_b71a1_row9_col1, #T_b71a1_row9_col3, #T_b71a1_row9_col4, #T_b71a1_row9_col5, #T_b71a1_row9_col6, #T_b71a1_row10_col0, #T_b71a1_row10_col1, #T_b71a1_row10_col3, #T_b71a1_row10_col4, #T_b71a1_row10_col5, #T_b71a1_row10_col6, #T_b71a1_row11_col0, #T_b71a1_row11_col1, #T_b71a1_row11_col3, #T_b71a1_row11_col4, #T_b71a1_row11_col5, #T_b71a1_row11_col6, #T_b71a1_row12_col0, #T_b71a1_row12_col1, #T_b71a1_row12_col3, #T_b71a1_row12_col4, #T_b71a1_row12_col5, #T_b71a1_row12_col6, #T_b71a1_row13_col0, #T_b71a1_row13_col1, #T_b71a1_row13_col3, #T_b71a1_row13_col4, #T_b71a1_row13_col5, #T_b71a1_row13_col6, #T_b71a1_row14_col0, #T_b71a1_row14_col1, #T_b71a1_row14_col3, #T_b71a1_row14_col4, #T_b71a1_row14_col5, #T_b71a1_row14_col6, #T_b71a1_row15_col0, #T_b71a1_row15_col1, #T_b71a1_row15_col3, #T_b71a1_row15_col4, #T_b71a1_row15_col5, #T_b71a1_row15_col6 {\n",
       "  text-align: left;\n",
       "}\n",
       "#T_b71a1_row0_col2, #T_b71a1_row0_col4, #T_b71a1_row0_col6, #T_b71a1_row1_col2, #T_b71a1_row2_col2, #T_b71a1_row3_col2, #T_b71a1_row4_col1, #T_b71a1_row4_col2, #T_b71a1_row4_col3, #T_b71a1_row4_col5, #T_b71a1_row5_col2, #T_b71a1_row6_col2, #T_b71a1_row7_col2, #T_b71a1_row8_col2, #T_b71a1_row9_col2, #T_b71a1_row10_col2, #T_b71a1_row11_col2, #T_b71a1_row12_col2, #T_b71a1_row13_col2, #T_b71a1_row14_col2, #T_b71a1_row15_col2 {\n",
       "  text-align: left;\n",
       "  background-color: yellow;\n",
       "}\n",
       "#T_b71a1_row0_col7, #T_b71a1_row1_col7, #T_b71a1_row2_col7, #T_b71a1_row3_col7, #T_b71a1_row4_col7, #T_b71a1_row5_col7, #T_b71a1_row6_col7, #T_b71a1_row7_col7, #T_b71a1_row9_col7, #T_b71a1_row10_col7, #T_b71a1_row11_col7, #T_b71a1_row12_col7, #T_b71a1_row13_col7, #T_b71a1_row14_col7, #T_b71a1_row15_col7 {\n",
       "  text-align: left;\n",
       "  background-color: lightgrey;\n",
       "}\n",
       "#T_b71a1_row8_col7 {\n",
       "  text-align: left;\n",
       "  background-color: yellow;\n",
       "  background-color: lightgrey;\n",
       "}\n",
       "</style>\n",
       "<table id=\"T_b71a1\">\n",
       "  <thead>\n",
       "    <tr>\n",
       "      <th class=\"blank level0\" >&nbsp;</th>\n",
       "      <th id=\"T_b71a1_level0_col0\" class=\"col_heading level0 col0\" >Model</th>\n",
       "      <th id=\"T_b71a1_level0_col1\" class=\"col_heading level0 col1\" >Accuracy</th>\n",
       "      <th id=\"T_b71a1_level0_col2\" class=\"col_heading level0 col2\" >AUC</th>\n",
       "      <th id=\"T_b71a1_level0_col3\" class=\"col_heading level0 col3\" >Recall</th>\n",
       "      <th id=\"T_b71a1_level0_col4\" class=\"col_heading level0 col4\" >Prec.</th>\n",
       "      <th id=\"T_b71a1_level0_col5\" class=\"col_heading level0 col5\" >F1</th>\n",
       "      <th id=\"T_b71a1_level0_col6\" class=\"col_heading level0 col6\" >F1_Macro</th>\n",
       "      <th id=\"T_b71a1_level0_col7\" class=\"col_heading level0 col7\" >TT (Sec)</th>\n",
       "    </tr>\n",
       "  </thead>\n",
       "  <tbody>\n",
       "    <tr>\n",
       "      <th id=\"T_b71a1_level0_row0\" class=\"row_heading level0 row0\" >dt</th>\n",
       "      <td id=\"T_b71a1_row0_col0\" class=\"data row0 col0\" >Decision Tree Classifier</td>\n",
       "      <td id=\"T_b71a1_row0_col1\" class=\"data row0 col1\" >0.8528</td>\n",
       "      <td id=\"T_b71a1_row0_col2\" class=\"data row0 col2\" >0.0000</td>\n",
       "      <td id=\"T_b71a1_row0_col3\" class=\"data row0 col3\" >0.8528</td>\n",
       "      <td id=\"T_b71a1_row0_col4\" class=\"data row0 col4\" >0.9870</td>\n",
       "      <td id=\"T_b71a1_row0_col5\" class=\"data row0 col5\" >0.9111</td>\n",
       "      <td id=\"T_b71a1_row0_col6\" class=\"data row0 col6\" >0.8185</td>\n",
       "      <td id=\"T_b71a1_row0_col7\" class=\"data row0 col7\" >1.8000</td>\n",
       "    </tr>\n",
       "    <tr>\n",
       "      <th id=\"T_b71a1_level0_row1\" class=\"row_heading level0 row1\" >xgboost</th>\n",
       "      <td id=\"T_b71a1_row1_col0\" class=\"data row1 col0\" >Extreme Gradient Boosting</td>\n",
       "      <td id=\"T_b71a1_row1_col1\" class=\"data row1 col1\" >0.8830</td>\n",
       "      <td id=\"T_b71a1_row1_col2\" class=\"data row1 col2\" >0.0000</td>\n",
       "      <td id=\"T_b71a1_row1_col3\" class=\"data row1 col3\" >0.8830</td>\n",
       "      <td id=\"T_b71a1_row1_col4\" class=\"data row1 col4\" >0.9745</td>\n",
       "      <td id=\"T_b71a1_row1_col5\" class=\"data row1 col5\" >0.9198</td>\n",
       "      <td id=\"T_b71a1_row1_col6\" class=\"data row1 col6\" >0.8121</td>\n",
       "      <td id=\"T_b71a1_row1_col7\" class=\"data row1 col7\" >31.8120</td>\n",
       "    </tr>\n",
       "    <tr>\n",
       "      <th id=\"T_b71a1_level0_row2\" class=\"row_heading level0 row2\" >gbc</th>\n",
       "      <td id=\"T_b71a1_row2_col0\" class=\"data row2 col0\" >Gradient Boosting Classifier</td>\n",
       "      <td id=\"T_b71a1_row2_col1\" class=\"data row2 col1\" >0.8485</td>\n",
       "      <td id=\"T_b71a1_row2_col2\" class=\"data row2 col2\" >0.0000</td>\n",
       "      <td id=\"T_b71a1_row2_col3\" class=\"data row2 col3\" >0.8485</td>\n",
       "      <td id=\"T_b71a1_row2_col4\" class=\"data row2 col4\" >0.9486</td>\n",
       "      <td id=\"T_b71a1_row2_col5\" class=\"data row2 col5\" >0.8802</td>\n",
       "      <td id=\"T_b71a1_row2_col6\" class=\"data row2 col6\" >0.8026</td>\n",
       "      <td id=\"T_b71a1_row2_col7\" class=\"data row2 col7\" >283.7560</td>\n",
       "    </tr>\n",
       "    <tr>\n",
       "      <th id=\"T_b71a1_level0_row3\" class=\"row_heading level0 row3\" >catboost</th>\n",
       "      <td id=\"T_b71a1_row3_col0\" class=\"data row3 col0\" >CatBoost Classifier</td>\n",
       "      <td id=\"T_b71a1_row3_col1\" class=\"data row3 col1\" >0.8853</td>\n",
       "      <td id=\"T_b71a1_row3_col2\" class=\"data row3 col2\" >0.0000</td>\n",
       "      <td id=\"T_b71a1_row3_col3\" class=\"data row3 col3\" >0.8853</td>\n",
       "      <td id=\"T_b71a1_row3_col4\" class=\"data row3 col4\" >0.9406</td>\n",
       "      <td id=\"T_b71a1_row3_col5\" class=\"data row3 col5\" >0.8987</td>\n",
       "      <td id=\"T_b71a1_row3_col6\" class=\"data row3 col6\" >0.7911</td>\n",
       "      <td id=\"T_b71a1_row3_col7\" class=\"data row3 col7\" >265.5540</td>\n",
       "    </tr>\n",
       "    <tr>\n",
       "      <th id=\"T_b71a1_level0_row4\" class=\"row_heading level0 row4\" >et</th>\n",
       "      <td id=\"T_b71a1_row4_col0\" class=\"data row4 col0\" >Extra Trees Classifier</td>\n",
       "      <td id=\"T_b71a1_row4_col1\" class=\"data row4 col1\" >0.9213</td>\n",
       "      <td id=\"T_b71a1_row4_col2\" class=\"data row4 col2\" >0.0000</td>\n",
       "      <td id=\"T_b71a1_row4_col3\" class=\"data row4 col3\" >0.9213</td>\n",
       "      <td id=\"T_b71a1_row4_col4\" class=\"data row4 col4\" >0.9346</td>\n",
       "      <td id=\"T_b71a1_row4_col5\" class=\"data row4 col5\" >0.9236</td>\n",
       "      <td id=\"T_b71a1_row4_col6\" class=\"data row4 col6\" >0.7796</td>\n",
       "      <td id=\"T_b71a1_row4_col7\" class=\"data row4 col7\" >6.0820</td>\n",
       "    </tr>\n",
       "    <tr>\n",
       "      <th id=\"T_b71a1_level0_row5\" class=\"row_heading level0 row5\" >rf</th>\n",
       "      <td id=\"T_b71a1_row5_col0\" class=\"data row5 col0\" >Random Forest Classifier</td>\n",
       "      <td id=\"T_b71a1_row5_col1\" class=\"data row5 col1\" >0.9117</td>\n",
       "      <td id=\"T_b71a1_row5_col2\" class=\"data row5 col2\" >0.0000</td>\n",
       "      <td id=\"T_b71a1_row5_col3\" class=\"data row5 col3\" >0.9117</td>\n",
       "      <td id=\"T_b71a1_row5_col4\" class=\"data row5 col4\" >0.9273</td>\n",
       "      <td id=\"T_b71a1_row5_col5\" class=\"data row5 col5\" >0.9141</td>\n",
       "      <td id=\"T_b71a1_row5_col6\" class=\"data row5 col6\" >0.7601</td>\n",
       "      <td id=\"T_b71a1_row5_col7\" class=\"data row5 col7\" >5.7000</td>\n",
       "    </tr>\n",
       "    <tr>\n",
       "      <th id=\"T_b71a1_level0_row6\" class=\"row_heading level0 row6\" >knn</th>\n",
       "      <td id=\"T_b71a1_row6_col0\" class=\"data row6 col0\" >K Neighbors Classifier</td>\n",
       "      <td id=\"T_b71a1_row6_col1\" class=\"data row6 col1\" >0.8941</td>\n",
       "      <td id=\"T_b71a1_row6_col2\" class=\"data row6 col2\" >0.0000</td>\n",
       "      <td id=\"T_b71a1_row6_col3\" class=\"data row6 col3\" >0.8941</td>\n",
       "      <td id=\"T_b71a1_row6_col4\" class=\"data row6 col4\" >0.8996</td>\n",
       "      <td id=\"T_b71a1_row6_col5\" class=\"data row6 col5\" >0.8929</td>\n",
       "      <td id=\"T_b71a1_row6_col6\" class=\"data row6 col6\" >0.6881</td>\n",
       "      <td id=\"T_b71a1_row6_col7\" class=\"data row6 col7\" >9.8600</td>\n",
       "    </tr>\n",
       "    <tr>\n",
       "      <th id=\"T_b71a1_level0_row7\" class=\"row_heading level0 row7\" >lda</th>\n",
       "      <td id=\"T_b71a1_row7_col0\" class=\"data row7 col0\" >Linear Discriminant Analysis</td>\n",
       "      <td id=\"T_b71a1_row7_col1\" class=\"data row7 col1\" >0.7422</td>\n",
       "      <td id=\"T_b71a1_row7_col2\" class=\"data row7 col2\" >0.0000</td>\n",
       "      <td id=\"T_b71a1_row7_col3\" class=\"data row7 col3\" >0.7422</td>\n",
       "      <td id=\"T_b71a1_row7_col4\" class=\"data row7 col4\" >0.8029</td>\n",
       "      <td id=\"T_b71a1_row7_col5\" class=\"data row7 col5\" >0.7547</td>\n",
       "      <td id=\"T_b71a1_row7_col6\" class=\"data row7 col6\" >0.5064</td>\n",
       "      <td id=\"T_b71a1_row7_col7\" class=\"data row7 col7\" >2.6380</td>\n",
       "    </tr>\n",
       "    <tr>\n",
       "      <th id=\"T_b71a1_level0_row8\" class=\"row_heading level0 row8\" >ridge</th>\n",
       "      <td id=\"T_b71a1_row8_col0\" class=\"data row8 col0\" >Ridge Classifier</td>\n",
       "      <td id=\"T_b71a1_row8_col1\" class=\"data row8 col1\" >0.6213</td>\n",
       "      <td id=\"T_b71a1_row8_col2\" class=\"data row8 col2\" >0.0000</td>\n",
       "      <td id=\"T_b71a1_row8_col3\" class=\"data row8 col3\" >0.6213</td>\n",
       "      <td id=\"T_b71a1_row8_col4\" class=\"data row8 col4\" >0.5820</td>\n",
       "      <td id=\"T_b71a1_row8_col5\" class=\"data row8 col5\" >0.5643</td>\n",
       "      <td id=\"T_b71a1_row8_col6\" class=\"data row8 col6\" >0.2456</td>\n",
       "      <td id=\"T_b71a1_row8_col7\" class=\"data row8 col7\" >1.6840</td>\n",
       "    </tr>\n",
       "    <tr>\n",
       "      <th id=\"T_b71a1_level0_row9\" class=\"row_heading level0 row9\" >nb</th>\n",
       "      <td id=\"T_b71a1_row9_col0\" class=\"data row9 col0\" >Naive Bayes</td>\n",
       "      <td id=\"T_b71a1_row9_col1\" class=\"data row9 col1\" >0.4711</td>\n",
       "      <td id=\"T_b71a1_row9_col2\" class=\"data row9 col2\" >0.0000</td>\n",
       "      <td id=\"T_b71a1_row9_col3\" class=\"data row9 col3\" >0.4711</td>\n",
       "      <td id=\"T_b71a1_row9_col4\" class=\"data row9 col4\" >0.5113</td>\n",
       "      <td id=\"T_b71a1_row9_col5\" class=\"data row9 col5\" >0.4184</td>\n",
       "      <td id=\"T_b71a1_row9_col6\" class=\"data row9 col6\" >0.2076</td>\n",
       "      <td id=\"T_b71a1_row9_col7\" class=\"data row9 col7\" >1.8440</td>\n",
       "    </tr>\n",
       "    <tr>\n",
       "      <th id=\"T_b71a1_level0_row10\" class=\"row_heading level0 row10\" >qda</th>\n",
       "      <td id=\"T_b71a1_row10_col0\" class=\"data row10 col0\" >Quadratic Discriminant Analysis</td>\n",
       "      <td id=\"T_b71a1_row10_col1\" class=\"data row10 col1\" >0.3712</td>\n",
       "      <td id=\"T_b71a1_row10_col2\" class=\"data row10 col2\" >0.0000</td>\n",
       "      <td id=\"T_b71a1_row10_col3\" class=\"data row10 col3\" >0.3712</td>\n",
       "      <td id=\"T_b71a1_row10_col4\" class=\"data row10 col4\" >0.7173</td>\n",
       "      <td id=\"T_b71a1_row10_col5\" class=\"data row10 col5\" >0.3751</td>\n",
       "      <td id=\"T_b71a1_row10_col6\" class=\"data row10 col6\" >0.2064</td>\n",
       "      <td id=\"T_b71a1_row10_col7\" class=\"data row10 col7\" >2.8800</td>\n",
       "    </tr>\n",
       "    <tr>\n",
       "      <th id=\"T_b71a1_level0_row11\" class=\"row_heading level0 row11\" >ada</th>\n",
       "      <td id=\"T_b71a1_row11_col0\" class=\"data row11 col0\" >Ada Boost Classifier</td>\n",
       "      <td id=\"T_b71a1_row11_col1\" class=\"data row11 col1\" >0.3202</td>\n",
       "      <td id=\"T_b71a1_row11_col2\" class=\"data row11 col2\" >0.0000</td>\n",
       "      <td id=\"T_b71a1_row11_col3\" class=\"data row11 col3\" >0.3202</td>\n",
       "      <td id=\"T_b71a1_row11_col4\" class=\"data row11 col4\" >0.1897</td>\n",
       "      <td id=\"T_b71a1_row11_col5\" class=\"data row11 col5\" >0.2316</td>\n",
       "      <td id=\"T_b71a1_row11_col6\" class=\"data row11 col6\" >0.0958</td>\n",
       "      <td id=\"T_b71a1_row11_col7\" class=\"data row11 col7\" >7.0040</td>\n",
       "    </tr>\n",
       "    <tr>\n",
       "      <th id=\"T_b71a1_level0_row12\" class=\"row_heading level0 row12\" >lightgbm</th>\n",
       "      <td id=\"T_b71a1_row12_col0\" class=\"data row12 col0\" >Light Gradient Boosting Machine</td>\n",
       "      <td id=\"T_b71a1_row12_col1\" class=\"data row12 col1\" >0.2595</td>\n",
       "      <td id=\"T_b71a1_row12_col2\" class=\"data row12 col2\" >0.0000</td>\n",
       "      <td id=\"T_b71a1_row12_col3\" class=\"data row12 col3\" >0.2595</td>\n",
       "      <td id=\"T_b71a1_row12_col4\" class=\"data row12 col4\" >0.3227</td>\n",
       "      <td id=\"T_b71a1_row12_col5\" class=\"data row12 col5\" >0.2133</td>\n",
       "      <td id=\"T_b71a1_row12_col6\" class=\"data row12 col6\" >0.0861</td>\n",
       "      <td id=\"T_b71a1_row12_col7\" class=\"data row12 col7\" >237.1780</td>\n",
       "    </tr>\n",
       "    <tr>\n",
       "      <th id=\"T_b71a1_level0_row13\" class=\"row_heading level0 row13\" >lr</th>\n",
       "      <td id=\"T_b71a1_row13_col0\" class=\"data row13 col0\" >Logistic Regression</td>\n",
       "      <td id=\"T_b71a1_row13_col1\" class=\"data row13 col1\" >0.1799</td>\n",
       "      <td id=\"T_b71a1_row13_col2\" class=\"data row13 col2\" >0.0000</td>\n",
       "      <td id=\"T_b71a1_row13_col3\" class=\"data row13 col3\" >0.1799</td>\n",
       "      <td id=\"T_b71a1_row13_col4\" class=\"data row13 col4\" >0.1311</td>\n",
       "      <td id=\"T_b71a1_row13_col5\" class=\"data row13 col5\" >0.1049</td>\n",
       "      <td id=\"T_b71a1_row13_col6\" class=\"data row13 col6\" >0.0288</td>\n",
       "      <td id=\"T_b71a1_row13_col7\" class=\"data row13 col7\" >156.3840</td>\n",
       "    </tr>\n",
       "    <tr>\n",
       "      <th id=\"T_b71a1_level0_row14\" class=\"row_heading level0 row14\" >svm</th>\n",
       "      <td id=\"T_b71a1_row14_col0\" class=\"data row14 col0\" >SVM - Linear Kernel</td>\n",
       "      <td id=\"T_b71a1_row14_col1\" class=\"data row14 col1\" >0.0656</td>\n",
       "      <td id=\"T_b71a1_row14_col2\" class=\"data row14 col2\" >0.0000</td>\n",
       "      <td id=\"T_b71a1_row14_col3\" class=\"data row14 col3\" >0.0656</td>\n",
       "      <td id=\"T_b71a1_row14_col4\" class=\"data row14 col4\" >0.1173</td>\n",
       "      <td id=\"T_b71a1_row14_col5\" class=\"data row14 col5\" >0.0710</td>\n",
       "      <td id=\"T_b71a1_row14_col6\" class=\"data row14 col6\" >0.0233</td>\n",
       "      <td id=\"T_b71a1_row14_col7\" class=\"data row14 col7\" >7.7700</td>\n",
       "    </tr>\n",
       "    <tr>\n",
       "      <th id=\"T_b71a1_level0_row15\" class=\"row_heading level0 row15\" >dummy</th>\n",
       "      <td id=\"T_b71a1_row15_col0\" class=\"data row15 col0\" >Dummy Classifier</td>\n",
       "      <td id=\"T_b71a1_row15_col1\" class=\"data row15 col1\" >0.1632</td>\n",
       "      <td id=\"T_b71a1_row15_col2\" class=\"data row15 col2\" >0.0000</td>\n",
       "      <td id=\"T_b71a1_row15_col3\" class=\"data row15 col3\" >0.1632</td>\n",
       "      <td id=\"T_b71a1_row15_col4\" class=\"data row15 col4\" >0.0266</td>\n",
       "      <td id=\"T_b71a1_row15_col5\" class=\"data row15 col5\" >0.0458</td>\n",
       "      <td id=\"T_b71a1_row15_col6\" class=\"data row15 col6\" >0.0097</td>\n",
       "      <td id=\"T_b71a1_row15_col7\" class=\"data row15 col7\" >2.3380</td>\n",
       "    </tr>\n",
       "  </tbody>\n",
       "</table>\n"
      ],
      "text/plain": [
       "<pandas.io.formats.style.Styler at 0x7f5ca913ca10>"
      ]
     },
     "metadata": {},
     "output_type": "display_data"
    },
    {
     "data": {
      "text/html": [],
      "text/plain": [
       "<IPython.core.display.HTML object>"
      ]
     },
     "metadata": {},
     "output_type": "display_data"
    }
   ],
   "source": [
    "# train and compare base models\n",
    "\n",
    "# #NOTE: class_weights are not yet supported in compare_models\n",
    "# class_weights = class_weight.compute_class_weight(\n",
    "#     class_weight=\"balanced\",\n",
    "#     classes=np.unique(df_sub.iloc[:, -1]),\n",
    "#     y=df_sub.iloc[:, -1]\n",
    "# )\n",
    "# class_weight_dict = dict(enumerate(class_weights))\n",
    "# basemodels = exp_base.compare_models(include=['dt', 'rf'], sort='F1_Macro', fit_kwargs={'class_weight': class_weight_dict})\n",
    "# lr_clf = exp_base.create_model('lr', class_weight=class_weight_dict)\n",
    "\n",
    "base_models = exp_base.compare_models(sort='F1_Macro', n_select=exp_base.models().shape[0])"
   ]
  },
  {
   "cell_type": "code",
   "execution_count": 16,
   "metadata": {
    "executionInfo": {
     "elapsed": 1399,
     "status": "ok",
     "timestamp": 1731545606113,
     "user": {
      "displayName": "david",
      "userId": "08934139501495265978"
     },
     "user_tz": -60
    },
    "id": "GzZBjwHX4B45"
   },
   "outputs": [],
   "source": [
    "# Create the directory if it doesn't exist\n",
    "os.makedirs(config['pycaret_exp_storage_directory'], exist_ok=True)\n",
    "exp_filename = \"exp_base.pkl\"\n",
    "exp_base.save_experiment(f\"{config['pycaret_exp_storage_directory']}/{exp_filename}\")"
   ]
  },
  {
   "cell_type": "markdown",
   "metadata": {
    "id": "DFRguuUXUnNv"
   },
   "source": [
    "## PyCaret Best Model Evaluation"
   ]
  },
  {
   "cell_type": "code",
   "execution_count": 17,
   "metadata": {
    "executionInfo": {
     "elapsed": 8,
     "status": "ok",
     "timestamp": 1731545606113,
     "user": {
      "displayName": "david",
      "userId": "08934139501495265978"
     },
     "user_tz": -60
    },
    "id": "YhsWxHjZUqy6"
   },
   "outputs": [],
   "source": [
    "try:\n",
    "    exp_filename = \"exp_base.pkl\"\n",
    "    try:\n",
    "        # Check if exp_base is defined and assign it only if it exists. \"or\" statment in case exp_base is falsy.\n",
    "        exp_base = exp_base or ClassificationExperiment.load_experiment(f\"{config['pycaret_exp_storage_directory']}/{exp_filename}\")\n",
    "    except NameError:\n",
    "        # If exp_base is not defined, assign it by loading the experiment.\n",
    "        exp_base = ClassificationExperiment.load_experiment(f\"{config['pycaret_exp_storage_directory']}/{exp_filename}\")\n",
    "        print(\"Loading experiment from storage.\")\n",
    "except Exception as e:\n",
    "    print(f\"An error occurred: {e}\")\n",
    "    print(f\"The experiment {exp_filename} does not exist and could not be loaded.\")"
   ]
  },
  {
   "cell_type": "code",
   "execution_count": null,
   "metadata": {
    "colab": {
     "base_uri": "https://localhost:8080/",
     "height": 1000,
     "referenced_widgets": [
      "6d8bc7be62064ae48730f670f2352564",
      "ecfd645ccac747a5a57929dc95aa1961",
      "1bf6077c5b374831ab8845f40ba2887c",
      "8277d6bb1cd04b20bbd0bdee2e96cea6",
      "f13e0fe8fb6a4a38bfcd71520c7811e4",
      "805f7b2cc29744c0b6ec09b4735dc361",
      "e3924c95240146e4a35cc0d4b88c57f3",
      "77a3833501794b24b0e2dac41d43a33c",
      "284770678fae4c30804d6dca2258804a",
      "b05483f975a24d01b37e69a643d0aab6",
      "d449e2561b924f03b9c6eccb4a18701c"
     ]
    },
    "executionInfo": {
     "elapsed": 3662881,
     "status": "ok",
     "timestamp": 1731549268986,
     "user": {
      "displayName": "david",
      "userId": "08934139501495265978"
     },
     "user_tz": -60
    },
    "id": "86FQ6bvWEEGP",
    "outputId": "d493ffe6-6214-4579-9cd2-b6734e3a5433"
   },
   "outputs": [
    {
     "data": {
      "text/html": [
       "<div>\n",
       "<style scoped>\n",
       "    .dataframe tbody tr th:only-of-type {\n",
       "        vertical-align: middle;\n",
       "    }\n",
       "\n",
       "    .dataframe tbody tr th {\n",
       "        vertical-align: top;\n",
       "    }\n",
       "\n",
       "    .dataframe thead th {\n",
       "        text-align: right;\n",
       "    }\n",
       "</style>\n",
       "<table border=\"1\" class=\"dataframe\">\n",
       "  <thead>\n",
       "    <tr style=\"text-align: right;\">\n",
       "      <th></th>\n",
       "      <th></th>\n",
       "      <th></th>\n",
       "    </tr>\n",
       "    <tr>\n",
       "      <th></th>\n",
       "      <th></th>\n",
       "      <th></th>\n",
       "    </tr>\n",
       "  </thead>\n",
       "  <tbody>\n",
       "    <tr>\n",
       "      <th>Initiated</th>\n",
       "      <td>. . . . . . . . . . . . . . . . . .</td>\n",
       "      <td>22:11:59</td>\n",
       "    </tr>\n",
       "    <tr>\n",
       "      <th>Status</th>\n",
       "      <td>. . . . . . . . . . . . . . . . . .</td>\n",
       "      <td>Collecting models</td>\n",
       "    </tr>\n",
       "    <tr>\n",
       "      <th>Estimator</th>\n",
       "      <td>. . . . . . . . . . . . . . . . . .</td>\n",
       "      <td>Logistic Regression</td>\n",
       "    </tr>\n",
       "  </tbody>\n",
       "</table>\n",
       "</div>"
      ],
      "text/plain": [
       "                                                                   \n",
       "                                                                   \n",
       "Initiated  . . . . . . . . . . . . . . . . . .             22:11:59\n",
       "Status     . . . . . . . . . . . . . . . . . .    Collecting models\n",
       "Estimator  . . . . . . . . . . . . . . . . . .  Logistic Regression"
      ]
     },
     "metadata": {},
     "output_type": "display_data"
    },
    {
     "data": {
      "text/html": [],
      "text/plain": [
       "<IPython.core.display.HTML object>"
      ]
     },
     "metadata": {},
     "output_type": "display_data"
    },
    {
     "data": {
      "application/vnd.jupyter.widget-view+json": {
       "model_id": "f449c99288e84e308eda4e9ced02cb6f",
       "version_major": 2,
       "version_minor": 0
      },
      "text/plain": [
       "Processing:   0%|          | 0/17 [00:00<?, ?it/s]"
      ]
     },
     "metadata": {},
     "output_type": "display_data"
    }
   ],
   "source": [
    "leaderboard_base = exp_base.get_leaderboard()\n",
    "leaderboard_base.sort_values(by='F1_Macro', ascending=False)"
   ]
  },
  {
   "cell_type": "markdown",
   "metadata": {
    "id": "L67SbDweEEGP"
   },
   "source": [
    "## PyCaret Tuned Models Training Pipeline"
   ]
  },
  {
   "cell_type": "code",
   "execution_count": null,
   "metadata": {
    "colab": {
     "base_uri": "https://localhost:8080/"
    },
    "executionInfo": {
     "elapsed": 15,
     "status": "ok",
     "timestamp": 1731549268987,
     "user": {
      "displayName": "david",
      "userId": "08934139501495265978"
     },
     "user_tz": -60
    },
    "id": "miG8djabEEGQ",
    "outputId": "b55641a6-01f1-43d6-cdef-785d789de297"
   },
   "outputs": [
    {
     "name": "stdout",
     "output_type": "stream",
     "text": [
      "Experiment loaded from storage.\n",
      "Experiment Type: <class 'pycaret.classification.oop.ClassificationExperiment'>\n"
     ]
    }
   ],
   "source": [
    "try:\n",
    "    exp_filename = \"exp_base.pkl\"\n",
    "    try:\n",
    "        # Check if exp_tuned is defined and assign it only if it exists. \"or\" statment in case exp_base is falsy.\n",
    "        exp_tuned = exp_base or ClassificationExperiment.load_experiment(f\"{config['pycaret_exp_storage_directory']}/{exp_filename}\")\n",
    "        print(\"Experiment loaded from storage.\")\n",
    "    except NameError:\n",
    "        # If exp_tuned is not defined, assign it by loading the experiment.\n",
    "        exp_tuned = ClassificationExperiment.load_experiment(f\"{config['pycaret_exp_storage_directory']}/{exp_filename}\")\n",
    "except Exception as e:\n",
    "    print(f\"An error occurred: {e}\")\n",
    "    print(f\"The experiment {exp_filename} does not exist and could not be loaded.\")\n",
    "    print(\"Define new pycaret experiment for tuning.\")\n",
    "    exp_tuned = ClassificationExperiment()\n",
    "    exp_tuned.setup(\n",
    "        df_sub,\n",
    "        target='packaging_category',\n",
    "        train_size=0.8,\n",
    "        fold=5,\n",
    "        fold_strategy='stratifiedkfold',\n",
    "        session_id=42\n",
    "    )\n",
    "    # add sklearn f1_score macro average\n",
    "    exp_tuned.add_metric(id='f1_macro', name='F1_Macro', score_func=utils.f1_score_macro, greater_is_better=True)\n",
    "    exp_tuned.remove_metric('MCC')\n",
    "    exp_tuned.remove_metric('Kappa')\n",
    "    exp_tuned.get_metrics()\n",
    "\n",
    "print(f\"Experiment Type: {type(exp_tuned)}\") # check the type of exp"
   ]
  },
  {
   "cell_type": "code",
   "execution_count": null,
   "metadata": {
    "colab": {
     "background_save": true,
     "base_uri": "https://localhost:8080/",
     "height": 923,
     "referenced_widgets": [
      "9ae69fa71c2c4a6188181cf77b23c197",
      "17a9b566b03741f59c4cc7989e561370",
      "eb5f05de6d5247d9a5bdef2b64c51aa4",
      "2d8560246e5647f88d99ad5a5fcbf61e",
      "a7e5978398bd4383ab217a18b71437bd",
      "7e33d1a4dc03408497159548854eb684",
      "0589cb110b854679a87fa60c7415dfd3",
      "9eede1d914f848a898597cc2f68063f0",
      "24a1d454137a4e59becc5d23d9ba13ff",
      "fc09c5ae6634466888993ca4f2782128",
      "fb2f7ae7ad5647f291a132c7ab6074d7",
      "536badc37f744dbbb5e728b0b5268314",
      "b663dddb3968401b90ff4450fbeb4072",
      "e47c0b32406d400db527c36e6e596c37",
      "0155a2215c4c44969ed15c38a48eda9c",
      "c824e62ecaa54cbe9d4c4a0b9088b72c",
      "dc305158eb60468d9b5de825c40a4568",
      "a766d0d89b5b4e56949344f5b6867ed2",
      "35b1cb39102a415c886905c78f63ee63",
      "df8925ae173a4143baa87037775ca5bc",
      "19b5050d191e42659c30c1c4569ac4f4",
      "656231bbae0c4f709b65b61d7f8e2413",
      "22f31eacfefd44818577b9a31055e5ef",
      "d4be1d4d4e9d4de8a4b757e2781e6d64",
      "30a57f1f09cd4c29959534ee91a13071",
      "bdaf68e80ddb4061a4d422a8965b42a9",
      "53448fe3b60f461786941ce4de7a1460",
      "13cc5a562b0c43babb5018b4618de338",
      "1cf1977335f8429f92d20c08cfab6184",
      "7d1eee4a05f643feb4dfbad44830c282",
      "7a88d033b0e646dc987d2d5c2ed968fb",
      "7fbcf03296524900a89f0003a27d60f4",
      "6932ebe25ff4484885079dd9654679b0"
     ]
    },
    "id": "j4I7M3t3EEGQ",
    "outputId": "8b8adaa1-e179-4770-eba3-9862ff01f539"
   },
   "outputs": [
    {
     "name": "stdout",
     "output_type": "stream",
     "text": [
      "##### Model Algorithm: <class 'sklearn.tree._classes.DecisionTreeClassifier'> #####\n"
     ]
    },
    {
     "data": {
      "text/html": [],
      "text/plain": [
       "<IPython.core.display.HTML object>"
      ]
     },
     "metadata": {},
     "output_type": "display_data"
    },
    {
     "data": {
      "text/html": [
       "<style type=\"text/css\">\n",
       "#T_a2249_row5_col0, #T_a2249_row5_col1, #T_a2249_row5_col2, #T_a2249_row5_col3, #T_a2249_row5_col4, #T_a2249_row5_col5 {\n",
       "  background: yellow;\n",
       "}\n",
       "</style>\n",
       "<table id=\"T_a2249\" class=\"dataframe\">\n",
       "  <thead>\n",
       "    <tr>\n",
       "      <th class=\"blank level0\" >&nbsp;</th>\n",
       "      <th id=\"T_a2249_level0_col0\" class=\"col_heading level0 col0\" >Accuracy</th>\n",
       "      <th id=\"T_a2249_level0_col1\" class=\"col_heading level0 col1\" >AUC</th>\n",
       "      <th id=\"T_a2249_level0_col2\" class=\"col_heading level0 col2\" >Recall</th>\n",
       "      <th id=\"T_a2249_level0_col3\" class=\"col_heading level0 col3\" >Prec.</th>\n",
       "      <th id=\"T_a2249_level0_col4\" class=\"col_heading level0 col4\" >F1</th>\n",
       "      <th id=\"T_a2249_level0_col5\" class=\"col_heading level0 col5\" >F1_Macro</th>\n",
       "    </tr>\n",
       "    <tr>\n",
       "      <th class=\"index_name level0\" >Fold</th>\n",
       "      <th class=\"blank col0\" >&nbsp;</th>\n",
       "      <th class=\"blank col1\" >&nbsp;</th>\n",
       "      <th class=\"blank col2\" >&nbsp;</th>\n",
       "      <th class=\"blank col3\" >&nbsp;</th>\n",
       "      <th class=\"blank col4\" >&nbsp;</th>\n",
       "      <th class=\"blank col5\" >&nbsp;</th>\n",
       "    </tr>\n",
       "  </thead>\n",
       "  <tbody>\n",
       "    <tr>\n",
       "      <th id=\"T_a2249_level0_row0\" class=\"row_heading level0 row0\" >0</th>\n",
       "      <td id=\"T_a2249_row0_col0\" class=\"data row0 col0\" >0.8430</td>\n",
       "      <td id=\"T_a2249_row0_col1\" class=\"data row0 col1\" >0.9287</td>\n",
       "      <td id=\"T_a2249_row0_col2\" class=\"data row0 col2\" >0.8430</td>\n",
       "      <td id=\"T_a2249_row0_col3\" class=\"data row0 col3\" >0.9759</td>\n",
       "      <td id=\"T_a2249_row0_col4\" class=\"data row0 col4\" >0.9011</td>\n",
       "      <td id=\"T_a2249_row0_col5\" class=\"data row0 col5\" >0.7755</td>\n",
       "    </tr>\n",
       "    <tr>\n",
       "      <th id=\"T_a2249_level0_row1\" class=\"row_heading level0 row1\" >1</th>\n",
       "      <td id=\"T_a2249_row1_col0\" class=\"data row1 col0\" >0.8492</td>\n",
       "      <td id=\"T_a2249_row1_col1\" class=\"data row1 col1\" >0.9324</td>\n",
       "      <td id=\"T_a2249_row1_col2\" class=\"data row1 col2\" >0.8492</td>\n",
       "      <td id=\"T_a2249_row1_col3\" class=\"data row1 col3\" >0.9741</td>\n",
       "      <td id=\"T_a2249_row1_col4\" class=\"data row1 col4\" >0.9032</td>\n",
       "      <td id=\"T_a2249_row1_col5\" class=\"data row1 col5\" >0.7313</td>\n",
       "    </tr>\n",
       "    <tr>\n",
       "      <th id=\"T_a2249_level0_row2\" class=\"row_heading level0 row2\" >2</th>\n",
       "      <td id=\"T_a2249_row2_col0\" class=\"data row2 col0\" >0.8336</td>\n",
       "      <td id=\"T_a2249_row2_col1\" class=\"data row2 col1\" >0.9276</td>\n",
       "      <td id=\"T_a2249_row2_col2\" class=\"data row2 col2\" >0.8336</td>\n",
       "      <td id=\"T_a2249_row2_col3\" class=\"data row2 col3\" >0.9680</td>\n",
       "      <td id=\"T_a2249_row2_col4\" class=\"data row2 col4\" >0.8912</td>\n",
       "      <td id=\"T_a2249_row2_col5\" class=\"data row2 col5\" >0.6886</td>\n",
       "    </tr>\n",
       "    <tr>\n",
       "      <th id=\"T_a2249_level0_row3\" class=\"row_heading level0 row3\" >3</th>\n",
       "      <td id=\"T_a2249_row3_col0\" class=\"data row3 col0\" >0.8402</td>\n",
       "      <td id=\"T_a2249_row3_col1\" class=\"data row3 col1\" >0.9286</td>\n",
       "      <td id=\"T_a2249_row3_col2\" class=\"data row3 col2\" >0.8402</td>\n",
       "      <td id=\"T_a2249_row3_col3\" class=\"data row3 col3\" >0.9744</td>\n",
       "      <td id=\"T_a2249_row3_col4\" class=\"data row3 col4\" >0.8986</td>\n",
       "      <td id=\"T_a2249_row3_col5\" class=\"data row3 col5\" >0.7006</td>\n",
       "    </tr>\n",
       "    <tr>\n",
       "      <th id=\"T_a2249_level0_row4\" class=\"row_heading level0 row4\" >4</th>\n",
       "      <td id=\"T_a2249_row4_col0\" class=\"data row4 col0\" >0.8252</td>\n",
       "      <td id=\"T_a2249_row4_col1\" class=\"data row4 col1\" >0.9209</td>\n",
       "      <td id=\"T_a2249_row4_col2\" class=\"data row4 col2\" >0.8252</td>\n",
       "      <td id=\"T_a2249_row4_col3\" class=\"data row4 col3\" >0.9599</td>\n",
       "      <td id=\"T_a2249_row4_col4\" class=\"data row4 col4\" >0.8826</td>\n",
       "      <td id=\"T_a2249_row4_col5\" class=\"data row4 col5\" >0.6931</td>\n",
       "    </tr>\n",
       "    <tr>\n",
       "      <th id=\"T_a2249_level0_row5\" class=\"row_heading level0 row5\" >Mean</th>\n",
       "      <td id=\"T_a2249_row5_col0\" class=\"data row5 col0\" >0.8382</td>\n",
       "      <td id=\"T_a2249_row5_col1\" class=\"data row5 col1\" >0.9276</td>\n",
       "      <td id=\"T_a2249_row5_col2\" class=\"data row5 col2\" >0.8382</td>\n",
       "      <td id=\"T_a2249_row5_col3\" class=\"data row5 col3\" >0.9704</td>\n",
       "      <td id=\"T_a2249_row5_col4\" class=\"data row5 col4\" >0.8953</td>\n",
       "      <td id=\"T_a2249_row5_col5\" class=\"data row5 col5\" >0.7178</td>\n",
       "    </tr>\n",
       "    <tr>\n",
       "      <th id=\"T_a2249_level0_row6\" class=\"row_heading level0 row6\" >Std</th>\n",
       "      <td id=\"T_a2249_row6_col0\" class=\"data row6 col0\" >0.0082</td>\n",
       "      <td id=\"T_a2249_row6_col1\" class=\"data row6 col1\" >0.0038</td>\n",
       "      <td id=\"T_a2249_row6_col2\" class=\"data row6 col2\" >0.0082</td>\n",
       "      <td id=\"T_a2249_row6_col3\" class=\"data row6 col3\" >0.0059</td>\n",
       "      <td id=\"T_a2249_row6_col4\" class=\"data row6 col4\" >0.0076</td>\n",
       "      <td id=\"T_a2249_row6_col5\" class=\"data row6 col5\" >0.0325</td>\n",
       "    </tr>\n",
       "  </tbody>\n",
       "</table>\n"
      ],
      "text/plain": [
       "<pandas.io.formats.style.Styler at 0x7c372834e500>"
      ]
     },
     "metadata": {},
     "output_type": "display_data"
    },
    {
     "data": {
      "application/vnd.jupyter.widget-view+json": {
       "model_id": "9ae69fa71c2c4a6188181cf77b23c197",
       "version_major": 2,
       "version_minor": 0
      },
      "text/plain": [
       "Processing:   0%|          | 0/7 [00:00<?, ?it/s]"
      ]
     },
     "metadata": {
      "application/vnd.jupyter.widget-view+json": {
       "colab": {
        "custom_widget_manager": {
         "url": "https://ssl.gstatic.com/colaboratory-static/widgets/colab-cdn-widget-manager/2b70e893a8ba7c0f/manager.min.js"
        }
       }
      }
     },
     "output_type": "display_data"
    },
    {
     "name": "stdout",
     "output_type": "stream",
     "text": [
      "Fitting 5 folds for each of 20 candidates, totalling 100 fits\n"
     ]
    },
    {
     "data": {
      "text/html": [],
      "text/plain": [
       "<IPython.core.display.HTML object>"
      ]
     },
     "metadata": {},
     "output_type": "display_data"
    },
    {
     "name": "stdout",
     "output_type": "stream",
     "text": [
      "Original model was better than the tuned model, hence it will be returned. NOTE: The display metrics are for the tuned model (not the original one).\n",
      "\n",
      "\n",
      "##### Model Algorithm: <class 'xgboost.sklearn.XGBClassifier'> #####\n"
     ]
    },
    {
     "data": {
      "text/html": [],
      "text/plain": [
       "<IPython.core.display.HTML object>"
      ]
     },
     "metadata": {},
     "output_type": "display_data"
    },
    {
     "data": {
      "text/html": [
       "<style type=\"text/css\">\n",
       "#T_2bf25_row5_col0, #T_2bf25_row5_col1, #T_2bf25_row5_col2, #T_2bf25_row5_col3, #T_2bf25_row5_col4, #T_2bf25_row5_col5 {\n",
       "  background: yellow;\n",
       "}\n",
       "</style>\n",
       "<table id=\"T_2bf25\" class=\"dataframe\">\n",
       "  <thead>\n",
       "    <tr>\n",
       "      <th class=\"blank level0\" >&nbsp;</th>\n",
       "      <th id=\"T_2bf25_level0_col0\" class=\"col_heading level0 col0\" >Accuracy</th>\n",
       "      <th id=\"T_2bf25_level0_col1\" class=\"col_heading level0 col1\" >AUC</th>\n",
       "      <th id=\"T_2bf25_level0_col2\" class=\"col_heading level0 col2\" >Recall</th>\n",
       "      <th id=\"T_2bf25_level0_col3\" class=\"col_heading level0 col3\" >Prec.</th>\n",
       "      <th id=\"T_2bf25_level0_col4\" class=\"col_heading level0 col4\" >F1</th>\n",
       "      <th id=\"T_2bf25_level0_col5\" class=\"col_heading level0 col5\" >F1_Macro</th>\n",
       "    </tr>\n",
       "    <tr>\n",
       "      <th class=\"index_name level0\" >Fold</th>\n",
       "      <th class=\"blank col0\" >&nbsp;</th>\n",
       "      <th class=\"blank col1\" >&nbsp;</th>\n",
       "      <th class=\"blank col2\" >&nbsp;</th>\n",
       "      <th class=\"blank col3\" >&nbsp;</th>\n",
       "      <th class=\"blank col4\" >&nbsp;</th>\n",
       "      <th class=\"blank col5\" >&nbsp;</th>\n",
       "    </tr>\n",
       "  </thead>\n",
       "  <tbody>\n",
       "    <tr>\n",
       "      <th id=\"T_2bf25_level0_row0\" class=\"row_heading level0 row0\" >0</th>\n",
       "      <td id=\"T_2bf25_row0_col0\" class=\"data row0 col0\" >0.8767</td>\n",
       "      <td id=\"T_2bf25_row0_col1\" class=\"data row0 col1\" >0.9941</td>\n",
       "      <td id=\"T_2bf25_row0_col2\" class=\"data row0 col2\" >0.8767</td>\n",
       "      <td id=\"T_2bf25_row0_col3\" class=\"data row0 col3\" >0.9890</td>\n",
       "      <td id=\"T_2bf25_row0_col4\" class=\"data row0 col4\" >0.9265</td>\n",
       "      <td id=\"T_2bf25_row0_col5\" class=\"data row0 col5\" >0.8473</td>\n",
       "    </tr>\n",
       "    <tr>\n",
       "      <th id=\"T_2bf25_level0_row1\" class=\"row_heading level0 row1\" >1</th>\n",
       "      <td id=\"T_2bf25_row1_col0\" class=\"data row1 col0\" >0.8769</td>\n",
       "      <td id=\"T_2bf25_row1_col1\" class=\"data row1 col1\" >0.9932</td>\n",
       "      <td id=\"T_2bf25_row1_col2\" class=\"data row1 col2\" >0.8769</td>\n",
       "      <td id=\"T_2bf25_row1_col3\" class=\"data row1 col3\" >0.9914</td>\n",
       "      <td id=\"T_2bf25_row1_col4\" class=\"data row1 col4\" >0.9273</td>\n",
       "      <td id=\"T_2bf25_row1_col5\" class=\"data row1 col5\" >0.8033</td>\n",
       "    </tr>\n",
       "    <tr>\n",
       "      <th id=\"T_2bf25_level0_row2\" class=\"row_heading level0 row2\" >2</th>\n",
       "      <td id=\"T_2bf25_row2_col0\" class=\"data row2 col0\" >0.8713</td>\n",
       "      <td id=\"T_2bf25_row2_col1\" class=\"data row2 col1\" >0.9922</td>\n",
       "      <td id=\"T_2bf25_row2_col2\" class=\"data row2 col2\" >0.8713</td>\n",
       "      <td id=\"T_2bf25_row2_col3\" class=\"data row2 col3\" >0.9967</td>\n",
       "      <td id=\"T_2bf25_row2_col4\" class=\"data row2 col4\" >0.9266</td>\n",
       "      <td id=\"T_2bf25_row2_col5\" class=\"data row2 col5\" >0.8577</td>\n",
       "    </tr>\n",
       "    <tr>\n",
       "      <th id=\"T_2bf25_level0_row3\" class=\"row_heading level0 row3\" >3</th>\n",
       "      <td id=\"T_2bf25_row3_col0\" class=\"data row3 col0\" >0.9232</td>\n",
       "      <td id=\"T_2bf25_row3_col1\" class=\"data row3 col1\" >0.9965</td>\n",
       "      <td id=\"T_2bf25_row3_col2\" class=\"data row3 col2\" >0.9232</td>\n",
       "      <td id=\"T_2bf25_row3_col3\" class=\"data row3 col3\" >0.9549</td>\n",
       "      <td id=\"T_2bf25_row3_col4\" class=\"data row3 col4\" >0.9368</td>\n",
       "      <td id=\"T_2bf25_row3_col5\" class=\"data row3 col5\" >0.8459</td>\n",
       "    </tr>\n",
       "    <tr>\n",
       "      <th id=\"T_2bf25_level0_row4\" class=\"row_heading level0 row4\" >4</th>\n",
       "      <td id=\"T_2bf25_row4_col0\" class=\"data row4 col0\" >0.9046</td>\n",
       "      <td id=\"T_2bf25_row4_col1\" class=\"data row4 col1\" >0.9948</td>\n",
       "      <td id=\"T_2bf25_row4_col2\" class=\"data row4 col2\" >0.9046</td>\n",
       "      <td id=\"T_2bf25_row4_col3\" class=\"data row4 col3\" >0.9581</td>\n",
       "      <td id=\"T_2bf25_row4_col4\" class=\"data row4 col4\" >0.9262</td>\n",
       "      <td id=\"T_2bf25_row4_col5\" class=\"data row4 col5\" >0.7889</td>\n",
       "    </tr>\n",
       "    <tr>\n",
       "      <th id=\"T_2bf25_level0_row5\" class=\"row_heading level0 row5\" >Mean</th>\n",
       "      <td id=\"T_2bf25_row5_col0\" class=\"data row5 col0\" >0.8906</td>\n",
       "      <td id=\"T_2bf25_row5_col1\" class=\"data row5 col1\" >0.9942</td>\n",
       "      <td id=\"T_2bf25_row5_col2\" class=\"data row5 col2\" >0.8906</td>\n",
       "      <td id=\"T_2bf25_row5_col3\" class=\"data row5 col3\" >0.9780</td>\n",
       "      <td id=\"T_2bf25_row5_col4\" class=\"data row5 col4\" >0.9287</td>\n",
       "      <td id=\"T_2bf25_row5_col5\" class=\"data row5 col5\" >0.8286</td>\n",
       "    </tr>\n",
       "    <tr>\n",
       "      <th id=\"T_2bf25_level0_row6\" class=\"row_heading level0 row6\" >Std</th>\n",
       "      <td id=\"T_2bf25_row6_col0\" class=\"data row6 col0\" >0.0201</td>\n",
       "      <td id=\"T_2bf25_row6_col1\" class=\"data row6 col1\" >0.0015</td>\n",
       "      <td id=\"T_2bf25_row6_col2\" class=\"data row6 col2\" >0.0201</td>\n",
       "      <td id=\"T_2bf25_row6_col3\" class=\"data row6 col3\" >0.0178</td>\n",
       "      <td id=\"T_2bf25_row6_col4\" class=\"data row6 col4\" >0.0041</td>\n",
       "      <td id=\"T_2bf25_row6_col5\" class=\"data row6 col5\" >0.0273</td>\n",
       "    </tr>\n",
       "  </tbody>\n",
       "</table>\n"
      ],
      "text/plain": [
       "<pandas.io.formats.style.Styler at 0x7c3728c12cb0>"
      ]
     },
     "metadata": {},
     "output_type": "display_data"
    },
    {
     "data": {
      "application/vnd.jupyter.widget-view+json": {
       "model_id": "656231bbae0c4f709b65b61d7f8e2413",
       "version_major": 2,
       "version_minor": 0
      },
      "text/plain": [
       "Processing:   0%|          | 0/7 [00:00<?, ?it/s]"
      ]
     },
     "metadata": {
      "application/vnd.jupyter.widget-view+json": {
       "colab": {
        "custom_widget_manager": {
         "url": "https://ssl.gstatic.com/colaboratory-static/widgets/colab-cdn-widget-manager/2b70e893a8ba7c0f/manager.min.js"
        }
       }
      }
     },
     "output_type": "display_data"
    },
    {
     "name": "stdout",
     "output_type": "stream",
     "text": [
      "Fitting 5 folds for each of 20 candidates, totalling 100 fits\n"
     ]
    },
    {
     "data": {
      "text/html": [],
      "text/plain": [
       "<IPython.core.display.HTML object>"
      ]
     },
     "metadata": {},
     "output_type": "display_data"
    },
    {
     "name": "stdout",
     "output_type": "stream",
     "text": [
      "\n",
      "\n",
      "##### Model Algorithm: <class 'sklearn.ensemble._gb.GradientBoostingClassifier'> #####\n"
     ]
    },
    {
     "data": {
      "application/vnd.google.colaboratory.intrinsic+json": {
       "summary": "{\n  \"name\": \"    print(\\\"\\\\n\\\")\",\n  \"rows\": 3,\n  \"fields\": [\n    {\n      \"column\": \" \",\n      \"properties\": {\n        \"dtype\": \"category\",\n        \"num_unique_values\": 1,\n        \"samples\": [\n          \". . . . . . . . . . . . . . . . . .\"\n        ],\n        \"semantic_type\": \"\",\n        \"description\": \"\"\n      }\n    },\n    {\n      \"column\": \"  \",\n      \"properties\": {\n        \"dtype\": \"string\",\n        \"num_unique_values\": 3,\n        \"samples\": [\n          \"02:50:39\"\n        ],\n        \"semantic_type\": \"\",\n        \"description\": \"\"\n      }\n    }\n  ]\n}",
       "type": "dataframe"
      },
      "text/html": [
       "\n",
       "  <div id=\"df-b9d70e74-60a5-40dc-ad5d-7d2134767e14\" class=\"colab-df-container\">\n",
       "    <div>\n",
       "<style scoped>\n",
       "    .dataframe tbody tr th:only-of-type {\n",
       "        vertical-align: middle;\n",
       "    }\n",
       "\n",
       "    .dataframe tbody tr th {\n",
       "        vertical-align: top;\n",
       "    }\n",
       "\n",
       "    .dataframe thead th {\n",
       "        text-align: right;\n",
       "    }\n",
       "</style>\n",
       "<table border=\"1\" class=\"dataframe\">\n",
       "  <thead>\n",
       "    <tr style=\"text-align: right;\">\n",
       "      <th></th>\n",
       "      <th></th>\n",
       "      <th></th>\n",
       "    </tr>\n",
       "    <tr>\n",
       "      <th></th>\n",
       "      <th></th>\n",
       "      <th></th>\n",
       "    </tr>\n",
       "  </thead>\n",
       "  <tbody>\n",
       "    <tr>\n",
       "      <th>Initiated</th>\n",
       "      <td>. . . . . . . . . . . . . . . . . .</td>\n",
       "      <td>02:50:39</td>\n",
       "    </tr>\n",
       "    <tr>\n",
       "      <th>Status</th>\n",
       "      <td>. . . . . . . . . . . . . . . . . .</td>\n",
       "      <td>Compiling Final Results</td>\n",
       "    </tr>\n",
       "    <tr>\n",
       "      <th>Estimator</th>\n",
       "      <td>. . . . . . . . . . . . . . . . . .</td>\n",
       "      <td>Gradient Boosting Classifier</td>\n",
       "    </tr>\n",
       "  </tbody>\n",
       "</table>\n",
       "</div>\n",
       "    <div class=\"colab-df-buttons\">\n",
       "\n",
       "  <div class=\"colab-df-container\">\n",
       "    <button class=\"colab-df-convert\" onclick=\"convertToInteractive('df-b9d70e74-60a5-40dc-ad5d-7d2134767e14')\"\n",
       "            title=\"Convert this dataframe to an interactive table.\"\n",
       "            style=\"display:none;\">\n",
       "\n",
       "  <svg xmlns=\"http://www.w3.org/2000/svg\" height=\"24px\" viewBox=\"0 -960 960 960\">\n",
       "    <path d=\"M120-120v-720h720v720H120Zm60-500h600v-160H180v160Zm220 220h160v-160H400v160Zm0 220h160v-160H400v160ZM180-400h160v-160H180v160Zm440 0h160v-160H620v160ZM180-180h160v-160H180v160Zm440 0h160v-160H620v160Z\"/>\n",
       "  </svg>\n",
       "    </button>\n",
       "\n",
       "  <style>\n",
       "    .colab-df-container {\n",
       "      display:flex;\n",
       "      gap: 12px;\n",
       "    }\n",
       "\n",
       "    .colab-df-convert {\n",
       "      background-color: #E8F0FE;\n",
       "      border: none;\n",
       "      border-radius: 50%;\n",
       "      cursor: pointer;\n",
       "      display: none;\n",
       "      fill: #1967D2;\n",
       "      height: 32px;\n",
       "      padding: 0 0 0 0;\n",
       "      width: 32px;\n",
       "    }\n",
       "\n",
       "    .colab-df-convert:hover {\n",
       "      background-color: #E2EBFA;\n",
       "      box-shadow: 0px 1px 2px rgba(60, 64, 67, 0.3), 0px 1px 3px 1px rgba(60, 64, 67, 0.15);\n",
       "      fill: #174EA6;\n",
       "    }\n",
       "\n",
       "    .colab-df-buttons div {\n",
       "      margin-bottom: 4px;\n",
       "    }\n",
       "\n",
       "    [theme=dark] .colab-df-convert {\n",
       "      background-color: #3B4455;\n",
       "      fill: #D2E3FC;\n",
       "    }\n",
       "\n",
       "    [theme=dark] .colab-df-convert:hover {\n",
       "      background-color: #434B5C;\n",
       "      box-shadow: 0px 1px 3px 1px rgba(0, 0, 0, 0.15);\n",
       "      filter: drop-shadow(0px 1px 2px rgba(0, 0, 0, 0.3));\n",
       "      fill: #FFFFFF;\n",
       "    }\n",
       "  </style>\n",
       "\n",
       "    <script>\n",
       "      const buttonEl =\n",
       "        document.querySelector('#df-b9d70e74-60a5-40dc-ad5d-7d2134767e14 button.colab-df-convert');\n",
       "      buttonEl.style.display =\n",
       "        google.colab.kernel.accessAllowed ? 'block' : 'none';\n",
       "\n",
       "      async function convertToInteractive(key) {\n",
       "        const element = document.querySelector('#df-b9d70e74-60a5-40dc-ad5d-7d2134767e14');\n",
       "        const dataTable =\n",
       "          await google.colab.kernel.invokeFunction('convertToInteractive',\n",
       "                                                    [key], {});\n",
       "        if (!dataTable) return;\n",
       "\n",
       "        const docLinkHtml = 'Like what you see? Visit the ' +\n",
       "          '<a target=\"_blank\" href=https://colab.research.google.com/notebooks/data_table.ipynb>data table notebook</a>'\n",
       "          + ' to learn more about interactive tables.';\n",
       "        element.innerHTML = '';\n",
       "        dataTable['output_type'] = 'display_data';\n",
       "        await google.colab.output.renderOutput(dataTable, element);\n",
       "        const docLink = document.createElement('div');\n",
       "        docLink.innerHTML = docLinkHtml;\n",
       "        element.appendChild(docLink);\n",
       "      }\n",
       "    </script>\n",
       "  </div>\n",
       "\n",
       "\n",
       "<div id=\"df-37dcb918-c46f-443c-a8c6-05203a2f8c1b\">\n",
       "  <button class=\"colab-df-quickchart\" onclick=\"quickchart('df-37dcb918-c46f-443c-a8c6-05203a2f8c1b')\"\n",
       "            title=\"Suggest charts\"\n",
       "            style=\"display:none;\">\n",
       "\n",
       "<svg xmlns=\"http://www.w3.org/2000/svg\" height=\"24px\"viewBox=\"0 0 24 24\"\n",
       "     width=\"24px\">\n",
       "    <g>\n",
       "        <path d=\"M19 3H5c-1.1 0-2 .9-2 2v14c0 1.1.9 2 2 2h14c1.1 0 2-.9 2-2V5c0-1.1-.9-2-2-2zM9 17H7v-7h2v7zm4 0h-2V7h2v10zm4 0h-2v-4h2v4z\"/>\n",
       "    </g>\n",
       "</svg>\n",
       "  </button>\n",
       "\n",
       "<style>\n",
       "  .colab-df-quickchart {\n",
       "      --bg-color: #E8F0FE;\n",
       "      --fill-color: #1967D2;\n",
       "      --hover-bg-color: #E2EBFA;\n",
       "      --hover-fill-color: #174EA6;\n",
       "      --disabled-fill-color: #AAA;\n",
       "      --disabled-bg-color: #DDD;\n",
       "  }\n",
       "\n",
       "  [theme=dark] .colab-df-quickchart {\n",
       "      --bg-color: #3B4455;\n",
       "      --fill-color: #D2E3FC;\n",
       "      --hover-bg-color: #434B5C;\n",
       "      --hover-fill-color: #FFFFFF;\n",
       "      --disabled-bg-color: #3B4455;\n",
       "      --disabled-fill-color: #666;\n",
       "  }\n",
       "\n",
       "  .colab-df-quickchart {\n",
       "    background-color: var(--bg-color);\n",
       "    border: none;\n",
       "    border-radius: 50%;\n",
       "    cursor: pointer;\n",
       "    display: none;\n",
       "    fill: var(--fill-color);\n",
       "    height: 32px;\n",
       "    padding: 0;\n",
       "    width: 32px;\n",
       "  }\n",
       "\n",
       "  .colab-df-quickchart:hover {\n",
       "    background-color: var(--hover-bg-color);\n",
       "    box-shadow: 0 1px 2px rgba(60, 64, 67, 0.3), 0 1px 3px 1px rgba(60, 64, 67, 0.15);\n",
       "    fill: var(--button-hover-fill-color);\n",
       "  }\n",
       "\n",
       "  .colab-df-quickchart-complete:disabled,\n",
       "  .colab-df-quickchart-complete:disabled:hover {\n",
       "    background-color: var(--disabled-bg-color);\n",
       "    fill: var(--disabled-fill-color);\n",
       "    box-shadow: none;\n",
       "  }\n",
       "\n",
       "  .colab-df-spinner {\n",
       "    border: 2px solid var(--fill-color);\n",
       "    border-color: transparent;\n",
       "    border-bottom-color: var(--fill-color);\n",
       "    animation:\n",
       "      spin 1s steps(1) infinite;\n",
       "  }\n",
       "\n",
       "  @keyframes spin {\n",
       "    0% {\n",
       "      border-color: transparent;\n",
       "      border-bottom-color: var(--fill-color);\n",
       "      border-left-color: var(--fill-color);\n",
       "    }\n",
       "    20% {\n",
       "      border-color: transparent;\n",
       "      border-left-color: var(--fill-color);\n",
       "      border-top-color: var(--fill-color);\n",
       "    }\n",
       "    30% {\n",
       "      border-color: transparent;\n",
       "      border-left-color: var(--fill-color);\n",
       "      border-top-color: var(--fill-color);\n",
       "      border-right-color: var(--fill-color);\n",
       "    }\n",
       "    40% {\n",
       "      border-color: transparent;\n",
       "      border-right-color: var(--fill-color);\n",
       "      border-top-color: var(--fill-color);\n",
       "    }\n",
       "    60% {\n",
       "      border-color: transparent;\n",
       "      border-right-color: var(--fill-color);\n",
       "    }\n",
       "    80% {\n",
       "      border-color: transparent;\n",
       "      border-right-color: var(--fill-color);\n",
       "      border-bottom-color: var(--fill-color);\n",
       "    }\n",
       "    90% {\n",
       "      border-color: transparent;\n",
       "      border-bottom-color: var(--fill-color);\n",
       "    }\n",
       "  }\n",
       "</style>\n",
       "\n",
       "  <script>\n",
       "    async function quickchart(key) {\n",
       "      const quickchartButtonEl =\n",
       "        document.querySelector('#' + key + ' button');\n",
       "      quickchartButtonEl.disabled = true;  // To prevent multiple clicks.\n",
       "      quickchartButtonEl.classList.add('colab-df-spinner');\n",
       "      try {\n",
       "        const charts = await google.colab.kernel.invokeFunction(\n",
       "            'suggestCharts', [key], {});\n",
       "      } catch (error) {\n",
       "        console.error('Error during call to suggestCharts:', error);\n",
       "      }\n",
       "      quickchartButtonEl.classList.remove('colab-df-spinner');\n",
       "      quickchartButtonEl.classList.add('colab-df-quickchart-complete');\n",
       "    }\n",
       "    (() => {\n",
       "      let quickchartButtonEl =\n",
       "        document.querySelector('#df-37dcb918-c46f-443c-a8c6-05203a2f8c1b button');\n",
       "      quickchartButtonEl.style.display =\n",
       "        google.colab.kernel.accessAllowed ? 'block' : 'none';\n",
       "    })();\n",
       "  </script>\n",
       "</div>\n",
       "\n",
       "    </div>\n",
       "  </div>\n"
      ],
      "text/plain": [
       "                                                                            \n",
       "                                                                            \n",
       "Initiated  . . . . . . . . . . . . . . . . . .                      02:50:39\n",
       "Status     . . . . . . . . . . . . . . . . . .       Compiling Final Results\n",
       "Estimator  . . . . . . . . . . . . . . . . . .  Gradient Boosting Classifier"
      ]
     },
     "metadata": {},
     "output_type": "display_data"
    },
    {
     "data": {
      "text/html": [],
      "text/plain": [
       "<IPython.core.display.HTML object>"
      ]
     },
     "metadata": {},
     "output_type": "display_data"
    },
    {
     "data": {
      "application/vnd.jupyter.widget-view+json": {
       "model_id": "6932ebe25ff4484885079dd9654679b0",
       "version_major": 2,
       "version_minor": 0
      },
      "text/plain": [
       "Processing:   0%|          | 0/7 [00:00<?, ?it/s]"
      ]
     },
     "metadata": {
      "application/vnd.jupyter.widget-view+json": {
       "colab": {
        "custom_widget_manager": {
         "url": "https://ssl.gstatic.com/colaboratory-static/widgets/colab-cdn-widget-manager/2b70e893a8ba7c0f/manager.min.js"
        }
       }
      }
     },
     "output_type": "display_data"
    },
    {
     "name": "stdout",
     "output_type": "stream",
     "text": [
      "Fitting 5 folds for each of 20 candidates, totalling 100 fits\n"
     ]
    },
    {
     "data": {
      "text/html": [],
      "text/plain": [
       "<IPython.core.display.HTML object>"
      ]
     },
     "metadata": {},
     "output_type": "display_data"
    }
   ],
   "source": [
    "# Use previous created base models (with a pre-defined hyper-parameter set) to tune them with a pre-defined hyper-parameter seach space\n",
    "\n",
    "# basemodels = exp_base.compare_models(sort='F1_Macro') # define base models\n",
    "\n",
    "tuned_models = []\n",
    "for i in base_models:\n",
    "    print(f\"##### Model Algorithm: {i.__class__} #####\")\n",
    "    tuned_model = exp_tuned.tune_model(estimator=i, optimize='F1_Macro', search_library='scikit-learn', search_algorithm='random', n_iter=20)\n",
    "    tuned_models.append(tuned_model)  # Append the tuned model to the list\n",
    "    print(\"\\n\")"
   ]
  },
  {
   "cell_type": "code",
   "execution_count": null,
   "metadata": {
    "id": "Skvkzf7X31YX"
   },
   "outputs": [],
   "source": [
    "# Create the directory if it doesn't exist\n",
    "os.makedirs(config['pycaret_exp_storage_directory'], exist_ok=True)\n",
    "exp_filename = \"exp_tuned.pkl\"\n",
    "exp_tuned.save_experiment(f\"{config['pycaret_exp_storage_directory']}/{exp_filename}\")"
   ]
  },
  {
   "cell_type": "markdown",
   "metadata": {
    "id": "4ux-OiLdEEGQ"
   },
   "source": [
    "## PyCaret Best Model Evaluation"
   ]
  },
  {
   "cell_type": "code",
   "execution_count": null,
   "metadata": {
    "id": "XST_XHpKUHvC"
   },
   "outputs": [],
   "source": [
    "try:\n",
    "    exp_filename = \"exp_tuned.pkl\"\n",
    "    try:\n",
    "        # Check if exp_tuned is defined and assign it only if it exists. \"or\" statment in case exp_base is falsy.\n",
    "        exp_tuned = exp_tuned or ClassificationExperiment.load_experiment(f\"{config['pycaret_exp_storage_directory']}/{exp_filename}\")\n",
    "    except NameError:\n",
    "        # If exp_tuned is not defined, assign it by loading the experiment.\n",
    "        exp_tuned = ClassificationExperiment.load_experiment(f\"{config['pycaret_exp_storage_directory']}/{exp_filename}\")\n",
    "except Exception as e:\n",
    "    print(f\"An error occurred: {e}\")\n",
    "    print(f\"The experiment {exp_filename} does not exist and could not be loaded.\")"
   ]
  },
  {
   "cell_type": "code",
   "execution_count": null,
   "metadata": {
    "id": "H7IzpOzDEEGQ"
   },
   "outputs": [],
   "source": [
    "leaderboard_tuned = exp_tuned.get_leaderboard()\n",
    "leaderboard_tuned.sort_values(by='F1_Macro', ascending=False)"
   ]
  },
  {
   "cell_type": "code",
   "execution_count": null,
   "metadata": {
    "id": "11Q7IPSpEEGQ"
   },
   "outputs": [],
   "source": [
    "# returns best model based on the defined metric in the given pycaret experiment\n",
    "best_model = exp_tuned.automl(optimize='F1_Macro')\n",
    "\n",
    "# predict on test set\n",
    "holdout_pred = exp_tuned.predict_model(best_model)\n",
    "\n",
    "# show predictions df\n",
    "# holdout_pred.head()\n",
    "\n",
    "# print classification report for holdout test data\n",
    "print(classification_report(holdout_pred['packaging_category'], holdout_pred['prediction_label']))\n",
    "# Store f1_macro\n",
    "report = classification_report(holdout_pred['packaging_category'], holdout_pred['prediction_label'], output_dict=True)\n",
    "f1_score = report['accuracy']\n",
    "f1_macro = report['macro avg']['f1-score']"
   ]
  },
  {
   "cell_type": "markdown",
   "metadata": {
    "id": "79ZEEAV8EEGR"
   },
   "source": [
    "# PyCaret AutoML: custom pre-processing; unrestricted selection of models including HPO"
   ]
  },
  {
   "cell_type": "markdown",
   "metadata": {
    "id": "M7JfCY5uEEGR"
   },
   "source": [
    "## Define features and target, performe oversampling, split data into train and test"
   ]
  },
  {
   "cell_type": "code",
   "execution_count": null,
   "metadata": {
    "id": "-aRH1ObpEEGR"
   },
   "outputs": [],
   "source": [
    "# Define features and target\n",
    "X = df_sub.iloc[:, :-1]\n",
    "y = df_sub.iloc[:, -1]  # the last column is the target\n",
    "\n",
    "# Oversamlping\n",
    "distribution_classes = y.value_counts()\n",
    "print('Class distribution before oversmapling')\n",
    "print(distribution_classes.to_dict())\n",
    "# NOTE: Oversampling so each class has at least 100 sample; to properly apply CV and evaluation\n",
    "dict_oversmapling = {\n",
    "    'Metal Cassette': 100,\n",
    "    'Carton tube with or w/o': 100,\n",
    "    'Wooden box': 100,\n",
    "    'Fabric packaging': 100,\n",
    "    'Book packaging': 100\n",
    "}\n",
    "# define oversampling strategy\n",
    "oversampler = RandomOverSampler(sampling_strategy=dict_oversmapling, random_state=SEED)\n",
    "# fit and apply the transform\n",
    "X_oversample, y_oversample = oversampler.fit_resample(X, y)\n",
    "# Generate data set for PyCaret\n",
    "df_sub_oversampled = pd.concat([X_oversample, y_oversample], axis=1)\n",
    "print('Class distribution after oversmapling')\n",
    "print(y_oversample.value_counts().to_dict())"
   ]
  },
  {
   "cell_type": "markdown",
   "metadata": {
    "id": "9j-kWBywEEGR"
   },
   "source": [
    "## PyCaret Base Models Training Pipeline"
   ]
  },
  {
   "cell_type": "code",
   "execution_count": null,
   "metadata": {
    "id": "kZC5wWPZEEGR"
   },
   "outputs": [],
   "source": [
    "# init the ClassificationExperiment class\n",
    "exp_base_custom = ClassificationExperiment()\n",
    "\n",
    "print(f\"Experiment Type: {type(exp_base_custom)}\") # check the type of exp"
   ]
  },
  {
   "cell_type": "code",
   "execution_count": null,
   "metadata": {
    "id": "Haxt_w89EEGS"
   },
   "outputs": [],
   "source": [
    "# init setup on exp\n",
    "exp_base_custom.setup(\n",
    "    df_sub_oversampled,\n",
    "    target='packaging_category',\n",
    "    train_size=0.8,\n",
    "    fold=5,\n",
    "    fold_strategy='stratifiedkfold',\n",
    "    session_id=42\n",
    ")\n",
    "# add sklearn f1_score macro average\n",
    "exp_base_custom.add_metric(id='f1_macro', name='F1_Macro', score_func=utils.f1_score_macro, greater_is_better=True)\n",
    "exp_base_custom.remove_metric('MCC')\n",
    "exp_base_custom.remove_metric('Kappa')\n",
    "exp_base_custom.get_metrics()"
   ]
  },
  {
   "cell_type": "code",
   "execution_count": null,
   "metadata": {
    "id": "unBZTj5_EEGS"
   },
   "outputs": [],
   "source": [
    "# train and compare base models\n",
    "\n",
    "# #NOTE: class_weights are not yet supported in compare_models\n",
    "# class_weights = class_weight.compute_class_weight(\n",
    "#     class_weight=\"balanced\",\n",
    "#     classes=np.unique(df_sub.iloc[:, -1]),\n",
    "#     y=df_sub.iloc[:, -1]\n",
    "# )\n",
    "# class_weight_dict = dict(enumerate(class_weights))\n",
    "# basemodels = exp_base.compare_models(include=['dt', 'rf'], sort='F1_Macro', fit_kwargs={'class_weight': class_weight_dict})\n",
    "# lr_clf = exp_base.create_model('lr', class_weight=class_weight_dict)\n",
    "\n",
    "base_models = exp_base_custom.compare_models(sort='F1_Macro', n_select=exp_base_custom.models().shape[0])"
   ]
  },
  {
   "cell_type": "code",
   "execution_count": null,
   "metadata": {
    "id": "fnMbkKfC4tQj"
   },
   "outputs": [],
   "source": [
    "# Create the directory if it doesn't exist\n",
    "os.makedirs(config['pycaret_exp_storage_directory'], exist_ok=True)\n",
    "exp_filename = \"exp_base_custom.pkl\"\n",
    "exp_base_custom.save_experiment(f\"{config['pycaret_exp_storage_directory']}/{exp_filename}\")"
   ]
  },
  {
   "cell_type": "markdown",
   "metadata": {
    "id": "ch-7fxK6Vryo"
   },
   "source": [
    "## PyCaret Best Model Evaluation"
   ]
  },
  {
   "cell_type": "code",
   "execution_count": null,
   "metadata": {
    "id": "7JOhL3iwVt3M"
   },
   "outputs": [],
   "source": [
    "try:\n",
    "    exp_filename = \"exp_base_custom.pkl\"\n",
    "    try:\n",
    "        # Check if exp_base_custom is defined and assign it only if it exists. \"or\" statment in case exp_base is falsy.\n",
    "        exp_base_custom = exp_base_custom or ClassificationExperiment.load_experiment(f\"{config['pycaret_exp_storage_directory']}/{exp_filename}\")\n",
    "    except NameError:\n",
    "        # If exp_base_custom is not defined, assign it by loading the experiment\n",
    "        exp_base_custom = ClassificationExperiment.load_experiment(f\"{config['pycaret_exp_storage_directory']}/{exp_filename}\")\n",
    "except Exception as e:\n",
    "    print(f\"An error occurred: {e}\")\n",
    "    print(f\"The experiment {exp_filename} does not exist and could not be loaded.\")"
   ]
  },
  {
   "cell_type": "code",
   "execution_count": null,
   "metadata": {
    "id": "pHiAQRAeEEGS"
   },
   "outputs": [],
   "source": [
    "leaderboard_base_custom = exp_base_custom.get_leaderboard()\n",
    "leaderboard_base_custom.sort_values(by='F1_Macro', ascending=False)"
   ]
  },
  {
   "cell_type": "markdown",
   "metadata": {
    "id": "Rz37zgF0EEGT"
   },
   "source": [
    "## PyCaret Tuned Models Training Pipeline"
   ]
  },
  {
   "cell_type": "code",
   "execution_count": null,
   "metadata": {
    "id": "j3udYJTvEEGT"
   },
   "outputs": [],
   "source": [
    "try:\n",
    "    exp_filename = \"exp_base_custom.pkl\"\n",
    "    try:\n",
    "        # Check if exp_tuned_custom is defined and assign it only if it exists. \"or\" statment in case exp_base is falsy.\n",
    "        exp_tuned_custom = exp_base_custom or ClassificationExperiment.load_experiment(f\"{config['pycaret_exp_storage_directory']}/{exp_filename}\")\n",
    "        print(\"Experiment loaded from storage.\")\n",
    "    except NameError:\n",
    "        # If exp_tuned_custom is not defined, assign it by loading the experiment.\n",
    "        exp_tuned_custom = exp_base_custom or ClassificationExperiment.load_experiment(f\"{config['pycaret_exp_storage_directory']}/{exp_filename}\")\n",
    "except Exception as e:\n",
    "    print(f\"An error occurred: {e}\")\n",
    "    print(f\"The experiment {exp_filename} does not exist and could not be loaded.\")\n",
    "    print(\"Define new pycaret experiment for tuning.\")\n",
    "    exp_tuned_custom = ClassificationExperiment()\n",
    "    exp_tuned_custom.setup(\n",
    "        df_sub_oversampled,\n",
    "        target='packaging_category',\n",
    "        train_size=0.8,\n",
    "        fold=5,\n",
    "        fold_strategy='stratifiedkfold',\n",
    "        session_id=42\n",
    "    )\n",
    "    # add sklearn f1_score macro average\n",
    "    exp_tuned_custom.add_metric(id='f1_macro', name='F1_Macro', score_func=utils.f1_score_macro, greater_is_better=True)\n",
    "    exp_tuned_custom.remove_metric('MCC')\n",
    "    exp_tuned_custom.remove_metric('Kappa')\n",
    "    exp_tuned_custom.get_metrics()\n",
    "\n",
    "print(f\"Experiment Type: {type(exp_tuned_custom)}\") # check the type of exp"
   ]
  },
  {
   "cell_type": "code",
   "execution_count": null,
   "metadata": {
    "id": "3yVRbZKEEEGX"
   },
   "outputs": [],
   "source": [
    "# Use previous created base models (with a pre-defined hyper-parameter set) to tune them with a pre-defined hyper-parameter seach space\n",
    "\n",
    "# basemodels = exp_base.compare_models(sort='F1_Macro') # define base models\n",
    "\n",
    "tuned_models = []\n",
    "for i in base_models:\n",
    "    print(f\"##### Model Algorithm: {i.__class__} #####\")\n",
    "    tuned_model = exp_tuned_custom.tune_model(estimator=i, optimize='F1_Macro', search_library='scikit-learn', search_algorithm='random', n_iter=20)\n",
    "    tuned_models.append(tuned_model)  # Append the tuned model to the list\n",
    "    print(\"\\n\")"
   ]
  },
  {
   "cell_type": "code",
   "execution_count": null,
   "metadata": {
    "id": "0_AS2URyQYf0"
   },
   "outputs": [],
   "source": [
    "# Create the directory if it doesn't exist\n",
    "os.makedirs(config['pycaret_exp_storage_directory'], exist_ok=True)\n",
    "exp_filename = \"exp_tuned_custom.pkl\"\n",
    "exp_tuned_custom.save_experiment(f\"{config['pycaret_exp_storage_directory']}/{exp_filename}\")"
   ]
  },
  {
   "cell_type": "markdown",
   "metadata": {
    "id": "SoCfc11oEEGX"
   },
   "source": [
    "## PyCaret Best Model Evaluation"
   ]
  },
  {
   "cell_type": "code",
   "execution_count": null,
   "metadata": {
    "id": "aSDtenf6EEGY"
   },
   "outputs": [],
   "source": [
    "try:\n",
    "    exp_filename = \"exp_tuned_custom.pkl\"\n",
    "    try:\n",
    "        # Check if exp_tuned_custom is defined and assign it only if it exists. \"or\" statment in case exp_base is falsy.\n",
    "        exp_tuned_custom = exp_tuned_custom or ClassificationExperiment.load_experiment(f\"{config['pycaret_exp_storage_directory']}/{exp_filename}\")\n",
    "    except NameError:\n",
    "        # If exp_tuned_custom is not defined, assign it by loading the experiment\n",
    "        exp_tuned_custom = ClassificationExperiment.load_experiment(f\"{config['pycaret_exp_storage_directory']}/{exp_filename}\")\n",
    "except Exception as e:\n",
    "    print(f\"An error occurred: {e}\")\n",
    "    print(f\"The experiment {exp_filename} does not exist and could not be loaded.\")\n",
    "\n",
    "leaderboard_tuned_custom = exp_tuned_custom.get_leaderboard()\n",
    "leaderboard_tuned_custom.sort_values(by='F1_Macro', ascending=False)"
   ]
  },
  {
   "cell_type": "code",
   "execution_count": null,
   "metadata": {
    "id": "yN9X8_E1EEGY"
   },
   "outputs": [],
   "source": [
    "# returns best model based on the defined metric in the given pycaret experiment\n",
    "best_model = exp_tuned_custom.automl(optimize='F1_Macro')\n",
    "\n",
    "# predict on test set\n",
    "holdout_pred = exp_tuned_custom.predict_model(best_model)\n",
    "\n",
    "# show predictions df\n",
    "# holdout_pred.head()\n",
    "\n",
    "# print classification report for holdout test data\n",
    "print(classification_report(holdout_pred['packaging_category'], holdout_pred['prediction_label']))\n",
    "report = classification_report(holdout_pred['packaging_category'], holdout_pred['prediction_label'], output_dict=True)\n",
    "f1_score = report['accuracy']\n",
    "f1_macro = report['macro avg']['f1-score']"
   ]
  },
  {
   "cell_type": "markdown",
   "metadata": {
    "id": "6iqhJsljEEGY"
   },
   "source": [
    "## Track performance using MLflow"
   ]
  },
  {
   "cell_type": "code",
   "execution_count": null,
   "metadata": {
    "id": "zPRM0-nAEEGZ"
   },
   "outputs": [],
   "source": [
    "# NOTE: Change to a meaningful name\n",
    "EXPERIMENT_NAME = \"AutoPackagingCategories\"\n",
    "RUN_NAME = \"run_AutoML_PyCaret\"\n",
    "\n",
    "with open('../env_vars.yml', 'r') as file:\n",
    "    env_vars = yaml.safe_load(file)\n",
    "\n",
    "project_dir = env_vars['project_directory']\n",
    "os.makedirs(project_dir + '/mlruns', exist_ok=True)\n",
    "\n",
    "mlflow.set_tracking_uri(\"file://\" + project_dir + \"/mlruns\")\n",
    "\n",
    "try:\n",
    "    experiment = mlflow.get_experiment_by_name(EXPERIMENT_NAME)\n",
    "    EXPERIMENT_ID = experiment.experiment_id\n",
    "except AttributeError:\n",
    "    EXPERIMENT_ID = mlflow.create_experiment(\n",
    "        EXPERIMENT_NAME,\n",
    "        # mlflow.set_artifact_uri(\"file://\" + project_dir + \"/artifacts/\")\n",
    "    )\n",
    "\n",
    "current_time = datetime.datetime.now()\n",
    "time_stamp = str(current_time)\n",
    "# NOTE: Change to a meaningful name for the single trial\n",
    "# exp_run_name = f\"run_MeaningfulTrialName_{time_stamp}\"\n",
    "exp_run_name = f\"{RUN_NAME}_{time_stamp}\"\n",
    "\n",
    "# Start MLflow\n",
    "with mlflow.start_run(experiment_id=EXPERIMENT_ID, run_name=exp_run_name) as run:\n",
    "\n",
    "    # Retrieve run id\n",
    "    RUN_ID = run.info.run_id\n",
    "\n",
    "    # Track parameters\n",
    "    # track pipeline configs: preprocessing_pipeline\n",
    "    mlflow.log_dict(exp_tuned.get_config('pipeline').named_steps, \"preprocessing_pipeline.json\")\n",
    "\n",
    "    # mode specfic parameters\n",
    "    mlflow.log_param('model', type(best_model))\n",
    "    mlflow.log_param('model_configs', best_model.get_params())\n",
    "\n",
    "    # Track metrics\n",
    "    mlflow.log_dict(report, \"classification_report.json\")\n",
    "    mlflow.log_metric(\"Report_Test_f1_score\", f1_score)\n",
    "    mlflow.log_metric(\"Report_Test_f1_macro\", f1_macro)\n",
    "\n",
    "    # Track model\n",
    "    # mlflow.sklearn.log_model(clf, \"classifier\")"
   ]
  },
  {
   "cell_type": "code",
   "execution_count": null,
   "metadata": {
    "id": "FBuFuu_4EEGa"
   },
   "outputs": [],
   "source": [
    "import time\n",
    "\n",
    "def keep_alive_with_cpu_activity(duration_hours=1):\n",
    "    \"\"\"\n",
    "    Keeps the compute instance alive by running a periodic CPU task for a specified duration.\n",
    "    \"\"\"\n",
    "    start_time = time.time()\n",
    "    end_time = start_time + duration_hours * 3600  # convert hours to seconds\n",
    "    print(f\"Keeping the instance alive for {duration_hours} hours with periodic CPU activity.\")\n",
    "    print(\"To stop the function, create an empty file named stop_signal.txt in the same directory as your notebook.\")\n",
    "    print(f\"os.path: {os.path}\")\n",
    "\n",
    "    while time.time() < end_time:\n",
    "        # Check if stop signal file exists\n",
    "        if os.path.isfile(\"stop_signal.txt\"):\n",
    "            print(\"Stop signal received. Exiting the loop.\")\n",
    "            break\n",
    "\n",
    "        # Perform a small computation to generate CPU activity\n",
    "        _ = np.random.rand(1000000, 1000000).dot(np.random.rand(1000000, 1000000))\n",
    "        time.sleep(60)  # Sleep for 60 seconds\n",
    "\n",
    "    print(\"Finished keeping the instance alive.\")\n",
    "\n",
    "# Run for the desired duration (e.g., 4 hours)\n",
    "keep_alive_with_cpu_activity(duration_hours=8)"
   ]
  },
  {
   "cell_type": "code",
   "execution_count": null,
   "metadata": {},
   "outputs": [],
   "source": []
  }
 ],
 "metadata": {
  "accelerator": "GPU",
  "colab": {
   "gpuType": "T4",
   "provenance": []
  },
  "kernelspec": {
   "display_name": "Python 3",
   "language": "python",
   "name": "python3"
  },
  "language_info": {
   "codemirror_mode": {
    "name": "ipython",
    "version": 3
   },
   "file_extension": ".py",
   "mimetype": "text/x-python",
   "name": "python",
   "nbconvert_exporter": "python",
   "pygments_lexer": "ipython3",
   "version": "3.11.10"
  },
  "widgets": {
   "application/vnd.jupyter.widget-state+json": {
    "0155a2215c4c44969ed15c38a48eda9c": {
     "model_module": "@jupyter-widgets/controls",
     "model_module_version": "1.5.0",
     "model_name": "DescriptionStyleModel",
     "state": {
      "_model_module": "@jupyter-widgets/controls",
      "_model_module_version": "1.5.0",
      "_model_name": "DescriptionStyleModel",
      "_view_count": null,
      "_view_module": "@jupyter-widgets/base",
      "_view_module_version": "1.2.0",
      "_view_name": "StyleView",
      "description_width": ""
     }
    },
    "0589cb110b854679a87fa60c7415dfd3": {
     "model_module": "@jupyter-widgets/controls",
     "model_module_version": "1.5.0",
     "model_name": "DescriptionStyleModel",
     "state": {
      "_model_module": "@jupyter-widgets/controls",
      "_model_module_version": "1.5.0",
      "_model_name": "DescriptionStyleModel",
      "_view_count": null,
      "_view_module": "@jupyter-widgets/base",
      "_view_module_version": "1.2.0",
      "_view_name": "StyleView",
      "description_width": ""
     }
    },
    "13cc5a562b0c43babb5018b4618de338": {
     "model_module": "@jupyter-widgets/controls",
     "model_module_version": "1.5.0",
     "model_name": "DescriptionStyleModel",
     "state": {
      "_model_module": "@jupyter-widgets/controls",
      "_model_module_version": "1.5.0",
      "_model_name": "DescriptionStyleModel",
      "_view_count": null,
      "_view_module": "@jupyter-widgets/base",
      "_view_module_version": "1.2.0",
      "_view_name": "StyleView",
      "description_width": ""
     }
    },
    "157387d7e94445fb982f596ffea9117c": {
     "model_module": "@jupyter-widgets/base",
     "model_module_version": "1.2.0",
     "model_name": "LayoutModel",
     "state": {
      "_model_module": "@jupyter-widgets/base",
      "_model_module_version": "1.2.0",
      "_model_name": "LayoutModel",
      "_view_count": null,
      "_view_module": "@jupyter-widgets/base",
      "_view_module_version": "1.2.0",
      "_view_name": "LayoutView",
      "align_content": null,
      "align_items": null,
      "align_self": null,
      "border": null,
      "bottom": null,
      "display": null,
      "flex": null,
      "flex_flow": null,
      "grid_area": null,
      "grid_auto_columns": null,
      "grid_auto_flow": null,
      "grid_auto_rows": null,
      "grid_column": null,
      "grid_gap": null,
      "grid_row": null,
      "grid_template_areas": null,
      "grid_template_columns": null,
      "grid_template_rows": null,
      "height": null,
      "justify_content": null,
      "justify_items": null,
      "left": null,
      "margin": null,
      "max_height": null,
      "max_width": null,
      "min_height": null,
      "min_width": null,
      "object_fit": null,
      "object_position": null,
      "order": null,
      "overflow": null,
      "overflow_x": null,
      "overflow_y": null,
      "padding": null,
      "right": null,
      "top": null,
      "visibility": "hidden",
      "width": null
     }
    },
    "17a9b566b03741f59c4cc7989e561370": {
     "model_module": "@jupyter-widgets/controls",
     "model_module_version": "1.5.0",
     "model_name": "HTMLModel",
     "state": {
      "_dom_classes": [],
      "_model_module": "@jupyter-widgets/controls",
      "_model_module_version": "1.5.0",
      "_model_name": "HTMLModel",
      "_view_count": null,
      "_view_module": "@jupyter-widgets/controls",
      "_view_module_version": "1.5.0",
      "_view_name": "HTMLView",
      "description": "",
      "description_tooltip": null,
      "layout": "IPY_MODEL_7e33d1a4dc03408497159548854eb684",
      "placeholder": "​",
      "style": "IPY_MODEL_0589cb110b854679a87fa60c7415dfd3",
      "value": "Processing: 100%"
     }
    },
    "19b5050d191e42659c30c1c4569ac4f4": {
     "model_module": "@jupyter-widgets/base",
     "model_module_version": "1.2.0",
     "model_name": "LayoutModel",
     "state": {
      "_model_module": "@jupyter-widgets/base",
      "_model_module_version": "1.2.0",
      "_model_name": "LayoutModel",
      "_view_count": null,
      "_view_module": "@jupyter-widgets/base",
      "_view_module_version": "1.2.0",
      "_view_name": "LayoutView",
      "align_content": null,
      "align_items": null,
      "align_self": null,
      "border": null,
      "bottom": null,
      "display": null,
      "flex": null,
      "flex_flow": null,
      "grid_area": null,
      "grid_auto_columns": null,
      "grid_auto_flow": null,
      "grid_auto_rows": null,
      "grid_column": null,
      "grid_gap": null,
      "grid_row": null,
      "grid_template_areas": null,
      "grid_template_columns": null,
      "grid_template_rows": null,
      "height": null,
      "justify_content": null,
      "justify_items": null,
      "left": null,
      "margin": null,
      "max_height": null,
      "max_width": null,
      "min_height": null,
      "min_width": null,
      "object_fit": null,
      "object_position": null,
      "order": null,
      "overflow": null,
      "overflow_x": null,
      "overflow_y": null,
      "padding": null,
      "right": null,
      "top": null,
      "visibility": "hidden",
      "width": null
     }
    },
    "1bf6077c5b374831ab8845f40ba2887c": {
     "model_module": "@jupyter-widgets/controls",
     "model_module_version": "1.5.0",
     "model_name": "FloatProgressModel",
     "state": {
      "_dom_classes": [],
      "_model_module": "@jupyter-widgets/controls",
      "_model_module_version": "1.5.0",
      "_model_name": "FloatProgressModel",
      "_view_count": null,
      "_view_module": "@jupyter-widgets/controls",
      "_view_module_version": "1.5.0",
      "_view_name": "ProgressView",
      "bar_style": "danger",
      "description": "",
      "description_tooltip": null,
      "layout": "IPY_MODEL_77a3833501794b24b0e2dac41d43a33c",
      "max": 16,
      "min": 0,
      "orientation": "horizontal",
      "style": "IPY_MODEL_284770678fae4c30804d6dca2258804a",
      "value": 15
     }
    },
    "1cf1977335f8429f92d20c08cfab6184": {
     "model_module": "@jupyter-widgets/controls",
     "model_module_version": "1.5.0",
     "model_name": "HTMLModel",
     "state": {
      "_dom_classes": [],
      "_model_module": "@jupyter-widgets/controls",
      "_model_module_version": "1.5.0",
      "_model_name": "HTMLModel",
      "_view_count": null,
      "_view_module": "@jupyter-widgets/controls",
      "_view_module_version": "1.5.0",
      "_view_name": "HTMLView",
      "description": "",
      "description_tooltip": null,
      "layout": "IPY_MODEL_30a57f1f09cd4c29959534ee91a13071",
      "placeholder": "​",
      "style": "IPY_MODEL_bdaf68e80ddb4061a4d422a8965b42a9",
      "value": "Processing: 100%"
     }
    },
    "22f31eacfefd44818577b9a31055e5ef": {
     "model_module": "@jupyter-widgets/base",
     "model_module_version": "1.2.0",
     "model_name": "LayoutModel",
     "state": {
      "_model_module": "@jupyter-widgets/base",
      "_model_module_version": "1.2.0",
      "_model_name": "LayoutModel",
      "_view_count": null,
      "_view_module": "@jupyter-widgets/base",
      "_view_module_version": "1.2.0",
      "_view_name": "LayoutView",
      "align_content": null,
      "align_items": null,
      "align_self": null,
      "border": null,
      "bottom": null,
      "display": null,
      "flex": null,
      "flex_flow": null,
      "grid_area": null,
      "grid_auto_columns": null,
      "grid_auto_flow": null,
      "grid_auto_rows": null,
      "grid_column": null,
      "grid_gap": null,
      "grid_row": null,
      "grid_template_areas": null,
      "grid_template_columns": null,
      "grid_template_rows": null,
      "height": null,
      "justify_content": null,
      "justify_items": null,
      "left": null,
      "margin": null,
      "max_height": null,
      "max_width": null,
      "min_height": null,
      "min_width": null,
      "object_fit": null,
      "object_position": null,
      "order": null,
      "overflow": null,
      "overflow_x": null,
      "overflow_y": null,
      "padding": null,
      "right": null,
      "top": null,
      "visibility": null,
      "width": null
     }
    },
    "24a1d454137a4e59becc5d23d9ba13ff": {
     "model_module": "@jupyter-widgets/controls",
     "model_module_version": "1.5.0",
     "model_name": "ProgressStyleModel",
     "state": {
      "_model_module": "@jupyter-widgets/controls",
      "_model_module_version": "1.5.0",
      "_model_name": "ProgressStyleModel",
      "_view_count": null,
      "_view_module": "@jupyter-widgets/base",
      "_view_module_version": "1.2.0",
      "_view_name": "StyleView",
      "bar_color": null,
      "description_width": ""
     }
    },
    "2626b01b818a49dea771f9e35c61ff71": {
     "model_module": "@jupyter-widgets/base",
     "model_module_version": "1.2.0",
     "model_name": "LayoutModel",
     "state": {
      "_model_module": "@jupyter-widgets/base",
      "_model_module_version": "1.2.0",
      "_model_name": "LayoutModel",
      "_view_count": null,
      "_view_module": "@jupyter-widgets/base",
      "_view_module_version": "1.2.0",
      "_view_name": "LayoutView",
      "align_content": null,
      "align_items": null,
      "align_self": null,
      "border": null,
      "bottom": null,
      "display": null,
      "flex": null,
      "flex_flow": null,
      "grid_area": null,
      "grid_auto_columns": null,
      "grid_auto_flow": null,
      "grid_auto_rows": null,
      "grid_column": null,
      "grid_gap": null,
      "grid_row": null,
      "grid_template_areas": null,
      "grid_template_columns": null,
      "grid_template_rows": null,
      "height": null,
      "justify_content": null,
      "justify_items": null,
      "left": null,
      "margin": null,
      "max_height": null,
      "max_width": null,
      "min_height": null,
      "min_width": null,
      "object_fit": null,
      "object_position": null,
      "order": null,
      "overflow": null,
      "overflow_x": null,
      "overflow_y": null,
      "padding": null,
      "right": null,
      "top": null,
      "visibility": null,
      "width": null
     }
    },
    "284770678fae4c30804d6dca2258804a": {
     "model_module": "@jupyter-widgets/controls",
     "model_module_version": "1.5.0",
     "model_name": "ProgressStyleModel",
     "state": {
      "_model_module": "@jupyter-widgets/controls",
      "_model_module_version": "1.5.0",
      "_model_name": "ProgressStyleModel",
      "_view_count": null,
      "_view_module": "@jupyter-widgets/base",
      "_view_module_version": "1.2.0",
      "_view_name": "StyleView",
      "bar_color": null,
      "description_width": ""
     }
    },
    "2d8560246e5647f88d99ad5a5fcbf61e": {
     "model_module": "@jupyter-widgets/controls",
     "model_module_version": "1.5.0",
     "model_name": "HTMLModel",
     "state": {
      "_dom_classes": [],
      "_model_module": "@jupyter-widgets/controls",
      "_model_module_version": "1.5.0",
      "_model_name": "HTMLModel",
      "_view_count": null,
      "_view_module": "@jupyter-widgets/controls",
      "_view_module_version": "1.5.0",
      "_view_name": "HTMLView",
      "description": "",
      "description_tooltip": null,
      "layout": "IPY_MODEL_fc09c5ae6634466888993ca4f2782128",
      "placeholder": "​",
      "style": "IPY_MODEL_fb2f7ae7ad5647f291a132c7ab6074d7",
      "value": " 7/7 [02:06&lt;00:00, 14.22s/it]"
     }
    },
    "30a57f1f09cd4c29959534ee91a13071": {
     "model_module": "@jupyter-widgets/base",
     "model_module_version": "1.2.0",
     "model_name": "LayoutModel",
     "state": {
      "_model_module": "@jupyter-widgets/base",
      "_model_module_version": "1.2.0",
      "_model_name": "LayoutModel",
      "_view_count": null,
      "_view_module": "@jupyter-widgets/base",
      "_view_module_version": "1.2.0",
      "_view_name": "LayoutView",
      "align_content": null,
      "align_items": null,
      "align_self": null,
      "border": null,
      "bottom": null,
      "display": null,
      "flex": null,
      "flex_flow": null,
      "grid_area": null,
      "grid_auto_columns": null,
      "grid_auto_flow": null,
      "grid_auto_rows": null,
      "grid_column": null,
      "grid_gap": null,
      "grid_row": null,
      "grid_template_areas": null,
      "grid_template_columns": null,
      "grid_template_rows": null,
      "height": null,
      "justify_content": null,
      "justify_items": null,
      "left": null,
      "margin": null,
      "max_height": null,
      "max_width": null,
      "min_height": null,
      "min_width": null,
      "object_fit": null,
      "object_position": null,
      "order": null,
      "overflow": null,
      "overflow_x": null,
      "overflow_y": null,
      "padding": null,
      "right": null,
      "top": null,
      "visibility": null,
      "width": null
     }
    },
    "35b1cb39102a415c886905c78f63ee63": {
     "model_module": "@jupyter-widgets/controls",
     "model_module_version": "1.5.0",
     "model_name": "FloatProgressModel",
     "state": {
      "_dom_classes": [],
      "_model_module": "@jupyter-widgets/controls",
      "_model_module_version": "1.5.0",
      "_model_name": "FloatProgressModel",
      "_view_count": null,
      "_view_module": "@jupyter-widgets/controls",
      "_view_module_version": "1.5.0",
      "_view_name": "ProgressView",
      "bar_style": "",
      "description": "",
      "description_tooltip": null,
      "layout": "IPY_MODEL_536badc37f744dbbb5e728b0b5268314",
      "max": 7,
      "min": 0,
      "orientation": "horizontal",
      "style": "IPY_MODEL_b663dddb3968401b90ff4450fbeb4072",
      "value": 7
     }
    },
    "53448fe3b60f461786941ce4de7a1460": {
     "model_module": "@jupyter-widgets/base",
     "model_module_version": "1.2.0",
     "model_name": "LayoutModel",
     "state": {
      "_model_module": "@jupyter-widgets/base",
      "_model_module_version": "1.2.0",
      "_model_name": "LayoutModel",
      "_view_count": null,
      "_view_module": "@jupyter-widgets/base",
      "_view_module_version": "1.2.0",
      "_view_name": "LayoutView",
      "align_content": null,
      "align_items": null,
      "align_self": null,
      "border": null,
      "bottom": null,
      "display": null,
      "flex": null,
      "flex_flow": null,
      "grid_area": null,
      "grid_auto_columns": null,
      "grid_auto_flow": null,
      "grid_auto_rows": null,
      "grid_column": null,
      "grid_gap": null,
      "grid_row": null,
      "grid_template_areas": null,
      "grid_template_columns": null,
      "grid_template_rows": null,
      "height": null,
      "justify_content": null,
      "justify_items": null,
      "left": null,
      "margin": null,
      "max_height": null,
      "max_width": null,
      "min_height": null,
      "min_width": null,
      "object_fit": null,
      "object_position": null,
      "order": null,
      "overflow": null,
      "overflow_x": null,
      "overflow_y": null,
      "padding": null,
      "right": null,
      "top": null,
      "visibility": null,
      "width": null
     }
    },
    "536badc37f744dbbb5e728b0b5268314": {
     "model_module": "@jupyter-widgets/base",
     "model_module_version": "1.2.0",
     "model_name": "LayoutModel",
     "state": {
      "_model_module": "@jupyter-widgets/base",
      "_model_module_version": "1.2.0",
      "_model_name": "LayoutModel",
      "_view_count": null,
      "_view_module": "@jupyter-widgets/base",
      "_view_module_version": "1.2.0",
      "_view_name": "LayoutView",
      "align_content": null,
      "align_items": null,
      "align_self": null,
      "border": null,
      "bottom": null,
      "display": null,
      "flex": null,
      "flex_flow": null,
      "grid_area": null,
      "grid_auto_columns": null,
      "grid_auto_flow": null,
      "grid_auto_rows": null,
      "grid_column": null,
      "grid_gap": null,
      "grid_row": null,
      "grid_template_areas": null,
      "grid_template_columns": null,
      "grid_template_rows": null,
      "height": null,
      "justify_content": null,
      "justify_items": null,
      "left": null,
      "margin": null,
      "max_height": null,
      "max_width": null,
      "min_height": null,
      "min_width": null,
      "object_fit": null,
      "object_position": null,
      "order": null,
      "overflow": null,
      "overflow_x": null,
      "overflow_y": null,
      "padding": null,
      "right": null,
      "top": null,
      "visibility": null,
      "width": null
     }
    },
    "656231bbae0c4f709b65b61d7f8e2413": {
     "model_module": "@jupyter-widgets/controls",
     "model_module_version": "1.5.0",
     "model_name": "HBoxModel",
     "state": {
      "_dom_classes": [],
      "_model_module": "@jupyter-widgets/controls",
      "_model_module_version": "1.5.0",
      "_model_name": "HBoxModel",
      "_view_count": null,
      "_view_module": "@jupyter-widgets/controls",
      "_view_module_version": "1.5.0",
      "_view_name": "HBoxView",
      "box_style": "",
      "children": [
       "IPY_MODEL_a766d0d89b5b4e56949344f5b6867ed2",
       "IPY_MODEL_35b1cb39102a415c886905c78f63ee63",
       "IPY_MODEL_df8925ae173a4143baa87037775ca5bc"
      ],
      "layout": "IPY_MODEL_19b5050d191e42659c30c1c4569ac4f4"
     }
    },
    "6932ebe25ff4484885079dd9654679b0": {
     "model_module": "@jupyter-widgets/controls",
     "model_module_version": "1.5.0",
     "model_name": "HBoxModel",
     "state": {
      "_dom_classes": [],
      "_model_module": "@jupyter-widgets/controls",
      "_model_module_version": "1.5.0",
      "_model_name": "HBoxModel",
      "_view_count": null,
      "_view_module": "@jupyter-widgets/controls",
      "_view_module_version": "1.5.0",
      "_view_name": "HBoxView",
      "box_style": "",
      "children": [
       "IPY_MODEL_1cf1977335f8429f92d20c08cfab6184",
       "IPY_MODEL_7d1eee4a05f643feb4dfbad44830c282",
       "IPY_MODEL_7a88d033b0e646dc987d2d5c2ed968fb"
      ],
      "layout": "IPY_MODEL_7fbcf03296524900a89f0003a27d60f4"
     }
    },
    "6d8bc7be62064ae48730f670f2352564": {
     "model_module": "@jupyter-widgets/controls",
     "model_module_version": "1.5.0",
     "model_name": "HBoxModel",
     "state": {
      "_dom_classes": [],
      "_model_module": "@jupyter-widgets/controls",
      "_model_module_version": "1.5.0",
      "_model_name": "HBoxModel",
      "_view_count": null,
      "_view_module": "@jupyter-widgets/controls",
      "_view_module_version": "1.5.0",
      "_view_name": "HBoxView",
      "box_style": "",
      "children": [
       "IPY_MODEL_ecfd645ccac747a5a57929dc95aa1961",
       "IPY_MODEL_1bf6077c5b374831ab8845f40ba2887c",
       "IPY_MODEL_8277d6bb1cd04b20bbd0bdee2e96cea6"
      ],
      "layout": "IPY_MODEL_f13e0fe8fb6a4a38bfcd71520c7811e4"
     }
    },
    "72f230cb659e4aaa88e3b0361701eb8d": {
     "model_module": "@jupyter-widgets/base",
     "model_module_version": "1.2.0",
     "model_name": "LayoutModel",
     "state": {
      "_model_module": "@jupyter-widgets/base",
      "_model_module_version": "1.2.0",
      "_model_name": "LayoutModel",
      "_view_count": null,
      "_view_module": "@jupyter-widgets/base",
      "_view_module_version": "1.2.0",
      "_view_name": "LayoutView",
      "align_content": null,
      "align_items": null,
      "align_self": null,
      "border": null,
      "bottom": null,
      "display": null,
      "flex": null,
      "flex_flow": null,
      "grid_area": null,
      "grid_auto_columns": null,
      "grid_auto_flow": null,
      "grid_auto_rows": null,
      "grid_column": null,
      "grid_gap": null,
      "grid_row": null,
      "grid_template_areas": null,
      "grid_template_columns": null,
      "grid_template_rows": null,
      "height": null,
      "justify_content": null,
      "justify_items": null,
      "left": null,
      "margin": null,
      "max_height": null,
      "max_width": null,
      "min_height": null,
      "min_width": null,
      "object_fit": null,
      "object_position": null,
      "order": null,
      "overflow": null,
      "overflow_x": null,
      "overflow_y": null,
      "padding": null,
      "right": null,
      "top": null,
      "visibility": null,
      "width": null
     }
    },
    "77a3833501794b24b0e2dac41d43a33c": {
     "model_module": "@jupyter-widgets/base",
     "model_module_version": "1.2.0",
     "model_name": "LayoutModel",
     "state": {
      "_model_module": "@jupyter-widgets/base",
      "_model_module_version": "1.2.0",
      "_model_name": "LayoutModel",
      "_view_count": null,
      "_view_module": "@jupyter-widgets/base",
      "_view_module_version": "1.2.0",
      "_view_name": "LayoutView",
      "align_content": null,
      "align_items": null,
      "align_self": null,
      "border": null,
      "bottom": null,
      "display": null,
      "flex": null,
      "flex_flow": null,
      "grid_area": null,
      "grid_auto_columns": null,
      "grid_auto_flow": null,
      "grid_auto_rows": null,
      "grid_column": null,
      "grid_gap": null,
      "grid_row": null,
      "grid_template_areas": null,
      "grid_template_columns": null,
      "grid_template_rows": null,
      "height": null,
      "justify_content": null,
      "justify_items": null,
      "left": null,
      "margin": null,
      "max_height": null,
      "max_width": null,
      "min_height": null,
      "min_width": null,
      "object_fit": null,
      "object_position": null,
      "order": null,
      "overflow": null,
      "overflow_x": null,
      "overflow_y": null,
      "padding": null,
      "right": null,
      "top": null,
      "visibility": null,
      "width": null
     }
    },
    "7a88d033b0e646dc987d2d5c2ed968fb": {
     "model_module": "@jupyter-widgets/controls",
     "model_module_version": "1.5.0",
     "model_name": "HTMLModel",
     "state": {
      "_dom_classes": [],
      "_model_module": "@jupyter-widgets/controls",
      "_model_module_version": "1.5.0",
      "_model_name": "HTMLModel",
      "_view_count": null,
      "_view_module": "@jupyter-widgets/controls",
      "_view_module_version": "1.5.0",
      "_view_name": "HTMLView",
      "description": "",
      "description_tooltip": null,
      "layout": "IPY_MODEL_53448fe3b60f461786941ce4de7a1460",
      "placeholder": "​",
      "style": "IPY_MODEL_13cc5a562b0c43babb5018b4618de338",
      "value": " 7/7 [3:31:16&lt;00:00, 1240.95s/it]"
     }
    },
    "7d1eee4a05f643feb4dfbad44830c282": {
     "model_module": "@jupyter-widgets/controls",
     "model_module_version": "1.5.0",
     "model_name": "FloatProgressModel",
     "state": {
      "_dom_classes": [],
      "_model_module": "@jupyter-widgets/controls",
      "_model_module_version": "1.5.0",
      "_model_name": "FloatProgressModel",
      "_view_count": null,
      "_view_module": "@jupyter-widgets/controls",
      "_view_module_version": "1.5.0",
      "_view_name": "ProgressView",
      "bar_style": "",
      "description": "",
      "description_tooltip": null,
      "layout": "IPY_MODEL_22f31eacfefd44818577b9a31055e5ef",
      "max": 7,
      "min": 0,
      "orientation": "horizontal",
      "style": "IPY_MODEL_d4be1d4d4e9d4de8a4b757e2781e6d64",
      "value": 7
     }
    },
    "7e33d1a4dc03408497159548854eb684": {
     "model_module": "@jupyter-widgets/base",
     "model_module_version": "1.2.0",
     "model_name": "LayoutModel",
     "state": {
      "_model_module": "@jupyter-widgets/base",
      "_model_module_version": "1.2.0",
      "_model_name": "LayoutModel",
      "_view_count": null,
      "_view_module": "@jupyter-widgets/base",
      "_view_module_version": "1.2.0",
      "_view_name": "LayoutView",
      "align_content": null,
      "align_items": null,
      "align_self": null,
      "border": null,
      "bottom": null,
      "display": null,
      "flex": null,
      "flex_flow": null,
      "grid_area": null,
      "grid_auto_columns": null,
      "grid_auto_flow": null,
      "grid_auto_rows": null,
      "grid_column": null,
      "grid_gap": null,
      "grid_row": null,
      "grid_template_areas": null,
      "grid_template_columns": null,
      "grid_template_rows": null,
      "height": null,
      "justify_content": null,
      "justify_items": null,
      "left": null,
      "margin": null,
      "max_height": null,
      "max_width": null,
      "min_height": null,
      "min_width": null,
      "object_fit": null,
      "object_position": null,
      "order": null,
      "overflow": null,
      "overflow_x": null,
      "overflow_y": null,
      "padding": null,
      "right": null,
      "top": null,
      "visibility": null,
      "width": null
     }
    },
    "7fbcf03296524900a89f0003a27d60f4": {
     "model_module": "@jupyter-widgets/base",
     "model_module_version": "1.2.0",
     "model_name": "LayoutModel",
     "state": {
      "_model_module": "@jupyter-widgets/base",
      "_model_module_version": "1.2.0",
      "_model_name": "LayoutModel",
      "_view_count": null,
      "_view_module": "@jupyter-widgets/base",
      "_view_module_version": "1.2.0",
      "_view_name": "LayoutView",
      "align_content": null,
      "align_items": null,
      "align_self": null,
      "border": null,
      "bottom": null,
      "display": null,
      "flex": null,
      "flex_flow": null,
      "grid_area": null,
      "grid_auto_columns": null,
      "grid_auto_flow": null,
      "grid_auto_rows": null,
      "grid_column": null,
      "grid_gap": null,
      "grid_row": null,
      "grid_template_areas": null,
      "grid_template_columns": null,
      "grid_template_rows": null,
      "height": null,
      "justify_content": null,
      "justify_items": null,
      "left": null,
      "margin": null,
      "max_height": null,
      "max_width": null,
      "min_height": null,
      "min_width": null,
      "object_fit": null,
      "object_position": null,
      "order": null,
      "overflow": null,
      "overflow_x": null,
      "overflow_y": null,
      "padding": null,
      "right": null,
      "top": null,
      "visibility": "hidden",
      "width": null
     }
    },
    "805f7b2cc29744c0b6ec09b4735dc361": {
     "model_module": "@jupyter-widgets/base",
     "model_module_version": "1.2.0",
     "model_name": "LayoutModel",
     "state": {
      "_model_module": "@jupyter-widgets/base",
      "_model_module_version": "1.2.0",
      "_model_name": "LayoutModel",
      "_view_count": null,
      "_view_module": "@jupyter-widgets/base",
      "_view_module_version": "1.2.0",
      "_view_name": "LayoutView",
      "align_content": null,
      "align_items": null,
      "align_self": null,
      "border": null,
      "bottom": null,
      "display": null,
      "flex": null,
      "flex_flow": null,
      "grid_area": null,
      "grid_auto_columns": null,
      "grid_auto_flow": null,
      "grid_auto_rows": null,
      "grid_column": null,
      "grid_gap": null,
      "grid_row": null,
      "grid_template_areas": null,
      "grid_template_columns": null,
      "grid_template_rows": null,
      "height": null,
      "justify_content": null,
      "justify_items": null,
      "left": null,
      "margin": null,
      "max_height": null,
      "max_width": null,
      "min_height": null,
      "min_width": null,
      "object_fit": null,
      "object_position": null,
      "order": null,
      "overflow": null,
      "overflow_x": null,
      "overflow_y": null,
      "padding": null,
      "right": null,
      "top": null,
      "visibility": null,
      "width": null
     }
    },
    "8277d6bb1cd04b20bbd0bdee2e96cea6": {
     "model_module": "@jupyter-widgets/controls",
     "model_module_version": "1.5.0",
     "model_name": "HTMLModel",
     "state": {
      "_dom_classes": [],
      "_model_module": "@jupyter-widgets/controls",
      "_model_module_version": "1.5.0",
      "_model_name": "HTMLModel",
      "_view_count": null,
      "_view_module": "@jupyter-widgets/controls",
      "_view_module_version": "1.5.0",
      "_view_name": "HTMLView",
      "description": "",
      "description_tooltip": null,
      "layout": "IPY_MODEL_b05483f975a24d01b37e69a643d0aab6",
      "placeholder": "​",
      "style": "IPY_MODEL_d449e2561b924f03b9c6eccb4a18701c",
      "value": " 15/16 [1:00:59&lt;02:46, 166.98s/it]"
     }
    },
    "87dcfc7edcee40919bce5f9cda840635": {
     "model_module": "@jupyter-widgets/controls",
     "model_module_version": "1.5.0",
     "model_name": "DescriptionStyleModel",
     "state": {
      "_model_module": "@jupyter-widgets/controls",
      "_model_module_version": "1.5.0",
      "_model_name": "DescriptionStyleModel",
      "_view_count": null,
      "_view_module": "@jupyter-widgets/base",
      "_view_module_version": "1.2.0",
      "_view_name": "StyleView",
      "description_width": ""
     }
    },
    "8aff2d5e6a6d4718b9eab0851b4156f9": {
     "model_module": "@jupyter-widgets/controls",
     "model_module_version": "1.5.0",
     "model_name": "HTMLModel",
     "state": {
      "_dom_classes": [],
      "_model_module": "@jupyter-widgets/controls",
      "_model_module_version": "1.5.0",
      "_model_name": "HTMLModel",
      "_view_count": null,
      "_view_module": "@jupyter-widgets/controls",
      "_view_module_version": "1.5.0",
      "_view_name": "HTMLView",
      "description": "",
      "description_tooltip": null,
      "layout": "IPY_MODEL_72f230cb659e4aaa88e3b0361701eb8d",
      "placeholder": "​",
      "style": "IPY_MODEL_f22b2634146e44fd90aa478c0426b371",
      "value": "Processing: 100%"
     }
    },
    "9ae69fa71c2c4a6188181cf77b23c197": {
     "model_module": "@jupyter-widgets/controls",
     "model_module_version": "1.5.0",
     "model_name": "HBoxModel",
     "state": {
      "_dom_classes": [],
      "_model_module": "@jupyter-widgets/controls",
      "_model_module_version": "1.5.0",
      "_model_name": "HBoxModel",
      "_view_count": null,
      "_view_module": "@jupyter-widgets/controls",
      "_view_module_version": "1.5.0",
      "_view_name": "HBoxView",
      "box_style": "",
      "children": [
       "IPY_MODEL_17a9b566b03741f59c4cc7989e561370",
       "IPY_MODEL_eb5f05de6d5247d9a5bdef2b64c51aa4",
       "IPY_MODEL_2d8560246e5647f88d99ad5a5fcbf61e"
      ],
      "layout": "IPY_MODEL_a7e5978398bd4383ab217a18b71437bd"
     }
    },
    "9eede1d914f848a898597cc2f68063f0": {
     "model_module": "@jupyter-widgets/base",
     "model_module_version": "1.2.0",
     "model_name": "LayoutModel",
     "state": {
      "_model_module": "@jupyter-widgets/base",
      "_model_module_version": "1.2.0",
      "_model_name": "LayoutModel",
      "_view_count": null,
      "_view_module": "@jupyter-widgets/base",
      "_view_module_version": "1.2.0",
      "_view_name": "LayoutView",
      "align_content": null,
      "align_items": null,
      "align_self": null,
      "border": null,
      "bottom": null,
      "display": null,
      "flex": null,
      "flex_flow": null,
      "grid_area": null,
      "grid_auto_columns": null,
      "grid_auto_flow": null,
      "grid_auto_rows": null,
      "grid_column": null,
      "grid_gap": null,
      "grid_row": null,
      "grid_template_areas": null,
      "grid_template_columns": null,
      "grid_template_rows": null,
      "height": null,
      "justify_content": null,
      "justify_items": null,
      "left": null,
      "margin": null,
      "max_height": null,
      "max_width": null,
      "min_height": null,
      "min_width": null,
      "object_fit": null,
      "object_position": null,
      "order": null,
      "overflow": null,
      "overflow_x": null,
      "overflow_y": null,
      "padding": null,
      "right": null,
      "top": null,
      "visibility": null,
      "width": null
     }
    },
    "a766d0d89b5b4e56949344f5b6867ed2": {
     "model_module": "@jupyter-widgets/controls",
     "model_module_version": "1.5.0",
     "model_name": "HTMLModel",
     "state": {
      "_dom_classes": [],
      "_model_module": "@jupyter-widgets/controls",
      "_model_module_version": "1.5.0",
      "_model_name": "HTMLModel",
      "_view_count": null,
      "_view_module": "@jupyter-widgets/controls",
      "_view_module_version": "1.5.0",
      "_view_name": "HTMLView",
      "description": "",
      "description_tooltip": null,
      "layout": "IPY_MODEL_e47c0b32406d400db527c36e6e596c37",
      "placeholder": "​",
      "style": "IPY_MODEL_0155a2215c4c44969ed15c38a48eda9c",
      "value": "Processing: 100%"
     }
    },
    "a7e5978398bd4383ab217a18b71437bd": {
     "model_module": "@jupyter-widgets/base",
     "model_module_version": "1.2.0",
     "model_name": "LayoutModel",
     "state": {
      "_model_module": "@jupyter-widgets/base",
      "_model_module_version": "1.2.0",
      "_model_name": "LayoutModel",
      "_view_count": null,
      "_view_module": "@jupyter-widgets/base",
      "_view_module_version": "1.2.0",
      "_view_name": "LayoutView",
      "align_content": null,
      "align_items": null,
      "align_self": null,
      "border": null,
      "bottom": null,
      "display": null,
      "flex": null,
      "flex_flow": null,
      "grid_area": null,
      "grid_auto_columns": null,
      "grid_auto_flow": null,
      "grid_auto_rows": null,
      "grid_column": null,
      "grid_gap": null,
      "grid_row": null,
      "grid_template_areas": null,
      "grid_template_columns": null,
      "grid_template_rows": null,
      "height": null,
      "justify_content": null,
      "justify_items": null,
      "left": null,
      "margin": null,
      "max_height": null,
      "max_width": null,
      "min_height": null,
      "min_width": null,
      "object_fit": null,
      "object_position": null,
      "order": null,
      "overflow": null,
      "overflow_x": null,
      "overflow_y": null,
      "padding": null,
      "right": null,
      "top": null,
      "visibility": "hidden",
      "width": null
     }
    },
    "b05483f975a24d01b37e69a643d0aab6": {
     "model_module": "@jupyter-widgets/base",
     "model_module_version": "1.2.0",
     "model_name": "LayoutModel",
     "state": {
      "_model_module": "@jupyter-widgets/base",
      "_model_module_version": "1.2.0",
      "_model_name": "LayoutModel",
      "_view_count": null,
      "_view_module": "@jupyter-widgets/base",
      "_view_module_version": "1.2.0",
      "_view_name": "LayoutView",
      "align_content": null,
      "align_items": null,
      "align_self": null,
      "border": null,
      "bottom": null,
      "display": null,
      "flex": null,
      "flex_flow": null,
      "grid_area": null,
      "grid_auto_columns": null,
      "grid_auto_flow": null,
      "grid_auto_rows": null,
      "grid_column": null,
      "grid_gap": null,
      "grid_row": null,
      "grid_template_areas": null,
      "grid_template_columns": null,
      "grid_template_rows": null,
      "height": null,
      "justify_content": null,
      "justify_items": null,
      "left": null,
      "margin": null,
      "max_height": null,
      "max_width": null,
      "min_height": null,
      "min_width": null,
      "object_fit": null,
      "object_position": null,
      "order": null,
      "overflow": null,
      "overflow_x": null,
      "overflow_y": null,
      "padding": null,
      "right": null,
      "top": null,
      "visibility": null,
      "width": null
     }
    },
    "b663dddb3968401b90ff4450fbeb4072": {
     "model_module": "@jupyter-widgets/controls",
     "model_module_version": "1.5.0",
     "model_name": "ProgressStyleModel",
     "state": {
      "_model_module": "@jupyter-widgets/controls",
      "_model_module_version": "1.5.0",
      "_model_name": "ProgressStyleModel",
      "_view_count": null,
      "_view_module": "@jupyter-widgets/base",
      "_view_module_version": "1.2.0",
      "_view_name": "StyleView",
      "bar_color": null,
      "description_width": ""
     }
    },
    "bdaf68e80ddb4061a4d422a8965b42a9": {
     "model_module": "@jupyter-widgets/controls",
     "model_module_version": "1.5.0",
     "model_name": "DescriptionStyleModel",
     "state": {
      "_model_module": "@jupyter-widgets/controls",
      "_model_module_version": "1.5.0",
      "_model_name": "DescriptionStyleModel",
      "_view_count": null,
      "_view_module": "@jupyter-widgets/base",
      "_view_module_version": "1.2.0",
      "_view_name": "StyleView",
      "description_width": ""
     }
    },
    "c155fb941e024562be6bfc68dd0298fe": {
     "model_module": "@jupyter-widgets/base",
     "model_module_version": "1.2.0",
     "model_name": "LayoutModel",
     "state": {
      "_model_module": "@jupyter-widgets/base",
      "_model_module_version": "1.2.0",
      "_model_name": "LayoutModel",
      "_view_count": null,
      "_view_module": "@jupyter-widgets/base",
      "_view_module_version": "1.2.0",
      "_view_name": "LayoutView",
      "align_content": null,
      "align_items": null,
      "align_self": null,
      "border": null,
      "bottom": null,
      "display": null,
      "flex": null,
      "flex_flow": null,
      "grid_area": null,
      "grid_auto_columns": null,
      "grid_auto_flow": null,
      "grid_auto_rows": null,
      "grid_column": null,
      "grid_gap": null,
      "grid_row": null,
      "grid_template_areas": null,
      "grid_template_columns": null,
      "grid_template_rows": null,
      "height": null,
      "justify_content": null,
      "justify_items": null,
      "left": null,
      "margin": null,
      "max_height": null,
      "max_width": null,
      "min_height": null,
      "min_width": null,
      "object_fit": null,
      "object_position": null,
      "order": null,
      "overflow": null,
      "overflow_x": null,
      "overflow_y": null,
      "padding": null,
      "right": null,
      "top": null,
      "visibility": null,
      "width": null
     }
    },
    "c824e62ecaa54cbe9d4c4a0b9088b72c": {
     "model_module": "@jupyter-widgets/base",
     "model_module_version": "1.2.0",
     "model_name": "LayoutModel",
     "state": {
      "_model_module": "@jupyter-widgets/base",
      "_model_module_version": "1.2.0",
      "_model_name": "LayoutModel",
      "_view_count": null,
      "_view_module": "@jupyter-widgets/base",
      "_view_module_version": "1.2.0",
      "_view_name": "LayoutView",
      "align_content": null,
      "align_items": null,
      "align_self": null,
      "border": null,
      "bottom": null,
      "display": null,
      "flex": null,
      "flex_flow": null,
      "grid_area": null,
      "grid_auto_columns": null,
      "grid_auto_flow": null,
      "grid_auto_rows": null,
      "grid_column": null,
      "grid_gap": null,
      "grid_row": null,
      "grid_template_areas": null,
      "grid_template_columns": null,
      "grid_template_rows": null,
      "height": null,
      "justify_content": null,
      "justify_items": null,
      "left": null,
      "margin": null,
      "max_height": null,
      "max_width": null,
      "min_height": null,
      "min_width": null,
      "object_fit": null,
      "object_position": null,
      "order": null,
      "overflow": null,
      "overflow_x": null,
      "overflow_y": null,
      "padding": null,
      "right": null,
      "top": null,
      "visibility": null,
      "width": null
     }
    },
    "cee30df593cb4380b1831e87e3a0791e": {
     "model_module": "@jupyter-widgets/controls",
     "model_module_version": "1.5.0",
     "model_name": "HTMLModel",
     "state": {
      "_dom_classes": [],
      "_model_module": "@jupyter-widgets/controls",
      "_model_module_version": "1.5.0",
      "_model_name": "HTMLModel",
      "_view_count": null,
      "_view_module": "@jupyter-widgets/controls",
      "_view_module_version": "1.5.0",
      "_view_name": "HTMLView",
      "description": "",
      "description_tooltip": null,
      "layout": "IPY_MODEL_c155fb941e024562be6bfc68dd0298fe",
      "placeholder": "​",
      "style": "IPY_MODEL_87dcfc7edcee40919bce5f9cda840635",
      "value": " 79/79 [1:00:48&lt;00:00, 57.24s/it]"
     }
    },
    "d449e2561b924f03b9c6eccb4a18701c": {
     "model_module": "@jupyter-widgets/controls",
     "model_module_version": "1.5.0",
     "model_name": "DescriptionStyleModel",
     "state": {
      "_model_module": "@jupyter-widgets/controls",
      "_model_module_version": "1.5.0",
      "_model_name": "DescriptionStyleModel",
      "_view_count": null,
      "_view_module": "@jupyter-widgets/base",
      "_view_module_version": "1.2.0",
      "_view_name": "StyleView",
      "description_width": ""
     }
    },
    "d4be1d4d4e9d4de8a4b757e2781e6d64": {
     "model_module": "@jupyter-widgets/controls",
     "model_module_version": "1.5.0",
     "model_name": "ProgressStyleModel",
     "state": {
      "_model_module": "@jupyter-widgets/controls",
      "_model_module_version": "1.5.0",
      "_model_name": "ProgressStyleModel",
      "_view_count": null,
      "_view_module": "@jupyter-widgets/base",
      "_view_module_version": "1.2.0",
      "_view_name": "StyleView",
      "bar_color": null,
      "description_width": ""
     }
    },
    "dc305158eb60468d9b5de825c40a4568": {
     "model_module": "@jupyter-widgets/controls",
     "model_module_version": "1.5.0",
     "model_name": "DescriptionStyleModel",
     "state": {
      "_model_module": "@jupyter-widgets/controls",
      "_model_module_version": "1.5.0",
      "_model_name": "DescriptionStyleModel",
      "_view_count": null,
      "_view_module": "@jupyter-widgets/base",
      "_view_module_version": "1.2.0",
      "_view_name": "StyleView",
      "description_width": ""
     }
    },
    "df8925ae173a4143baa87037775ca5bc": {
     "model_module": "@jupyter-widgets/controls",
     "model_module_version": "1.5.0",
     "model_name": "HTMLModel",
     "state": {
      "_dom_classes": [],
      "_model_module": "@jupyter-widgets/controls",
      "_model_module_version": "1.5.0",
      "_model_name": "HTMLModel",
      "_view_count": null,
      "_view_module": "@jupyter-widgets/controls",
      "_view_module_version": "1.5.0",
      "_view_name": "HTMLView",
      "description": "",
      "description_tooltip": null,
      "layout": "IPY_MODEL_c824e62ecaa54cbe9d4c4a0b9088b72c",
      "placeholder": "​",
      "style": "IPY_MODEL_dc305158eb60468d9b5de825c40a4568",
      "value": " 7/7 [50:48&lt;00:00, 331.00s/it]"
     }
    },
    "e3924c95240146e4a35cc0d4b88c57f3": {
     "model_module": "@jupyter-widgets/controls",
     "model_module_version": "1.5.0",
     "model_name": "DescriptionStyleModel",
     "state": {
      "_model_module": "@jupyter-widgets/controls",
      "_model_module_version": "1.5.0",
      "_model_name": "DescriptionStyleModel",
      "_view_count": null,
      "_view_module": "@jupyter-widgets/base",
      "_view_module_version": "1.2.0",
      "_view_name": "StyleView",
      "description_width": ""
     }
    },
    "e47c0b32406d400db527c36e6e596c37": {
     "model_module": "@jupyter-widgets/base",
     "model_module_version": "1.2.0",
     "model_name": "LayoutModel",
     "state": {
      "_model_module": "@jupyter-widgets/base",
      "_model_module_version": "1.2.0",
      "_model_name": "LayoutModel",
      "_view_count": null,
      "_view_module": "@jupyter-widgets/base",
      "_view_module_version": "1.2.0",
      "_view_name": "LayoutView",
      "align_content": null,
      "align_items": null,
      "align_self": null,
      "border": null,
      "bottom": null,
      "display": null,
      "flex": null,
      "flex_flow": null,
      "grid_area": null,
      "grid_auto_columns": null,
      "grid_auto_flow": null,
      "grid_auto_rows": null,
      "grid_column": null,
      "grid_gap": null,
      "grid_row": null,
      "grid_template_areas": null,
      "grid_template_columns": null,
      "grid_template_rows": null,
      "height": null,
      "justify_content": null,
      "justify_items": null,
      "left": null,
      "margin": null,
      "max_height": null,
      "max_width": null,
      "min_height": null,
      "min_width": null,
      "object_fit": null,
      "object_position": null,
      "order": null,
      "overflow": null,
      "overflow_x": null,
      "overflow_y": null,
      "padding": null,
      "right": null,
      "top": null,
      "visibility": null,
      "width": null
     }
    },
    "e482958976a549bbbac3d459e234d210": {
     "model_module": "@jupyter-widgets/controls",
     "model_module_version": "1.5.0",
     "model_name": "ProgressStyleModel",
     "state": {
      "_model_module": "@jupyter-widgets/controls",
      "_model_module_version": "1.5.0",
      "_model_name": "ProgressStyleModel",
      "_view_count": null,
      "_view_module": "@jupyter-widgets/base",
      "_view_module_version": "1.2.0",
      "_view_name": "StyleView",
      "bar_color": null,
      "description_width": ""
     }
    },
    "eb5f05de6d5247d9a5bdef2b64c51aa4": {
     "model_module": "@jupyter-widgets/controls",
     "model_module_version": "1.5.0",
     "model_name": "FloatProgressModel",
     "state": {
      "_dom_classes": [],
      "_model_module": "@jupyter-widgets/controls",
      "_model_module_version": "1.5.0",
      "_model_name": "FloatProgressModel",
      "_view_count": null,
      "_view_module": "@jupyter-widgets/controls",
      "_view_module_version": "1.5.0",
      "_view_name": "ProgressView",
      "bar_style": "",
      "description": "",
      "description_tooltip": null,
      "layout": "IPY_MODEL_9eede1d914f848a898597cc2f68063f0",
      "max": 7,
      "min": 0,
      "orientation": "horizontal",
      "style": "IPY_MODEL_24a1d454137a4e59becc5d23d9ba13ff",
      "value": 7
     }
    },
    "ecfd645ccac747a5a57929dc95aa1961": {
     "model_module": "@jupyter-widgets/controls",
     "model_module_version": "1.5.0",
     "model_name": "HTMLModel",
     "state": {
      "_dom_classes": [],
      "_model_module": "@jupyter-widgets/controls",
      "_model_module_version": "1.5.0",
      "_model_name": "HTMLModel",
      "_view_count": null,
      "_view_module": "@jupyter-widgets/controls",
      "_view_module_version": "1.5.0",
      "_view_name": "HTMLView",
      "description": "",
      "description_tooltip": null,
      "layout": "IPY_MODEL_805f7b2cc29744c0b6ec09b4735dc361",
      "placeholder": "​",
      "style": "IPY_MODEL_e3924c95240146e4a35cc0d4b88c57f3",
      "value": "Processing:  94%"
     }
    },
    "f13e0fe8fb6a4a38bfcd71520c7811e4": {
     "model_module": "@jupyter-widgets/base",
     "model_module_version": "1.2.0",
     "model_name": "LayoutModel",
     "state": {
      "_model_module": "@jupyter-widgets/base",
      "_model_module_version": "1.2.0",
      "_model_name": "LayoutModel",
      "_view_count": null,
      "_view_module": "@jupyter-widgets/base",
      "_view_module_version": "1.2.0",
      "_view_name": "LayoutView",
      "align_content": null,
      "align_items": null,
      "align_self": null,
      "border": null,
      "bottom": null,
      "display": null,
      "flex": null,
      "flex_flow": null,
      "grid_area": null,
      "grid_auto_columns": null,
      "grid_auto_flow": null,
      "grid_auto_rows": null,
      "grid_column": null,
      "grid_gap": null,
      "grid_row": null,
      "grid_template_areas": null,
      "grid_template_columns": null,
      "grid_template_rows": null,
      "height": null,
      "justify_content": null,
      "justify_items": null,
      "left": null,
      "margin": null,
      "max_height": null,
      "max_width": null,
      "min_height": null,
      "min_width": null,
      "object_fit": null,
      "object_position": null,
      "order": null,
      "overflow": null,
      "overflow_x": null,
      "overflow_y": null,
      "padding": null,
      "right": null,
      "top": null,
      "visibility": null,
      "width": null
     }
    },
    "f22b2634146e44fd90aa478c0426b371": {
     "model_module": "@jupyter-widgets/controls",
     "model_module_version": "1.5.0",
     "model_name": "DescriptionStyleModel",
     "state": {
      "_model_module": "@jupyter-widgets/controls",
      "_model_module_version": "1.5.0",
      "_model_name": "DescriptionStyleModel",
      "_view_count": null,
      "_view_module": "@jupyter-widgets/base",
      "_view_module_version": "1.2.0",
      "_view_name": "StyleView",
      "description_width": ""
     }
    },
    "f6ae3e7055c348e68ee07ea16e7732a0": {
     "model_module": "@jupyter-widgets/controls",
     "model_module_version": "1.5.0",
     "model_name": "HBoxModel",
     "state": {
      "_dom_classes": [],
      "_model_module": "@jupyter-widgets/controls",
      "_model_module_version": "1.5.0",
      "_model_name": "HBoxModel",
      "_view_count": null,
      "_view_module": "@jupyter-widgets/controls",
      "_view_module_version": "1.5.0",
      "_view_name": "HBoxView",
      "box_style": "",
      "children": [
       "IPY_MODEL_8aff2d5e6a6d4718b9eab0851b4156f9",
       "IPY_MODEL_ff9884ee37b7455b8d78be3d738f1b82",
       "IPY_MODEL_cee30df593cb4380b1831e87e3a0791e"
      ],
      "layout": "IPY_MODEL_157387d7e94445fb982f596ffea9117c"
     }
    },
    "fb2f7ae7ad5647f291a132c7ab6074d7": {
     "model_module": "@jupyter-widgets/controls",
     "model_module_version": "1.5.0",
     "model_name": "DescriptionStyleModel",
     "state": {
      "_model_module": "@jupyter-widgets/controls",
      "_model_module_version": "1.5.0",
      "_model_name": "DescriptionStyleModel",
      "_view_count": null,
      "_view_module": "@jupyter-widgets/base",
      "_view_module_version": "1.2.0",
      "_view_name": "StyleView",
      "description_width": ""
     }
    },
    "fc09c5ae6634466888993ca4f2782128": {
     "model_module": "@jupyter-widgets/base",
     "model_module_version": "1.2.0",
     "model_name": "LayoutModel",
     "state": {
      "_model_module": "@jupyter-widgets/base",
      "_model_module_version": "1.2.0",
      "_model_name": "LayoutModel",
      "_view_count": null,
      "_view_module": "@jupyter-widgets/base",
      "_view_module_version": "1.2.0",
      "_view_name": "LayoutView",
      "align_content": null,
      "align_items": null,
      "align_self": null,
      "border": null,
      "bottom": null,
      "display": null,
      "flex": null,
      "flex_flow": null,
      "grid_area": null,
      "grid_auto_columns": null,
      "grid_auto_flow": null,
      "grid_auto_rows": null,
      "grid_column": null,
      "grid_gap": null,
      "grid_row": null,
      "grid_template_areas": null,
      "grid_template_columns": null,
      "grid_template_rows": null,
      "height": null,
      "justify_content": null,
      "justify_items": null,
      "left": null,
      "margin": null,
      "max_height": null,
      "max_width": null,
      "min_height": null,
      "min_width": null,
      "object_fit": null,
      "object_position": null,
      "order": null,
      "overflow": null,
      "overflow_x": null,
      "overflow_y": null,
      "padding": null,
      "right": null,
      "top": null,
      "visibility": null,
      "width": null
     }
    },
    "ff9884ee37b7455b8d78be3d738f1b82": {
     "model_module": "@jupyter-widgets/controls",
     "model_module_version": "1.5.0",
     "model_name": "FloatProgressModel",
     "state": {
      "_dom_classes": [],
      "_model_module": "@jupyter-widgets/controls",
      "_model_module_version": "1.5.0",
      "_model_name": "FloatProgressModel",
      "_view_count": null,
      "_view_module": "@jupyter-widgets/controls",
      "_view_module_version": "1.5.0",
      "_view_name": "ProgressView",
      "bar_style": "",
      "description": "",
      "description_tooltip": null,
      "layout": "IPY_MODEL_2626b01b818a49dea771f9e35c61ff71",
      "max": 79,
      "min": 0,
      "orientation": "horizontal",
      "style": "IPY_MODEL_e482958976a549bbbac3d459e234d210",
      "value": 79
     }
    }
   }
  }
 },
 "nbformat": 4,
 "nbformat_minor": 0
}
