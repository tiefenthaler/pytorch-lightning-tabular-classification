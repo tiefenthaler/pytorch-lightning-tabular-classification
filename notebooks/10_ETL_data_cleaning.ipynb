{
 "cells": [
  {
   "cell_type": "code",
   "execution_count": 1,
   "metadata": {},
   "outputs": [],
   "source": [
    "import numpy as np\n",
    "import pandas as pd\n",
    "import matplotlib.pyplot as plt\n",
    "import seaborn as sns\n",
    "\n",
    "import os\n",
    "import re\n",
    "import nbconvert\n",
    "from IPython.display import display, HTML, display_html\n",
    "\n",
    "# import custom functions\n",
    "import sys\n",
    "sys.path.append('/Users/dat/Library/CloudStorage/OneDrive-foryouandyourcustomers/GitHub/AutomatedPackagingCategories_Showcase/ml_packaging_classification/src')\n",
    "import utils\n",
    "\n",
    "# set formatting\n",
    "pd.set_option('display.max_columns', 100)\n",
    "pd.set_option('display.max_rows', 100)\n",
    "\n",
    "# ignore warnings\n",
    "import warnings\n",
    "warnings.filterwarnings('ignore')\n",
    "\n",
    "\n",
    "SEED = 42"
   ]
  },
  {
   "attachments": {},
   "cell_type": "markdown",
   "metadata": {},
   "source": [
    "# Clean raw data"
   ]
  },
  {
   "cell_type": "code",
   "execution_count": 2,
   "metadata": {},
   "outputs": [],
   "source": [
    "df_raw = pd.read_csv('../../data/data_showcase.csv', sep='\\t')"
   ]
  },
  {
   "cell_type": "code",
   "execution_count": 3,
   "metadata": {},
   "outputs": [
    {
     "name": "stdout",
     "output_type": "stream",
     "text": [
      "<class 'pandas.core.frame.DataFrame'>\n",
      "RangeIndex: 90035 entries, 0 to 90034\n",
      "Data columns (total 15 columns):\n",
      " #   Column                   Non-Null Count  Dtype  \n",
      "---  ------                   --------------  -----  \n",
      " 0   Product Area             90035 non-null  object \n",
      " 1   Core Segment             90035 non-null  object \n",
      " 2   Brand                    90035 non-null  object \n",
      " 3   Material Number          90035 non-null  int64  \n",
      " 4   Material No Text         90035 non-null  object \n",
      " 5   Component                90035 non-null  object \n",
      " 6   Material Description     90035 non-null  object \n",
      " 7   Packaging Code           90035 non-null  object \n",
      " 8   Material Characteristic  90035 non-null  object \n",
      " 9   Material Weight          82545 non-null  float64\n",
      " 10  Column 21                90035 non-null  float64\n",
      " 11  Weight measure           82545 non-null  object \n",
      " 12  Packaging Category       89262 non-null  object \n",
      " 13  Manufactoring Location   90035 non-null  object \n",
      " 14  Column 43                85671 non-null  float64\n",
      "dtypes: float64(3), int64(1), object(11)\n",
      "memory usage: 10.3+ MB\n"
     ]
    }
   ],
   "source": [
    "df_raw.info()"
   ]
  },
  {
   "cell_type": "code",
   "execution_count": 4,
   "metadata": {},
   "outputs": [
    {
     "data": {
      "text/html": [
       "<div>\n",
       "<style scoped>\n",
       "    .dataframe tbody tr th:only-of-type {\n",
       "        vertical-align: middle;\n",
       "    }\n",
       "\n",
       "    .dataframe tbody tr th {\n",
       "        vertical-align: top;\n",
       "    }\n",
       "\n",
       "    .dataframe thead th {\n",
       "        text-align: right;\n",
       "    }\n",
       "</style>\n",
       "<table border=\"1\" class=\"dataframe\">\n",
       "  <thead>\n",
       "    <tr style=\"text-align: right;\">\n",
       "      <th></th>\n",
       "      <th>Material Number</th>\n",
       "      <th>Material Weight</th>\n",
       "      <th>Column 21</th>\n",
       "      <th>Column 43</th>\n",
       "    </tr>\n",
       "  </thead>\n",
       "  <tbody>\n",
       "    <tr>\n",
       "      <th>count</th>\n",
       "      <td>9.003500e+04</td>\n",
       "      <td>8.254500e+04</td>\n",
       "      <td>90035.000000</td>\n",
       "      <td>8.567100e+04</td>\n",
       "    </tr>\n",
       "    <tr>\n",
       "      <th>mean</th>\n",
       "      <td>5.482603e+07</td>\n",
       "      <td>4.581777e+02</td>\n",
       "      <td>2.674080</td>\n",
       "      <td>4.941166e+04</td>\n",
       "    </tr>\n",
       "    <tr>\n",
       "      <th>std</th>\n",
       "      <td>2.614605e+07</td>\n",
       "      <td>2.995114e+04</td>\n",
       "      <td>15.922722</td>\n",
       "      <td>2.016637e+05</td>\n",
       "    </tr>\n",
       "    <tr>\n",
       "      <th>min</th>\n",
       "      <td>1.000308e+07</td>\n",
       "      <td>0.000000e+00</td>\n",
       "      <td>0.000000</td>\n",
       "      <td>-3.014549e+04</td>\n",
       "    </tr>\n",
       "    <tr>\n",
       "      <th>25%</th>\n",
       "      <td>3.219510e+07</td>\n",
       "      <td>8.100000e-01</td>\n",
       "      <td>0.000000</td>\n",
       "      <td>1.722010e+03</td>\n",
       "    </tr>\n",
       "    <tr>\n",
       "      <th>50%</th>\n",
       "      <td>5.478846e+07</td>\n",
       "      <td>5.000000e+00</td>\n",
       "      <td>0.000000</td>\n",
       "      <td>7.460691e+03</td>\n",
       "    </tr>\n",
       "    <tr>\n",
       "      <th>75%</th>\n",
       "      <td>7.753107e+07</td>\n",
       "      <td>2.570000e+01</td>\n",
       "      <td>0.000000</td>\n",
       "      <td>2.997832e+04</td>\n",
       "    </tr>\n",
       "    <tr>\n",
       "      <th>max</th>\n",
       "      <td>9.999846e+07</td>\n",
       "      <td>2.300000e+06</td>\n",
       "      <td>328.000000</td>\n",
       "      <td>1.075813e+07</td>\n",
       "    </tr>\n",
       "  </tbody>\n",
       "</table>\n",
       "</div>"
      ],
      "text/plain": [
       "       Material Number  Material Weight     Column 21     Column 43\n",
       "count     9.003500e+04     8.254500e+04  90035.000000  8.567100e+04\n",
       "mean      5.482603e+07     4.581777e+02      2.674080  4.941166e+04\n",
       "std       2.614605e+07     2.995114e+04     15.922722  2.016637e+05\n",
       "min       1.000308e+07     0.000000e+00      0.000000 -3.014549e+04\n",
       "25%       3.219510e+07     8.100000e-01      0.000000  1.722010e+03\n",
       "50%       5.478846e+07     5.000000e+00      0.000000  7.460691e+03\n",
       "75%       7.753107e+07     2.570000e+01      0.000000  2.997832e+04\n",
       "max       9.999846e+07     2.300000e+06    328.000000  1.075813e+07"
      ]
     },
     "execution_count": 4,
     "metadata": {},
     "output_type": "execute_result"
    }
   ],
   "source": [
    "df_raw.describe()"
   ]
  },
  {
   "cell_type": "code",
   "execution_count": 5,
   "metadata": {},
   "outputs": [],
   "source": [
    "df_cleaned = df_raw.rename(columns={\n",
    "    'Product Area': 'product_area',\n",
    "    'Core Segment': 'core_segment',\n",
    "    'Brand': 'brand',\n",
    "    'Material Number': 'material_number',\n",
    "    'Material No Text': 'material_number_text',\n",
    "    'Component': 'component',\n",
    "    'Material Description': 'component_text',\n",
    "    'Packaging Code': 'packaging_code',\n",
    "    'Material Characteristic': 'characteristic_value',\n",
    "    'Material Weight': 'material_weight',\n",
    "    'Column 21': 'col_21',\n",
    "    'Weight measure': 'weight_measure',\n",
    "    'Packaging Category': 'packaging_category',\n",
    "    'Manufactoring Location': 'manufactoring_location',\n",
    "    'Column 43': 'col_43'\n",
    "})"
   ]
  },
  {
   "cell_type": "code",
   "execution_count": 6,
   "metadata": {},
   "outputs": [
    {
     "data": {
      "text/plain": [
       "P04 Hanger/ Clip                  13543\n",
       "P03 Tube                          11687\n",
       "B02 Blister and Insert Card        8744\n",
       "P06 – TightPack                    8296\n",
       "C01 - Folding carton               8219\n",
       "B01 - Blister and sealed blist     7912\n",
       "Unassigned                         5793\n",
       "C12 - Corrugated carton            3872\n",
       "C09 - Paperboard pouch             3478\n",
       "C03 Trap Folding Card              2188\n",
       "P05 Plastic Pouch                  1904\n",
       "P01 - Plastic bag with header      1850\n",
       "P08 Plastic Cassette               1708\n",
       "P10 - Shrink film and insert o     1499\n",
       "P07 Plastic Box                    1491\n",
       "U0 – Unpacked                      1407\n",
       "C06 Skincard                       1143\n",
       "C02 Trap Card                       804\n",
       "NaN                                 773\n",
       "C07 Cardb. Sleeve w - w/o Shr.      676\n",
       "C10 - Carton cover (Lid box)        652\n",
       "-                                   492\n",
       "P02 Case                            485\n",
       "C05 Tray Packer                     431\n",
       "C08 - Cardboard hanger w/o bag      400\n",
       "C13 Envelope                        295\n",
       "D1 - Countertop display             150\n",
       "P09 Metal Cassette                   50\n",
       "C11 - Carton tube with or w/o        44\n",
       "H1 Wooden box                        16\n",
       "F1 Fabric packaging                  15\n",
       "C04 Book packaging                   10\n",
       "No Packaging                          8\n",
       "Name: packaging_category, dtype: int64"
      ]
     },
     "execution_count": 6,
     "metadata": {},
     "output_type": "execute_result"
    }
   ],
   "source": [
    "df_cleaned['packaging_category'].value_counts(dropna=False)"
   ]
  },
  {
   "cell_type": "code",
   "execution_count": 7,
   "metadata": {},
   "outputs": [],
   "source": [
    "# clean rows\n",
    "\n",
    "df_cleaned['packaging_category'].mask(\n",
    "    df_cleaned['packaging_category'].isin(['-', np.nan]), 'Unassigned', inplace=True\n",
    ")\n",
    "\n",
    "df_cleaned['packaging_category'].mask(\n",
    "    df_cleaned['packaging_category'].isin(['No Packaging']), 'Unpacked', inplace=True\n",
    ")\n",
    " \n",
    "# df_cleaned = df_cleaned.loc[\n",
    "#     (df_cleaned.weight_measure == 'G')\n",
    "# ]\n"
   ]
  },
  {
   "cell_type": "code",
   "execution_count": 8,
   "metadata": {},
   "outputs": [],
   "source": [
    "#  sort and filter columns\n",
    "df_sub = df_cleaned[[\n",
    "    'material_number',\n",
    "    'material_number_text',\n",
    "    'brand',\n",
    "    'product_area',\n",
    "    'core_segment',\n",
    "    'component',\n",
    "    'component_text',\n",
    "    'manufactoring_location',\n",
    "    'characteristic_value',\n",
    "    'material_weight', \n",
    "    # 'weight_measure', # ignore since most values are 'G', 'NaN' might be an issue\n",
    "    'packaging_code',\n",
    "    'packaging_category',\n",
    "    # 'col_21'\n",
    "    # 'col_43'\n",
    "]]"
   ]
  },
  {
   "cell_type": "code",
   "execution_count": 9,
   "metadata": {},
   "outputs": [
    {
     "data": {
      "text/html": [
       "<div>\n",
       "<style scoped>\n",
       "    .dataframe tbody tr th:only-of-type {\n",
       "        vertical-align: middle;\n",
       "    }\n",
       "\n",
       "    .dataframe tbody tr th {\n",
       "        vertical-align: top;\n",
       "    }\n",
       "\n",
       "    .dataframe thead th {\n",
       "        text-align: right;\n",
       "    }\n",
       "</style>\n",
       "<table border=\"1\" class=\"dataframe\">\n",
       "  <thead>\n",
       "    <tr style=\"text-align: right;\">\n",
       "      <th></th>\n",
       "      <th>material_number</th>\n",
       "      <th>material_number_text</th>\n",
       "      <th>brand</th>\n",
       "      <th>product_area</th>\n",
       "      <th>core_segment</th>\n",
       "      <th>component</th>\n",
       "      <th>component_text</th>\n",
       "      <th>manufactoring_location</th>\n",
       "      <th>characteristic_value</th>\n",
       "      <th>material_weight</th>\n",
       "      <th>packaging_code</th>\n",
       "      <th>packaging_category</th>\n",
       "    </tr>\n",
       "  </thead>\n",
       "  <tbody>\n",
       "    <tr>\n",
       "      <th>0</th>\n",
       "      <td>45733343</td>\n",
       "      <td>Counter Display</td>\n",
       "      <td>BOT</td>\n",
       "      <td>PA5</td>\n",
       "      <td>Metal Grinding</td>\n",
       "      <td>6035765C21</td>\n",
       "      <td>Corrugated carton</td>\n",
       "      <td>Distribution Center</td>\n",
       "      <td>CORRUGATED</td>\n",
       "      <td>85.00</td>\n",
       "      <td>PCode_664273</td>\n",
       "      <td>D1 - Countertop display</td>\n",
       "    </tr>\n",
       "    <tr>\n",
       "      <th>1</th>\n",
       "      <td>45733343</td>\n",
       "      <td>Counter Display</td>\n",
       "      <td>BOT</td>\n",
       "      <td>PA5</td>\n",
       "      <td>Metal Grinding</td>\n",
       "      <td>6035940565</td>\n",
       "      <td>Label               SB</td>\n",
       "      <td>Distribution Center</td>\n",
       "      <td>WOOD FREE</td>\n",
       "      <td>0.54</td>\n",
       "      <td>PCode_560426</td>\n",
       "      <td>D1 - Countertop display</td>\n",
       "    </tr>\n",
       "    <tr>\n",
       "      <th>2</th>\n",
       "      <td>45733343</td>\n",
       "      <td>Counter Display</td>\n",
       "      <td>BOT</td>\n",
       "      <td>PA5</td>\n",
       "      <td>Metal Grinding</td>\n",
       "      <td>6035822768</td>\n",
       "      <td>Tight -Pack label   RB -  1ER</td>\n",
       "      <td>Distribution Center</td>\n",
       "      <td>MCB/GT2</td>\n",
       "      <td>22.90</td>\n",
       "      <td>PCode_481002</td>\n",
       "      <td>D1 - Countertop display</td>\n",
       "    </tr>\n",
       "    <tr>\n",
       "      <th>3</th>\n",
       "      <td>45733343</td>\n",
       "      <td>Counter Display</td>\n",
       "      <td>BOT</td>\n",
       "      <td>PA5</td>\n",
       "      <td>Metal Grinding</td>\n",
       "      <td>6035822768</td>\n",
       "      <td>Tight -Pack label   RB -  1ER</td>\n",
       "      <td>Distribution Center</td>\n",
       "      <td>MCB/GT2</td>\n",
       "      <td>22.90</td>\n",
       "      <td>PCode_481002</td>\n",
       "      <td>D1 - Countertop display</td>\n",
       "    </tr>\n",
       "    <tr>\n",
       "      <th>4</th>\n",
       "      <td>45733343</td>\n",
       "      <td>Counter Display</td>\n",
       "      <td>BOT</td>\n",
       "      <td>PA5</td>\n",
       "      <td>Metal Grinding</td>\n",
       "      <td>6035765P54</td>\n",
       "      <td>Corrugated carton</td>\n",
       "      <td>Distribution Center</td>\n",
       "      <td>CORRUGATED</td>\n",
       "      <td>85.00</td>\n",
       "      <td>PCode_664273</td>\n",
       "      <td>D1 - Countertop display</td>\n",
       "    </tr>\n",
       "  </tbody>\n",
       "</table>\n",
       "</div>"
      ],
      "text/plain": [
       "   material_number material_number_text brand product_area    core_segment  \\\n",
       "0         45733343      Counter Display   BOT          PA5  Metal Grinding   \n",
       "1         45733343      Counter Display   BOT          PA5  Metal Grinding   \n",
       "2         45733343      Counter Display   BOT          PA5  Metal Grinding   \n",
       "3         45733343      Counter Display   BOT          PA5  Metal Grinding   \n",
       "4         45733343      Counter Display   BOT          PA5  Metal Grinding   \n",
       "\n",
       "    component                 component_text manufactoring_location  \\\n",
       "0  6035765C21              Corrugated carton    Distribution Center   \n",
       "1  6035940565         Label               SB    Distribution Center   \n",
       "2  6035822768  Tight -Pack label   RB -  1ER    Distribution Center   \n",
       "3  6035822768  Tight -Pack label   RB -  1ER    Distribution Center   \n",
       "4  6035765P54              Corrugated carton    Distribution Center   \n",
       "\n",
       "  characteristic_value  material_weight packaging_code  \\\n",
       "0           CORRUGATED            85.00   PCode_664273   \n",
       "1            WOOD FREE             0.54   PCode_560426   \n",
       "2              MCB/GT2            22.90   PCode_481002   \n",
       "3              MCB/GT2            22.90   PCode_481002   \n",
       "4           CORRUGATED            85.00   PCode_664273   \n",
       "\n",
       "        packaging_category  \n",
       "0  D1 - Countertop display  \n",
       "1  D1 - Countertop display  \n",
       "2  D1 - Countertop display  \n",
       "3  D1 - Countertop display  \n",
       "4  D1 - Countertop display  "
      ]
     },
     "execution_count": 9,
     "metadata": {},
     "output_type": "execute_result"
    }
   ],
   "source": [
    "df_sub.head()"
   ]
  },
  {
   "cell_type": "code",
   "execution_count": 10,
   "metadata": {},
   "outputs": [],
   "source": [
    "df_ml = df_sub[df_sub.packaging_category != 'Unassigned']\n",
    "df_no_packaging_categories = df_sub[df_sub.packaging_category == 'Unassigned']"
   ]
  },
  {
   "cell_type": "code",
   "execution_count": 11,
   "metadata": {},
   "outputs": [
    {
     "data": {
      "text/plain": [
       "(82977, 12)"
      ]
     },
     "execution_count": 11,
     "metadata": {},
     "output_type": "execute_result"
    }
   ],
   "source": [
    "df_ml.shape"
   ]
  },
  {
   "cell_type": "code",
   "execution_count": 12,
   "metadata": {},
   "outputs": [
    {
     "data": {
      "text/plain": [
       "(7058, 12)"
      ]
     },
     "execution_count": 12,
     "metadata": {},
     "output_type": "execute_result"
    }
   ],
   "source": [
    "df_no_packaging_categories.shape"
   ]
  },
  {
   "cell_type": "code",
   "execution_count": 13,
   "metadata": {},
   "outputs": [],
   "source": [
    "df_ml.to_csv('../../data/output/df_ml.csv', sep='\\t', index=False, header=True)"
   ]
  },
  {
   "cell_type": "code",
   "execution_count": 14,
   "metadata": {},
   "outputs": [],
   "source": [
    "df_no_packaging_categories.to_csv('../../data/output/df_inf.csv', sep='\\t', index=False, header=True)"
   ]
  },
  {
   "cell_type": "code",
   "execution_count": null,
   "metadata": {},
   "outputs": [],
   "source": []
  }
 ],
 "metadata": {
  "kernelspec": {
   "display_name": "Python 3.9.13 ('py39_bopt_acpackaging')",
   "language": "python",
   "name": "python3"
  },
  "language_info": {
   "codemirror_mode": {
    "name": "ipython",
    "version": 3
   },
   "file_extension": ".py",
   "mimetype": "text/x-python",
   "name": "python",
   "nbconvert_exporter": "python",
   "pygments_lexer": "ipython3",
   "version": "3.10.11"
  },
  "orig_nbformat": 4,
  "vscode": {
   "interpreter": {
    "hash": "25500324c997461312d302dc845ff6d6f05c10e502b314035685f7b576362db1"
   }
  }
 },
 "nbformat": 4,
 "nbformat_minor": 2
}
