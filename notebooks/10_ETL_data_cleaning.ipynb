{
 "cells": [
  {
   "cell_type": "code",
   "execution_count": null,
   "metadata": {},
   "outputs": [],
   "source": [
    "import numpy as np\n",
    "import pandas as pd\n",
    "import yaml\n",
    "\n",
    "with open(\"../env_vars.yml\", \"r\") as file:\n",
    "    config = yaml.safe_load(file)\n",
    "\n",
    "import warnings\n",
    "\n",
    "warnings.filterwarnings(\"ignore\")\n",
    "\n",
    "# set formatting\n",
    "pd.set_option(\"display.max_columns\", 100)\n",
    "pd.set_option(\"display.max_rows\", 100)"
   ]
  },
  {
   "attachments": {},
   "cell_type": "markdown",
   "metadata": {},
   "source": [
    "# Clean raw data"
   ]
  },
  {
   "cell_type": "code",
   "execution_count": null,
   "metadata": {},
   "outputs": [],
   "source": [
    "# NOTE: Read static data\n",
    "df_raw = pd.read_csv(f\"{config['data_directory']}/data_showcase.csv\", sep=\"\\t\")"
   ]
  },
  {
   "cell_type": "code",
   "execution_count": 3,
   "metadata": {},
   "outputs": [
    {
     "name": "stdout",
     "output_type": "stream",
     "text": [
      "<class 'pandas.core.frame.DataFrame'>\n",
      "RangeIndex: 90035 entries, 0 to 90034\n",
      "Data columns (total 15 columns):\n",
      " #   Column                   Non-Null Count  Dtype  \n",
      "---  ------                   --------------  -----  \n",
      " 0   Product Area             90035 non-null  object \n",
      " 1   Core Segment             90035 non-null  object \n",
      " 2   Brand                    90035 non-null  object \n",
      " 3   Material Number          90035 non-null  int64  \n",
      " 4   Material No Text         90035 non-null  object \n",
      " 5   Component                90035 non-null  object \n",
      " 6   Material Description     90035 non-null  object \n",
      " 7   Packaging Code           90035 non-null  object \n",
      " 8   Material Characteristic  90035 non-null  object \n",
      " 9   Material Weight          82545 non-null  float64\n",
      " 10  Column 21                90035 non-null  float64\n",
      " 11  Weight measure           82545 non-null  object \n",
      " 12  Packaging Category       88770 non-null  object \n",
      " 13  Manufactoring Location   90035 non-null  object \n",
      " 14  Column 43                85671 non-null  float64\n",
      "dtypes: float64(3), int64(1), object(11)\n",
      "memory usage: 10.3+ MB\n"
     ]
    }
   ],
   "source": [
    "df_raw.info()"
   ]
  },
  {
   "cell_type": "code",
   "execution_count": 4,
   "metadata": {},
   "outputs": [
    {
     "data": {
      "text/html": [
       "<div>\n",
       "<style scoped>\n",
       "    .dataframe tbody tr th:only-of-type {\n",
       "        vertical-align: middle;\n",
       "    }\n",
       "\n",
       "    .dataframe tbody tr th {\n",
       "        vertical-align: top;\n",
       "    }\n",
       "\n",
       "    .dataframe thead th {\n",
       "        text-align: right;\n",
       "    }\n",
       "</style>\n",
       "<table border=\"1\" class=\"dataframe\">\n",
       "  <thead>\n",
       "    <tr style=\"text-align: right;\">\n",
       "      <th></th>\n",
       "      <th>Material Number</th>\n",
       "      <th>Material Weight</th>\n",
       "      <th>Column 21</th>\n",
       "      <th>Column 43</th>\n",
       "    </tr>\n",
       "  </thead>\n",
       "  <tbody>\n",
       "    <tr>\n",
       "      <th>count</th>\n",
       "      <td>9.003500e+04</td>\n",
       "      <td>8.254500e+04</td>\n",
       "      <td>90035.000000</td>\n",
       "      <td>8.567100e+04</td>\n",
       "    </tr>\n",
       "    <tr>\n",
       "      <th>mean</th>\n",
       "      <td>5.509347e+07</td>\n",
       "      <td>4.581777e+02</td>\n",
       "      <td>2.674080</td>\n",
       "      <td>4.941166e+04</td>\n",
       "    </tr>\n",
       "    <tr>\n",
       "      <th>std</th>\n",
       "      <td>2.591986e+07</td>\n",
       "      <td>2.995114e+04</td>\n",
       "      <td>15.922722</td>\n",
       "      <td>2.016637e+05</td>\n",
       "    </tr>\n",
       "    <tr>\n",
       "      <th>min</th>\n",
       "      <td>1.000228e+07</td>\n",
       "      <td>0.000000e+00</td>\n",
       "      <td>0.000000</td>\n",
       "      <td>-3.014549e+04</td>\n",
       "    </tr>\n",
       "    <tr>\n",
       "      <th>25%</th>\n",
       "      <td>3.268354e+07</td>\n",
       "      <td>8.100000e-01</td>\n",
       "      <td>0.000000</td>\n",
       "      <td>1.722010e+03</td>\n",
       "    </tr>\n",
       "    <tr>\n",
       "      <th>50%</th>\n",
       "      <td>5.509066e+07</td>\n",
       "      <td>5.000000e+00</td>\n",
       "      <td>0.000000</td>\n",
       "      <td>7.460691e+03</td>\n",
       "    </tr>\n",
       "    <tr>\n",
       "      <th>75%</th>\n",
       "      <td>7.733171e+07</td>\n",
       "      <td>2.570000e+01</td>\n",
       "      <td>0.000000</td>\n",
       "      <td>2.997832e+04</td>\n",
       "    </tr>\n",
       "    <tr>\n",
       "      <th>max</th>\n",
       "      <td>9.999433e+07</td>\n",
       "      <td>2.300000e+06</td>\n",
       "      <td>328.000000</td>\n",
       "      <td>1.075813e+07</td>\n",
       "    </tr>\n",
       "  </tbody>\n",
       "</table>\n",
       "</div>"
      ],
      "text/plain": [
       "       Material Number  Material Weight     Column 21     Column 43\n",
       "count     9.003500e+04     8.254500e+04  90035.000000  8.567100e+04\n",
       "mean      5.509347e+07     4.581777e+02      2.674080  4.941166e+04\n",
       "std       2.591986e+07     2.995114e+04     15.922722  2.016637e+05\n",
       "min       1.000228e+07     0.000000e+00      0.000000 -3.014549e+04\n",
       "25%       3.268354e+07     8.100000e-01      0.000000  1.722010e+03\n",
       "50%       5.509066e+07     5.000000e+00      0.000000  7.460691e+03\n",
       "75%       7.733171e+07     2.570000e+01      0.000000  2.997832e+04\n",
       "max       9.999433e+07     2.300000e+06    328.000000  1.075813e+07"
      ]
     },
     "execution_count": 4,
     "metadata": {},
     "output_type": "execute_result"
    }
   ],
   "source": [
    "df_raw.describe()"
   ]
  },
  {
   "cell_type": "markdown",
   "metadata": {},
   "source": [
    "## Rename columns for easier handling"
   ]
  },
  {
   "cell_type": "code",
   "execution_count": null,
   "metadata": {},
   "outputs": [],
   "source": [
    "df_cleaned = df_raw.rename(\n",
    "    columns={\n",
    "        \"Product Area\": \"product_area\",\n",
    "        \"Core Segment\": \"core_segment\",\n",
    "        \"Brand\": \"brand\",\n",
    "        \"Material Number\": \"material_number\",\n",
    "        \"Material No Text\": \"material_number_text\",\n",
    "        \"Component\": \"component\",\n",
    "        \"Material Description\": \"component_text\",\n",
    "        \"Packaging Code\": \"packaging_code\",\n",
    "        \"Material Characteristic\": \"characteristic_value\",\n",
    "        \"Material Weight\": \"material_weight\",\n",
    "        \"Column 21\": \"col_21\",\n",
    "        \"Weight measure\": \"weight_measure\",\n",
    "        \"Packaging Category\": \"packaging_category\",\n",
    "        \"Manufactoring Location\": \"manufactoring_location\",\n",
    "        \"Column 43\": \"col_43\",\n",
    "    }\n",
    ")"
   ]
  },
  {
   "cell_type": "markdown",
   "metadata": {},
   "source": [
    "## Clean \"packaging_category\""
   ]
  },
  {
   "cell_type": "code",
   "execution_count": null,
   "metadata": {},
   "outputs": [],
   "source": [
    "# clean rows\n",
    "df_cleaned[\"packaging_category\"].mask(\n",
    "    df_cleaned[\"packaging_category\"].isin([\"-\", np.nan]), \"Unassigned\", inplace=True\n",
    ")\n",
    "df_cleaned[\"packaging_category\"].mask(\n",
    "    df_cleaned[\"packaging_category\"].isin([\"No Packaging\"]), \"Unpacked\", inplace=True\n",
    ")"
   ]
  },
  {
   "cell_type": "markdown",
   "metadata": {},
   "source": [
    "## Create subdataset with only the features we want to use"
   ]
  },
  {
   "cell_type": "code",
   "execution_count": null,
   "metadata": {},
   "outputs": [],
   "source": [
    "#  sort and filter columns\n",
    "df_sub = df_cleaned[\n",
    "    [\n",
    "        \"material_number\",\n",
    "        \"material_number_text\",\n",
    "        \"brand\",\n",
    "        \"product_area\",\n",
    "        \"core_segment\",\n",
    "        \"component\",\n",
    "        \"component_text\",\n",
    "        \"manufactoring_location\",\n",
    "        \"characteristic_value\",\n",
    "        \"material_weight\",\n",
    "        # 'weight_measure', # ignore since most values are 'G', 'NaN' might be an issue\n",
    "        \"packaging_code\",\n",
    "        \"packaging_category\",\n",
    "        # 'col_21'\n",
    "        # 'col_43'\n",
    "    ]\n",
    "]"
   ]
  },
  {
   "cell_type": "code",
   "execution_count": 13,
   "metadata": {},
   "outputs": [
    {
     "data": {
      "text/html": [
       "<div>\n",
       "<style scoped>\n",
       "    .dataframe tbody tr th:only-of-type {\n",
       "        vertical-align: middle;\n",
       "    }\n",
       "\n",
       "    .dataframe tbody tr th {\n",
       "        vertical-align: top;\n",
       "    }\n",
       "\n",
       "    .dataframe thead th {\n",
       "        text-align: right;\n",
       "    }\n",
       "</style>\n",
       "<table border=\"1\" class=\"dataframe\">\n",
       "  <thead>\n",
       "    <tr style=\"text-align: right;\">\n",
       "      <th></th>\n",
       "      <th>material_number</th>\n",
       "      <th>material_number_text</th>\n",
       "      <th>brand</th>\n",
       "      <th>product_area</th>\n",
       "      <th>core_segment</th>\n",
       "      <th>component</th>\n",
       "      <th>component_text</th>\n",
       "      <th>manufactoring_location</th>\n",
       "      <th>characteristic_value</th>\n",
       "      <th>material_weight</th>\n",
       "      <th>packaging_code</th>\n",
       "      <th>packaging_category</th>\n",
       "    </tr>\n",
       "  </thead>\n",
       "  <tbody>\n",
       "    <tr>\n",
       "      <th>0</th>\n",
       "      <td>75116293</td>\n",
       "      <td>Counter Display</td>\n",
       "      <td>BOT</td>\n",
       "      <td>PA5</td>\n",
       "      <td>Metal Grinding</td>\n",
       "      <td>6035765C21</td>\n",
       "      <td>Corrugated carton</td>\n",
       "      <td>Distribution Center</td>\n",
       "      <td>CORRUGATED</td>\n",
       "      <td>85.00</td>\n",
       "      <td>PCode_304109</td>\n",
       "      <td>Countertop display</td>\n",
       "    </tr>\n",
       "    <tr>\n",
       "      <th>1</th>\n",
       "      <td>75116293</td>\n",
       "      <td>Counter Display</td>\n",
       "      <td>BOT</td>\n",
       "      <td>PA5</td>\n",
       "      <td>Metal Grinding</td>\n",
       "      <td>6035940565</td>\n",
       "      <td>Label               SB</td>\n",
       "      <td>Distribution Center</td>\n",
       "      <td>WOOD FREE</td>\n",
       "      <td>0.54</td>\n",
       "      <td>PCode_440854</td>\n",
       "      <td>Countertop display</td>\n",
       "    </tr>\n",
       "    <tr>\n",
       "      <th>2</th>\n",
       "      <td>75116293</td>\n",
       "      <td>Counter Display</td>\n",
       "      <td>BOT</td>\n",
       "      <td>PA5</td>\n",
       "      <td>Metal Grinding</td>\n",
       "      <td>6035822768</td>\n",
       "      <td>Tight -Pack label   RB -  1ER</td>\n",
       "      <td>Distribution Center</td>\n",
       "      <td>MCB/GT2</td>\n",
       "      <td>22.90</td>\n",
       "      <td>PCode_834649</td>\n",
       "      <td>Countertop display</td>\n",
       "    </tr>\n",
       "    <tr>\n",
       "      <th>3</th>\n",
       "      <td>75116293</td>\n",
       "      <td>Counter Display</td>\n",
       "      <td>BOT</td>\n",
       "      <td>PA5</td>\n",
       "      <td>Metal Grinding</td>\n",
       "      <td>6035822768</td>\n",
       "      <td>Tight -Pack label   RB -  1ER</td>\n",
       "      <td>Distribution Center</td>\n",
       "      <td>MCB/GT2</td>\n",
       "      <td>22.90</td>\n",
       "      <td>PCode_834649</td>\n",
       "      <td>Countertop display</td>\n",
       "    </tr>\n",
       "    <tr>\n",
       "      <th>4</th>\n",
       "      <td>75116293</td>\n",
       "      <td>Counter Display</td>\n",
       "      <td>BOT</td>\n",
       "      <td>PA5</td>\n",
       "      <td>Metal Grinding</td>\n",
       "      <td>6035765P54</td>\n",
       "      <td>Corrugated carton</td>\n",
       "      <td>Distribution Center</td>\n",
       "      <td>CORRUGATED</td>\n",
       "      <td>85.00</td>\n",
       "      <td>PCode_304109</td>\n",
       "      <td>Countertop display</td>\n",
       "    </tr>\n",
       "  </tbody>\n",
       "</table>\n",
       "</div>"
      ],
      "text/plain": [
       "   material_number material_number_text brand product_area    core_segment  \\\n",
       "0         75116293      Counter Display   BOT          PA5  Metal Grinding   \n",
       "1         75116293      Counter Display   BOT          PA5  Metal Grinding   \n",
       "2         75116293      Counter Display   BOT          PA5  Metal Grinding   \n",
       "3         75116293      Counter Display   BOT          PA5  Metal Grinding   \n",
       "4         75116293      Counter Display   BOT          PA5  Metal Grinding   \n",
       "\n",
       "    component                 component_text manufactoring_location  \\\n",
       "0  6035765C21              Corrugated carton    Distribution Center   \n",
       "1  6035940565         Label               SB    Distribution Center   \n",
       "2  6035822768  Tight -Pack label   RB -  1ER    Distribution Center   \n",
       "3  6035822768  Tight -Pack label   RB -  1ER    Distribution Center   \n",
       "4  6035765P54              Corrugated carton    Distribution Center   \n",
       "\n",
       "  characteristic_value  material_weight packaging_code  packaging_category  \n",
       "0           CORRUGATED            85.00   PCode_304109  Countertop display  \n",
       "1            WOOD FREE             0.54   PCode_440854  Countertop display  \n",
       "2              MCB/GT2            22.90   PCode_834649  Countertop display  \n",
       "3              MCB/GT2            22.90   PCode_834649  Countertop display  \n",
       "4           CORRUGATED            85.00   PCode_304109  Countertop display  "
      ]
     },
     "execution_count": 13,
     "metadata": {},
     "output_type": "execute_result"
    }
   ],
   "source": [
    "df_sub.head()"
   ]
  },
  {
   "cell_type": "markdown",
   "metadata": {},
   "source": [
    "# Split data into 1. data with packaging categories for machine learning workflow, 2. data without packaging categories to do predictions for."
   ]
  },
  {
   "cell_type": "code",
   "execution_count": null,
   "metadata": {},
   "outputs": [],
   "source": [
    "# Split data into 1. data with packaging categories for machine learning workflow, 2. data without packaging categories to do predictions for.\n",
    "df_ml = df_sub[df_sub.packaging_category != \"Unassigned\"]\n",
    "df_no_packaging_categories = df_sub[df_sub.packaging_category == \"Unassigned\"]\n",
    "\n",
    "print(f\"{df_ml.shape} df_ml shape, data with packaging categories\")\n",
    "print(\n",
    "    f\"{df_no_packaging_categories.shape} df_no_packaging_categories shape, data without packaging categories\"\n",
    ")"
   ]
  },
  {
   "cell_type": "markdown",
   "metadata": {},
   "source": [
    "## Save processed data: 1. data set for machine learning workflow, 2. data to be predicted"
   ]
  },
  {
   "cell_type": "code",
   "execution_count": null,
   "metadata": {},
   "outputs": [],
   "source": [
    "df_ml.to_csv(f\"{config['data_directory']}/output/df_ml.csv\", sep=\"\\t\", index=False, header=True)"
   ]
  },
  {
   "cell_type": "code",
   "execution_count": null,
   "metadata": {},
   "outputs": [],
   "source": [
    "df_no_packaging_categories.to_csv(\n",
    "    f\"{config['data_directory']}/output/df_inf.csv\", sep=\"\\t\", index=False, header=True\n",
    ")"
   ]
  },
  {
   "cell_type": "code",
   "execution_count": null,
   "metadata": {},
   "outputs": [],
   "source": []
  }
 ],
 "metadata": {
  "kernelspec": {
   "display_name": "py_ml_packaging_classification",
   "language": "python",
   "name": "python3"
  },
  "language_info": {
   "codemirror_mode": {
    "name": "ipython",
    "version": 3
   },
   "file_extension": ".py",
   "mimetype": "text/x-python",
   "name": "python",
   "nbconvert_exporter": "python",
   "pygments_lexer": "ipython3",
   "version": "3.11.8"
  },
  "orig_nbformat": 4
 },
 "nbformat": 4,
 "nbformat_minor": 2
}
